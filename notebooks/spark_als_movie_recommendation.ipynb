{
  "nbformat": 4,
  "nbformat_minor": 0,
  "metadata": {
    "colab": {
      "provenance": [],
      "toc_visible": true
    },
    "kernelspec": {
      "name": "python3",
      "display_name": "Python 3"
    }
  },
  "cells": [
    {
      "cell_type": "markdown",
      "metadata": {
        "id": "gw8sWRdFqtYo"
      },
      "source": [
        "# Movie recommendation using ALS in Spark\n",
        "\n",
        "The goal of this project is to use Alternating Least Squares (ALS) in Spark to recommend movies."
      ]
    },
    {
      "cell_type": "markdown",
      "source": [
        "Look at:\n",
        "* Need to minimise overfitting!\n",
        "* https://github.com/recommenders-team/recommenders/blob/main/examples/02_model_collaborative_filtering/als_deep_dive.ipynb"
      ],
      "metadata": {
        "id": "BE5qph8S_4BX"
      }
    },
    {
      "cell_type": "markdown",
      "source": [
        "# Background (placeholder)\n",
        "\n",
        "**Recommendation systems**\n",
        "\n",
        "\n",
        "\n",
        "\n",
        "\n",
        "\n",
        "\n",
        "\n",
        "\n",
        "\n",
        "\n",
        "\n",
        "* Collaborative filtering\n",
        "* ALS matrix factorization\n",
        "\n",
        "**References**\n",
        "*\n"
      ],
      "metadata": {
        "id": "Nn1pwj8n0z0R"
      }
    },
    {
      "cell_type": "markdown",
      "source": [
        "# Train a model (locally)\n",
        "Before training a model in the cloud, a smaller model will be trained locally using PySpark. This will enable validation of the approach."
      ],
      "metadata": {
        "id": "mTrfBULTqYWL"
      }
    },
    {
      "cell_type": "markdown",
      "source": [
        "## Set-up"
      ],
      "metadata": {
        "id": "rhxMysMPO10B"
      }
    },
    {
      "cell_type": "code",
      "metadata": {
        "id": "RrEXZtlCqztr",
        "colab": {
          "base_uri": "https://localhost:8080/"
        },
        "outputId": "fd2aeea3-ef54-414d-dd2f-890a2fbe9614"
      },
      "source": [
        "# Mount Google Drive\n",
        "from google.colab import drive\n",
        "drive.mount('/content/drive')"
      ],
      "execution_count": 1,
      "outputs": [
        {
          "output_type": "stream",
          "name": "stdout",
          "text": [
            "Drive already mounted at /content/drive; to attempt to forcibly remount, call drive.mount(\"/content/drive\", force_remount=True).\n"
          ]
        }
      ]
    },
    {
      "cell_type": "code",
      "source": [
        "# Import dependencies\n",
        "from math import sqrt\n",
        "from matplotlib import pyplot as plt\n",
        "import pandas as pd"
      ],
      "metadata": {
        "id": "F5FIWp_e2a6i"
      },
      "execution_count": 2,
      "outputs": []
    },
    {
      "cell_type": "code",
      "source": [
        "# Create a spark context and session\n",
        "%cd\n",
        "!apt-get update -qq\n",
        "!apt-get install openjdk-8-jdk-headless -qq > /dev/null\n",
        "!tar -xzf '/content/drive/MyDrive/Data science jobs/3. Interview prep/Google Cloud/Dataproc/spark-3.0.1-bin-hadoop2.7.tgz'\n",
        "!pip install -q findspark\n",
        "import os\n",
        "os.environ[\"JAVA_HOME\"] = \"/usr/lib/jvm/java-8-openjdk-amd64\"\n",
        "os.environ[\"SPARK_HOME\"] = \"/root/spark-3.0.1-bin-hadoop2.7\"\n",
        "%cd /content\n",
        "\n",
        "import findspark\n",
        "findspark.init()\n",
        "import pyspark\n",
        "sc = pyspark.SparkContext.getOrCreate()\n",
        "spark = pyspark.sql.SparkSession.builder.getOrCreate()\n",
        "print(sc)\n",
        "print(spark)"
      ],
      "metadata": {
        "colab": {
          "base_uri": "https://localhost:8080/"
        },
        "id": "czQvAqfdiSC3",
        "outputId": "78c89f0a-40f7-484e-8ff5-a109c409f9b5"
      },
      "execution_count": 3,
      "outputs": [
        {
          "output_type": "stream",
          "name": "stdout",
          "text": [
            "/root\n",
            "/content\n",
            "<SparkContext master=local[*] appName=pyspark-shell>\n",
            "<pyspark.sql.session.SparkSession object at 0x7b789a22ad70>\n"
          ]
        }
      ]
    },
    {
      "cell_type": "markdown",
      "metadata": {
        "id": "6ysksD8nSYit"
      },
      "source": [
        "## Training/test data prep\n",
        "\n",
        "**Key observations:**\n",
        "\n",
        "* The dataset consists of 1501 records.\n",
        "\n",
        "* It contains the following four columns: 'userID', 'movieID', 'rating' and 'timestamp'. These are seperated by '::'\n",
        "\n",
        "* Two Spark DataFrames are created. These correspond to training/test data\n",
        "\n",
        "  Note: Data is read into an RDD initially."
      ]
    },
    {
      "cell_type": "code",
      "source": [
        "!wc \"/content/drive/MyDrive/Data science jobs/3. Interview prep/Google Cloud/Dataproc/sample_movielens_ratings.txt\"\n",
        "print(\"\\n\")\n",
        "!head -n 5 \"/content/drive/MyDrive/Data science jobs/3. Interview prep/Google Cloud/Dataproc/sample_movielens_ratings.txt\""
      ],
      "metadata": {
        "colab": {
          "base_uri": "https://localhost:8080/"
        },
        "id": "ocI7igjp_xQY",
        "outputId": "d3750c28-d28c-4a9f-b40d-9c1312a7d5b5"
      },
      "execution_count": 4,
      "outputs": [
        {
          "output_type": "stream",
          "name": "stdout",
          "text": [
            " 1501  1501 32363 /content/drive/MyDrive/Data science jobs/3. Interview prep/Google Cloud/Dataproc/sample_movielens_ratings.txt\n",
            "\n",
            "\n",
            "0::2::3::1424380312\n",
            "0::3::1::1424380312\n",
            "0::5::2::1424380312\n",
            "0::9::4::1424380312\n",
            "0::11::1::1424380312\n"
          ]
        }
      ]
    },
    {
      "cell_type": "code",
      "source": [
        "# Read into RDD\n",
        "records = spark.read.text(\"/content/drive/MyDrive/Data science jobs/3. Interview prep/Google Cloud/Dataproc/sample_movielens_ratings.txt\").rdd\n",
        "display(records.take(1))\n",
        "elements = records.map(lambda row: row.value.split('::')) # Split columns\n",
        "display(elements.take(1))\n",
        "\n",
        "# Create DataFrame using pyspark.sql.Row object\n",
        "from pyspark.sql import Row\n",
        "row_RDD = elements.map(lambda row: Row(userId=int(row[0]), movieId=int(row[1]), rating=float(row[2]), timestamp=int(row[3])))\n",
        "display(row_RDD.take(1))\n",
        "\n",
        "ratings_DF = spark.createDataFrame(row_RDD)\n",
        "print(f\"\\nRows: {ratings_DF.count()}\")\n",
        "ratings_DF.show(5)\n",
        "ratings_DF.printSchema()"
      ],
      "metadata": {
        "colab": {
          "base_uri": "https://localhost:8080/",
          "height": 399
        },
        "id": "XI5BCVG3nI0Z",
        "outputId": "caff04fa-c6a5-4ad5-8a40-f94422de87bd"
      },
      "execution_count": 5,
      "outputs": [
        {
          "output_type": "display_data",
          "data": {
            "text/plain": [
              "[Row(value='0::2::3::1424380312')]"
            ]
          },
          "metadata": {}
        },
        {
          "output_type": "display_data",
          "data": {
            "text/plain": [
              "[['0', '2', '3', '1424380312']]"
            ]
          },
          "metadata": {}
        },
        {
          "output_type": "display_data",
          "data": {
            "text/plain": [
              "[Row(userId=0, movieId=2, rating=3.0, timestamp=1424380312)]"
            ]
          },
          "metadata": {}
        },
        {
          "output_type": "stream",
          "name": "stdout",
          "text": [
            "\n",
            "Rows: 1501\n",
            "+------+-------+------+----------+\n",
            "|userId|movieId|rating| timestamp|\n",
            "+------+-------+------+----------+\n",
            "|     0|      2|   3.0|1424380312|\n",
            "|     0|      3|   1.0|1424380312|\n",
            "|     0|      5|   2.0|1424380312|\n",
            "|     0|      9|   4.0|1424380312|\n",
            "|     0|     11|   1.0|1424380312|\n",
            "+------+-------+------+----------+\n",
            "only showing top 5 rows\n",
            "\n",
            "root\n",
            " |-- userId: long (nullable = true)\n",
            " |-- movieId: long (nullable = true)\n",
            " |-- rating: double (nullable = true)\n",
            " |-- timestamp: long (nullable = true)\n",
            "\n"
          ]
        }
      ]
    },
    {
      "cell_type": "code",
      "source": [
        "# Train/test split\n",
        "(training_DF, valid_DF) = ratings_DF.randomSplit([0.8, 0.2], seed=0)\n",
        "print(f\"Training set rows: {training_DF.count()}\")\n",
        "training_DF.show(5)\n",
        "training_DF.printSchema()\n",
        "print(f\"\\nValidation set rows: {valid_DF.count()}\")\n",
        "valid_DF.show(5)\n",
        "valid_DF.printSchema()\n",
        "\n",
        "# Register tables enabling SQL queries\n",
        "training_DF.createOrReplaceTempView('training_DF')\n",
        "valid_DF.createOrReplaceTempView('valid_DF')"
      ],
      "metadata": {
        "colab": {
          "base_uri": "https://localhost:8080/"
        },
        "id": "hSgw5N7VR4Yy",
        "outputId": "ead087f7-cbe3-4b51-fb6a-9a2b2a1e4a3c"
      },
      "execution_count": 6,
      "outputs": [
        {
          "output_type": "stream",
          "name": "stdout",
          "text": [
            "Training set rows: 1183\n",
            "+------+-------+------+----------+\n",
            "|userId|movieId|rating| timestamp|\n",
            "+------+-------+------+----------+\n",
            "|     0|      2|   3.0|1424380312|\n",
            "|     0|      3|   1.0|1424380312|\n",
            "|     0|      5|   2.0|1424380312|\n",
            "|     0|      9|   4.0|1424380312|\n",
            "|     0|     11|   1.0|1424380312|\n",
            "+------+-------+------+----------+\n",
            "only showing top 5 rows\n",
            "\n",
            "root\n",
            " |-- userId: long (nullable = true)\n",
            " |-- movieId: long (nullable = true)\n",
            " |-- rating: double (nullable = true)\n",
            " |-- timestamp: long (nullable = true)\n",
            "\n",
            "\n",
            "Validation set rows: 318\n",
            "+------+-------+------+----------+\n",
            "|userId|movieId|rating| timestamp|\n",
            "+------+-------+------+----------+\n",
            "|     0|     44|   1.0|1424380312|\n",
            "|     0|     45|   2.0|1424380312|\n",
            "|     0|     55|   1.0|1424380312|\n",
            "|     0|     59|   2.0|1424380312|\n",
            "|     0|     61|   2.0|1424380312|\n",
            "+------+-------+------+----------+\n",
            "only showing top 5 rows\n",
            "\n",
            "root\n",
            " |-- userId: long (nullable = true)\n",
            " |-- movieId: long (nullable = true)\n",
            " |-- rating: double (nullable = true)\n",
            " |-- timestamp: long (nullable = true)\n",
            "\n"
          ]
        }
      ]
    },
    {
      "cell_type": "markdown",
      "metadata": {
        "id": "E-amZql8qtY2"
      },
      "source": [
        "## Baseline\n",
        "\n",
        "**Key observation:**\n",
        "* A naive prediction will be used to construct a baseline model. This will be the mean rating across all movies.\n",
        "\n",
        "* The performance of this baseline model is estimated using root-mean-squared error."
      ]
    },
    {
      "cell_type": "code",
      "source": [
        "# Naive prediction\n",
        "row_baseline = spark.sql(\"SELECT AVG(rating) FROM training_DF\").collect()[0] # query returns dataframe with only 1 row\n",
        "naive_pred = row_baseline[\"avg(rating)\"]\n",
        "print(naive_pred)"
      ],
      "metadata": {
        "colab": {
          "base_uri": "https://localhost:8080/"
        },
        "id": "s_Wgzxkwrf1f",
        "outputId": "f45f5613-9565-480d-aee6-ab4f088ce9aa"
      },
      "execution_count": 7,
      "outputs": [
        {
          "output_type": "stream",
          "name": "stdout",
          "text": [
            "1.7675401521555367\n"
          ]
        }
      ]
    },
    {
      "cell_type": "code",
      "source": [
        "# Squared error for each movie\n",
        "se_RDD = valid_DF.rdd.map(lambda row: Row(se=pow(row['rating']-naive_pred, 2)))\n",
        "se_DF = spark.createDataFrame(se_RDD)\n",
        "se_DF.createOrReplaceTempView(\"se_DF\")\n",
        "se_DF.show(5)\n",
        "\n",
        "# RMSE\n",
        "row_avg = spark.sql(\"SELECT AVG(se) FROM se_DF\").collect()[0] # query returns dataframe with only 1 row\n",
        "baseline_rmse = sqrt(row_avg[\"avg(se)\"])\n",
        "print(f\"Baseline RMSE: {baseline_rmse}\")"
      ],
      "metadata": {
        "colab": {
          "base_uri": "https://localhost:8080/"
        },
        "id": "gTy4q-rtvB4-",
        "outputId": "05d3d2b6-2f2f-47d9-8e81-90051f04fbf1"
      },
      "execution_count": 8,
      "outputs": [
        {
          "output_type": "stream",
          "name": "stdout",
          "text": [
            "+--------------------+\n",
            "|                  se|\n",
            "+--------------------+\n",
            "|  0.5891178851709444|\n",
            "|0.054037580859871016|\n",
            "|  0.5891178851709444|\n",
            "|0.054037580859871016|\n",
            "|0.054037580859871016|\n",
            "+--------------------+\n",
            "only showing top 5 rows\n",
            "\n",
            "Baseline RMSE: 1.1701597619641344\n"
          ]
        }
      ]
    },
    {
      "cell_type": "markdown",
      "metadata": {
        "id": "RPkw5oTDqtY9"
      },
      "source": [
        "## Hyperparameter tuning\n",
        "\n",
        "**Key observations:**\n",
        "\n",
        "* An [ALS estimator](https://spark.apache.org/docs/latest/api/python/reference/api/pyspark.ml.recommendation.ALS.html#pyspark.ml.recommendation.ALS) is created and cross-validation is used to assess different values for 'rank', 'regParam' and 'maxIter'.\n",
        "\n",
        "  Where, 'rank' is the number of latent factors in the model and 'regParam' is the coefficient of the regularisation term.\n",
        "\n",
        "* By default, the CrossValidator returns the model with the highest average cross-validation metric across folds.\n",
        "\n",
        "* Root-mean-squared-error was used to evaluate performance."
      ]
    },
    {
      "cell_type": "code",
      "source": [
        "from pyspark.ml.tuning import CrossValidator, ParamGridBuilder\n",
        "from pyspark.ml.evaluation import RegressionEvaluator\n",
        "from pyspark.ml.recommendation import ALS\n",
        "\n",
        "# ALS estimator\n",
        "als = ALS(maxIter=10,\n",
        "          rank=15,\n",
        "          regParam=0.1,\n",
        "          userCol=\"userId\",\n",
        "          itemCol=\"movieId\",\n",
        "          ratingCol=\"rating\",\n",
        "          nonnegative=True,\n",
        "          coldStartStrategy='drop',\n",
        "          seed=1)\n",
        "\n",
        "# Parameter grid\n",
        "# Source: https://spark.apache.org/docs/latest/api/python/reference/api/pyspark.ml.tuning.ParamGridBuilder.html#pyspark.ml.tuning.ParamGridBuilder\n",
        "param_grid = ParamGridBuilder().addGrid(als.rank, [10]).addGrid(als.regParam, [0.05]).addGrid(als.maxIter, [5]).build()\n",
        "\n",
        "# Regression evaluator\n",
        "# Source: https://spark.apache.org/docs/latest/api/python/reference/api/pyspark.ml.evaluation.RegressionEvaluator.html#pyspark.ml.evaluation.RegressionEvaluator\n",
        "reg_eval = RegressionEvaluator(metricName=\"rmse\",\n",
        "                               labelCol=\"rating\",\n",
        "                               predictionCol=\"prediction\")\n",
        "\n",
        "# k-fold cross validation\n",
        "# Source: https://spark.apache.org/docs/latest/api/python/reference/api/pyspark.ml.tuning.CrossValidator.html\n",
        "kfold_cv = CrossValidator(estimator=als, estimatorParamMaps=param_grid, evaluator=reg_eval, numFolds=5)\n",
        "cv_model = kfold_cv.fit(training_DF)"
      ],
      "metadata": {
        "id": "lPHGV5sQyILa"
      },
      "execution_count": 9,
      "outputs": []
    },
    {
      "cell_type": "markdown",
      "source": [
        "## Best model\n",
        "**Key observations:**\n",
        "* The best model is saved locally.\n",
        "\n",
        "* [After identifying the best ParamMap, CrossValidator finally re-fits the Estimator using the best ParamMap and the entire dataset.](https://spark.apache.org/docs/latest/ml-tuning.html)"
      ],
      "metadata": {
        "id": "ex3zPZ_EBFHA"
      }
    },
    {
      "cell_type": "code",
      "source": [
        "# Optimal hyperparameters\n",
        "# Note: Parameter maps and metrics are local Python lists hence pandas dataframe\n",
        "cv_output = list(zip(cv_model.getEstimatorParamMaps(), cv_model.avgMetrics))\n",
        "cv_output = pd.DataFrame(cv_output, columns=[\"parameters\", \"rmse\"])\n",
        "cv_output.sort_values(by=[\"rmse\"]).head()\n",
        "\n",
        "print(f'Lowest RMSE: {cv_output.iloc[cv_output[\"rmse\"].idxmin(), 1]}')\n",
        "print(\"Congiguration: \")\n",
        "display(cv_output.iloc[cv_output[\"rmse\"].idxmin(), 0])"
      ],
      "metadata": {
        "colab": {
          "base_uri": "https://localhost:8080/",
          "height": 104
        },
        "id": "oKxqUKOl1o3O",
        "outputId": "104e6017-cdf9-4793-ecbd-5b885bf2a2cf"
      },
      "execution_count": 10,
      "outputs": [
        {
          "output_type": "stream",
          "name": "stdout",
          "text": [
            "Lowest RMSE: 1.2237483096130854\n",
            "Congiguration: \n"
          ]
        },
        {
          "output_type": "display_data",
          "data": {
            "text/plain": [
              "{Param(parent='ALS_65d5889a64bc', name='rank', doc='rank of the factorization'): 10,\n",
              " Param(parent='ALS_65d5889a64bc', name='regParam', doc='regularization parameter (>= 0).'): 0.05,\n",
              " Param(parent='ALS_65d5889a64bc', name='maxIter', doc='max number of iterations (>= 0).'): 5}"
            ]
          },
          "metadata": {}
        }
      ]
    },
    {
      "cell_type": "code",
      "source": [
        "# Save best model\n",
        "MODEL_PATH = \"/content/drive/MyDrive/Data science jobs/3. Interview prep/Google Cloud/Dataproc/local_movie_rec\"\n",
        "local_model = cv_model.bestModel\n",
        "local_model.write().overwrite().save(MODEL_PATH)\n",
        "\n",
        "# from pyspark.ml.recommendation import ALSModel\n",
        "# del local_model\n",
        "# local_model = ALSModel.load(MODEL_PATH)"
      ],
      "metadata": {
        "id": "gvj5SlyoCkx7"
      },
      "execution_count": 11,
      "outputs": []
    },
    {
      "cell_type": "code",
      "source": [
        "# Factorised user and item matrix\n",
        "print(f\"Factorised user matrix (rank: {local_model.rank})\")\n",
        "local_model.userFactors.show(5, truncate=False)\n",
        "print(\"_\"*50, \"\\n\"*2)\n",
        "print(f\"Factorised item matrix (rank: {local_model.rank})\")\n",
        "local_model.itemFactors.show(5, truncate=False)"
      ],
      "metadata": {
        "colab": {
          "base_uri": "https://localhost:8080/"
        },
        "id": "ADVE-HfsCXMA",
        "outputId": "f605bd67-cbfc-4887-c29a-9fcbeb0494bc"
      },
      "execution_count": 12,
      "outputs": [
        {
          "output_type": "stream",
          "name": "stdout",
          "text": [
            "Factorised user matrix (rank: 10)\n",
            "+---+-----------------------------------------------------------------------------------------------------------------+\n",
            "|id |features                                                                                                         |\n",
            "+---+-----------------------------------------------------------------------------------------------------------------+\n",
            "|0  |[0.3622564, 1.0908701, 0.30066127, 0.0, 0.24036558, 0.13628909, 0.014226061, 0.0, 0.07205898, 0.6961832]         |\n",
            "|10 |[0.63720745, 0.57788634, 0.4013861, 0.08701629, 0.5896107, 0.0, 0.0, 0.008713064, 0.0, 0.0]                      |\n",
            "|20 |[0.09659369, 0.13227803, 0.8294864, 0.086374484, 0.23315752, 0.039817378, 1.1375136, 0.012731443, 0.0, 0.3438488]|\n",
            "|1  |[0.24755605, 0.20828453, 0.6581097, 0.0, 0.75034386, 0.0, 0.7412549, 0.002777491, 0.104283504, 0.0]              |\n",
            "|11 |[0.002122325, 0.0, 0.0, 1.7995019, 0.17661996, 0.39140952, 0.6246419, 1.0520431, 0.46963945, 0.0]                |\n",
            "+---+-----------------------------------------------------------------------------------------------------------------+\n",
            "only showing top 5 rows\n",
            "\n",
            "__________________________________________________ \n",
            "\n",
            "\n",
            "Factorised item matrix (rank: 10)\n",
            "+---+------------------------------------------------------------------------------------------------------------------------+\n",
            "|id |features                                                                                                                |\n",
            "+---+------------------------------------------------------------------------------------------------------------------------+\n",
            "|0  |[0.81232697, 0.89481074, 0.33393863, 0.07650121, 0.2939091, 0.24340323, 0.13005178, 0.3363597, 0.0, 0.24446799]         |\n",
            "|10 |[0.0, 0.45412558, 0.0, 0.35299638, 1.2553363, 1.2509815, 0.0, 0.004474018, 0.44724137, 0.9645996]                       |\n",
            "|20 |[0.29137823, 0.15611485, 0.39672133, 0.41507134, 1.3190734, 0.17628261, 0.14725259, 0.34894174, 0.079688616, 0.73420817]|\n",
            "|30 |[0.071335115, 0.47839445, 0.060471095, 1.0246968, 0.57924825, 0.27839342, 1.8940488, 0.6359212, 1.7853248, 0.13498391]  |\n",
            "|40 |[1.0945221, 0.6147565, 0.8559038, 0.19466874, 0.015741913, 0.0, 0.0, 0.35232872, 0.0, 1.5212775]                        |\n",
            "+---+------------------------------------------------------------------------------------------------------------------------+\n",
            "only showing top 5 rows\n",
            "\n"
          ]
        }
      ]
    },
    {
      "cell_type": "markdown",
      "metadata": {
        "id": "JxoaBsfuqtZA"
      },
      "source": [
        "## Evaluation\n",
        "\n",
        "**Key observations:**\n",
        "\n",
        "* The retrained model is assessed using the test set. It performs better than the baseline model.\n",
        "\n",
        "* Plotting actual rating versus predicted rating shows a positive correlation. However, variance is high across the full range of ratings. This may be due to the small size of the training set."
      ]
    },
    {
      "cell_type": "markdown",
      "source": [
        "### Rating metrics\n",
        "* Evidence of overfitting."
      ],
      "metadata": {
        "id": "mPFRI-1NX7Fs"
      }
    },
    {
      "cell_type": "code",
      "source": [
        "# Training set\n",
        "training_pred = local_model.transform(training_DF)\n",
        "for metric in ['rmse', 'mae', 'r2']:\n",
        "  reg_eval = RegressionEvaluator(metricName=metric, labelCol=\"rating\", predictionCol=\"prediction\")\n",
        "  reg_score = reg_eval.evaluate(training_pred)\n",
        "  print(f\"{metric}: {reg_score}\")"
      ],
      "metadata": {
        "colab": {
          "base_uri": "https://localhost:8080/"
        },
        "id": "SO7PjBF9a-VQ",
        "outputId": "3d31789d-5e1c-4d3c-9353-71aa2f0e627a"
      },
      "execution_count": 13,
      "outputs": [
        {
          "output_type": "stream",
          "name": "stdout",
          "text": [
            "rmse: 0.34433872822478134\n",
            "mae: 0.2508260564136989\n",
            "r2: 0.916461481587777\n"
          ]
        }
      ]
    },
    {
      "cell_type": "code",
      "source": [
        "# Validation set\n",
        "valid_pred = local_model.transform(valid_DF)\n",
        "for metric in ['rmse', 'mae', 'r2']:\n",
        "  reg_eval = RegressionEvaluator(metricName=metric, labelCol=\"rating\", predictionCol=\"prediction\")\n",
        "  reg_score = reg_eval.evaluate(valid_pred)\n",
        "  print(f\"{metric}: {reg_score}\")"
      ],
      "metadata": {
        "colab": {
          "base_uri": "https://localhost:8080/"
        },
        "id": "LTG_w1d1bEHf",
        "outputId": "0c7ce40f-5e48-407d-e96f-fab80d574c48"
      },
      "execution_count": 14,
      "outputs": [
        {
          "output_type": "stream",
          "name": "stdout",
          "text": [
            "rmse: 0.9723061717697853\n",
            "mae: 0.6936892448637471\n",
            "r2: 0.30908493661837133\n"
          ]
        }
      ]
    },
    {
      "cell_type": "code",
      "source": [
        "# Training vs Validation\n",
        "training_pred_pd = training_pred.toPandas()\n",
        "valid_pred_pd = valid_pred.toPandas()\n",
        "\n",
        "fig, axes = plt.subplots(nrows=1, ncols=2, figsize=(6.4*1.5, 4.8/1.5))\n",
        "for ax in axes:\n",
        "  ax.tick_params(bottom=False, left=False)\n",
        "  ax.grid(False)\n",
        "  ax.spines[['top', 'right']].set_visible(False)\n",
        "  ax.spines[['left', 'bottom']].set_color('dimgray')\n",
        "  ax.set_xlabel('Actual rating', fontsize=10, color='dimgray')\n",
        "  ax.set_ylabel('Prediction', fontsize=10, color='dimgray')\n",
        "\n",
        "axes[0].scatter(training_pred_pd['rating'], training_pred_pd['prediction'], color='dimgray')\n",
        "axes[0].set_title(f'Training')\n",
        "axes[1].scatter(valid_pred_pd['rating'], valid_pred_pd['prediction'], color='dimgray')\n",
        "axes[1].set_title(f'Validation');"
      ],
      "metadata": {
        "colab": {
          "base_uri": "https://localhost:8080/",
          "height": 349
        },
        "id": "Fv028dMBFfl2",
        "outputId": "7cb025d8-ce81-4c2c-add7-2428baaec4cd"
      },
      "execution_count": 15,
      "outputs": [
        {
          "output_type": "display_data",
          "data": {
            "text/plain": [
              "<Figure size 960x320 with 2 Axes>"
            ],
            "image/png": "[encoded data removed]"
          },
          "metadata": {}
        }
      ]
    },
    {
      "cell_type": "markdown",
      "source": [
        "### Ranking metrics\n",
        "* Trying to predict behaviour"
      ],
      "metadata": {
        "id": "xjUGxweGX-CC"
      }
    },
    {
      "cell_type": "code",
      "source": [
        "# Recommend k movies for each user\n",
        "from pyspark.sql.functions import col, udf\n",
        "from pyspark.sql.types import FloatType, ArrayType, StructType, IntegerType, DoubleType\n",
        "\n",
        "k = 25\n",
        "print(f\"Recommended top {k} movies by user with the corresponding predicted ratings:\")\n",
        "userRecs = local_model.recommendForAllUsers(k)\n",
        "userRecs.show(5, truncate=False)"
      ],
      "metadata": {
        "colab": {
          "base_uri": "https://localhost:8080/"
        },
        "id": "_PDUKXIuE2rC",
        "outputId": "acfaa4b6-e1ba-41ae-b6a4-f8ff6db89d67"
      },
      "execution_count": 16,
      "outputs": [
        {
          "output_type": "stream",
          "name": "stdout",
          "text": [
            "Recommended top 25 movies by user with the corresponding predicted ratings:\n",
            "+------+----------------------------------------------------------------------------------------------------------------------------------------------------------------------------------------------------------------------------------------------------------------------------------------------------------------------------------------------------------------------------------------------------------------------------------+\n",
            "|userId|recommendations                                                                                                                                                                                                                                                                                                                                                                                                                   |\n",
            "+------+----------------------------------------------------------------------------------------------------------------------------------------------------------------------------------------------------------------------------------------------------------------------------------------------------------------------------------------------------------------------------------------------------------------------------------+\n",
            "|28    |[[92, 4.8166094], [12, 4.2380476], [89, 3.9202762], [49, 3.6637459], [2, 3.5915267], [82, 3.4258], [39, 3.033306], [4, 2.947288], [93, 2.9441752], [24, 2.904326], [23, 2.8575382], [9, 2.854961], [18, 2.6004677], [91, 2.5372212], [25, 2.455724], [0, 2.3409002], [36, 2.2582648], [88, 2.250998], [13, 2.2400384], [41, 2.2054884], [32, 2.204317], [40, 2.1146998], [16, 2.0897918], [86, 2.0232756], [80, 1.9810966]]       |\n",
            "|26    |[[51, 4.874292], [30, 4.811064], [24, 4.703428], [32, 4.677659], [88, 4.6074986], [22, 4.5570683], [23, 4.546211], [7, 4.4779844], [75, 4.327924], [69, 4.087287], [94, 4.0787315], [68, 4.0521355], [54, 3.8877418], [73, 3.7746384], [98, 3.5743132], [4, 3.540803], [92, 3.5402248], [80, 3.4271374], [74, 3.3683662], [79, 3.3425446], [36, 3.293958], [77, 3.27473], [90, 3.27191], [18, 3.158122], [21, 3.0294006]]         |\n",
            "|27    |[[28, 2.8749697], [38, 2.8703337], [83, 2.8417647], [66, 2.8333852], [19, 2.607717], [39, 2.5738056], [33, 2.5371845], [75, 2.5346093], [79, 2.5223303], [37, 2.519943], [51, 2.49284], [7, 2.4887455], [69, 2.4390063], [23, 2.3781223], [55, 2.3764398], [30, 2.3673954], [48, 2.33972], [80, 2.2655563], [32, 2.2498453], [44, 2.211996], [35, 2.2067542], [94, 2.1840303], [27, 2.1653023], [34, 2.1630087], [11, 2.1518373]] |\n",
            "|12    |[[55, 5.686598], [27, 4.788038], [32, 4.6348515], [90, 4.6150517], [65, 4.5834937], [64, 4.518057], [46, 4.2846503], [35, 4.046531], [49, 4.020202], [17, 3.8942163], [94, 3.7926953], [50, 3.7727795], [16, 3.7154086], [10, 3.5508506], [23, 3.5358486], [48, 3.424145], [7, 3.2709832], [68, 3.2177916], [66, 3.0601993], [31, 3.0079267], [13, 2.8009396], [33, 2.7742038], [91, 2.7563808], [73, 2.7099178], [20, 2.6275125]]|\n",
            "|22    |[[51, 4.6909885], [88, 4.544551], [30, 4.4962025], [77, 4.475805], [74, 4.313957], [75, 4.226447], [7, 4.1163306], [69, 4.07561], [98, 3.8286166], [68, 3.739834], [54, 3.6747212], [32, 3.6319683], [62, 3.4166205], [24, 3.2065747], [29, 3.2055624], [53, 3.176536], [21, 3.160148], [90, 3.1023867], [80, 3.094209], [92, 3.024975], [18, 2.9879708], [52, 2.9628549], [94, 2.9566112], [36, 2.914043], [41, 2.8222923]]      |\n",
            "+------+----------------------------------------------------------------------------------------------------------------------------------------------------------------------------------------------------------------------------------------------------------------------------------------------------------------------------------------------------------------------------------------------------------------------------------+\n",
            "only showing top 5 rows\n",
            "\n"
          ]
        }
      ]
    },
    {
      "cell_type": "code",
      "source": [
        "# Filter out movie ratings\n",
        "\n",
        "# Define udf\n",
        "def extract_udf(lst):\n",
        "    return [item.movieId for item in lst]\n",
        "\n",
        "# Register udf\n",
        "extract_udf_spark = udf(extract_udf, ArrayType(IntegerType()))\n",
        "\n",
        "# Apply udf to the \"k recommendations\" column\n",
        "userRecs = userRecs.withColumn(\"k recommendations\", extract_udf_spark(col(\"recommendations\")))\n",
        "userRecs = userRecs.select(\"userId\", \"k recommendations\")\n",
        "userRecs.show(5, truncate=False)"
      ],
      "metadata": {
        "colab": {
          "base_uri": "https://localhost:8080/"
        },
        "id": "bTwM81wYFTEz",
        "outputId": "e7ea61a4-a6dc-47f4-bc05-0ef283e93af8"
      },
      "execution_count": 17,
      "outputs": [
        {
          "output_type": "stream",
          "name": "stdout",
          "text": [
            "+------+---------------------------------------------------------------------------------------------------+\n",
            "|userId|k recommendations                                                                                  |\n",
            "+------+---------------------------------------------------------------------------------------------------+\n",
            "|28    |[92, 12, 89, 49, 2, 82, 39, 4, 93, 24, 23, 9, 18, 91, 25, 0, 36, 88, 13, 41, 32, 40, 16, 86, 80]   |\n",
            "|26    |[51, 30, 24, 32, 88, 22, 23, 7, 75, 69, 94, 68, 54, 73, 98, 4, 92, 80, 74, 79, 36, 77, 90, 18, 21] |\n",
            "|27    |[28, 38, 83, 66, 19, 39, 33, 75, 79, 37, 51, 7, 69, 23, 55, 30, 48, 80, 32, 44, 35, 94, 27, 34, 11]|\n",
            "|12    |[55, 27, 32, 90, 65, 64, 46, 35, 49, 17, 94, 50, 16, 10, 23, 48, 7, 68, 66, 31, 13, 33, 91, 73, 20]|\n",
            "|22    |[51, 88, 30, 77, 74, 75, 7, 69, 98, 68, 54, 32, 62, 24, 29, 53, 21, 90, 80, 92, 18, 52, 94, 36, 41]|\n",
            "+------+---------------------------------------------------------------------------------------------------+\n",
            "only showing top 5 rows\n",
            "\n"
          ]
        }
      ]
    },
    {
      "cell_type": "code",
      "source": [
        "# Create a list of movies seen by each user (i.e. in the training data)\n",
        "from pyspark.sql.functions import collect_list\n",
        "user_train_items = training_DF.groupby('userId').agg(collect_list('movieId').alias(\"train items\"))\n",
        "user_train_items.show(5, truncate=False)"
      ],
      "metadata": {
        "colab": {
          "base_uri": "https://localhost:8080/"
        },
        "id": "mwE8CZs2Fzyx",
        "outputId": "dbaeb27f-ab60-4e26-b38b-e3d8459b9962"
      },
      "execution_count": 18,
      "outputs": [
        {
          "output_type": "stream",
          "name": "stdout",
          "text": [
            "+------+------------------------------------------------------------------------------------------------------------------------------------------------------------------------+\n",
            "|userId|train items                                                                                                                                                             |\n",
            "+------+------------------------------------------------------------------------------------------------------------------------------------------------------------------------+\n",
            "|26    |[0, 1, 2, 3, 4, 5, 6, 7, 13, 14, 16, 18, 20, 21, 22, 23, 24, 27, 31, 35, 40, 44, 45, 47, 49, 50, 52, 54, 55, 57, 61, 62, 66, 68, 71, 73, 76, 81, 85, 86, 88, 91, 95, 96]|\n",
            "|29    |[3, 4, 5, 7, 9, 10, 13, 14, 15, 17, 19, 22, 25, 29, 31, 32, 33, 36, 38, 39, 42, 46, 49, 51, 59, 61, 62, 68, 69, 70, 74, 75, 79, 80, 81, 83, 85, 86, 90, 93, 94, 97, 99] |\n",
            "|19    |[0, 1, 2, 4, 6, 11, 23, 26, 31, 33, 34, 37, 38, 41, 43, 45, 48, 49, 50, 53, 54, 55, 56, 58, 61, 62, 64, 65, 72, 74, 76, 78, 79, 82, 84, 87, 90, 93, 94, 96, 98]         |\n",
            "|0     |[2, 3, 5, 9, 11, 12, 15, 17, 19, 21, 23, 26, 27, 28, 29, 30, 31, 34, 37, 41, 46, 47, 48, 50, 51, 54, 64, 67, 68, 69, 71, 79, 87, 89, 91, 92, 94, 95, 96, 98, 99]        |\n",
            "|22    |[0, 3, 5, 6, 13, 14, 16, 18, 19, 25, 26, 29, 30, 32, 36, 37, 40, 41, 44, 45, 48, 51, 55, 56, 60, 62, 63, 65, 68, 69, 71, 74, 80, 81, 82, 86, 88, 90, 92, 95, 98]        |\n",
            "+------+------------------------------------------------------------------------------------------------------------------------------------------------------------------------+\n",
            "only showing top 5 rows\n",
            "\n"
          ]
        }
      ]
    },
    {
      "cell_type": "code",
      "source": [
        "# Create a list of movies in the test set by user (i.e. the ground truth)\n",
        "user_test_items = valid_DF.groupby('userId').agg(collect_list('movieId').alias(\"test items\"))\n",
        "user_test_items.show(5, truncate=False)"
      ],
      "metadata": {
        "colab": {
          "base_uri": "https://localhost:8080/"
        },
        "id": "ytlDYdZUGFRE",
        "outputId": "a95e0a23-863b-427c-f0d8-3aaf1feca49d"
      },
      "execution_count": 19,
      "outputs": [
        {
          "output_type": "stream",
          "name": "stdout",
          "text": [
            "+------+-----------------------------------------------------------+\n",
            "|userId|test items                                                 |\n",
            "+------+-----------------------------------------------------------+\n",
            "|26    |[36, 48, 58, 94, 97]                                       |\n",
            "|29    |[11, 23, 67]                                               |\n",
            "|19    |[12, 14, 32, 63, 69, 81, 86, 95]                           |\n",
            "|0     |[44, 45, 55, 59, 61, 72, 77, 83]                           |\n",
            "|22    |[9, 10, 11, 22, 33, 35, 61, 66, 70, 75, 78, 84, 87, 96, 99]|\n",
            "+------+-----------------------------------------------------------+\n",
            "only showing top 5 rows\n",
            "\n"
          ]
        }
      ]
    },
    {
      "cell_type": "code",
      "source": [
        "# Filter out recommendations already seen (i.e. in the training data)\n",
        "\n",
        "# Join DataFrames giving k recommendations, training items & test items by user\n",
        "user_eval = userRecs.join(user_train_items, on='userId').join(user_test_items, on='userId')\n",
        "user_eval.show(5)\n",
        "\n",
        "# Create udf\n",
        "def filter_train_items_udf(k_recommendations, train_items):\n",
        "    return [item for item in k_recommendations if item not in train_items]\n",
        "\n",
        "# Register udf\n",
        "filter_train_items_udf_spark = udf(filter_train_items_udf, ArrayType(IntegerType()))\n",
        "\n",
        "# Apply udf to the \"k recommendations\" column\n",
        "user_eval = user_eval.withColumn(\"filtered k recommendations\", filter_train_items_udf_spark(col(\"k recommendations\"), col(\"train items\")))\n",
        "user_eval = user_eval.select(\"userId\", \"filtered k recommendations\", \"test items\")\n",
        "user_eval.show(5, truncate=False)"
      ],
      "metadata": {
        "colab": {
          "base_uri": "https://localhost:8080/"
        },
        "id": "kdqW4rS0Ggwk",
        "outputId": "f2477262-618b-4901-a816-180590930ccf"
      },
      "execution_count": 20,
      "outputs": [
        {
          "output_type": "stream",
          "name": "stdout",
          "text": [
            "+------+--------------------+--------------------+--------------------+\n",
            "|userId|   k recommendations|         train items|          test items|\n",
            "+------+--------------------+--------------------+--------------------+\n",
            "|    26|[51, 30, 24, 32, ...|[0, 1, 2, 3, 4, 5...|[36, 48, 58, 94, 97]|\n",
            "|    29|[46, 90, 32, 23, ...|[3, 4, 5, 7, 9, 1...|        [11, 23, 67]|\n",
            "|    19|[51, 90, 75, 54, ...|[0, 1, 2, 4, 6, 1...|[12, 14, 32, 63, ...|\n",
            "|     0|[92, 93, 18, 2, 8...|[2, 3, 5, 9, 11, ...|[44, 45, 55, 59, ...|\n",
            "|    22|[51, 88, 30, 77, ...|[0, 3, 5, 6, 13, ...|[9, 10, 11, 22, 3...|\n",
            "+------+--------------------+--------------------+--------------------+\n",
            "only showing top 5 rows\n",
            "\n",
            "+------+--------------------------------------------------------------------------+-----------------------------------------------------------+\n",
            "|userId|filtered k recommendations                                                |test items                                                 |\n",
            "+------+--------------------------------------------------------------------------+-----------------------------------------------------------+\n",
            "|26    |[51, 30, 32, 75, 69, 94, 98, 92, 80, 74, 79, 36, 77, 90]                  |[36, 48, 58, 94, 97]                                       |\n",
            "|29    |[23, 27, 55, 48, 50, 65, 73, 35, 64, 18, 30]                              |[11, 23, 67]                                               |\n",
            "|19    |[51, 75, 68, 77, 7, 30, 69, 88, 22, 32, 80, 18, 21, 24, 73, 29, 85, 5, 46]|[12, 14, 32, 63, 69, 81, 86, 95]                           |\n",
            "|0     |[93, 18, 82, 39, 40, 49, 4, 55, 24, 1, 36, 88, 62, 10, 74]                |[44, 45, 55, 59, 61, 72, 77, 83]                           |\n",
            "|22    |[77, 75, 7, 54, 24, 53, 21, 52, 94]                                       |[9, 10, 11, 22, 33, 35, 61, 66, 70, 75, 78, 84, 87, 96, 99]|\n",
            "+------+--------------------------------------------------------------------------+-----------------------------------------------------------+\n",
            "only showing top 5 rows\n",
            "\n"
          ]
        }
      ]
    },
    {
      "cell_type": "code",
      "source": [
        "# Cast the \"filtered_k_recommendations\" column to an array of double\n",
        "from pyspark.sql.types import DoubleType\n",
        "from pyspark.ml.evaluation import RankingEvaluator\n",
        "\n",
        "user_eval = user_eval.withColumn(\"filtered k recommendations\", col(\"filtered k recommendations\").cast(ArrayType(DoubleType())))\n",
        "user_eval = user_eval.withColumn(\"test items\", col(\"test items\").cast(ArrayType(DoubleType())))\n",
        "\n",
        "evaluator = RankingEvaluator()\n",
        "evaluator.setPredictionCol(\"filtered k recommendations\")\n",
        "evaluator.setLabelCol(\"test items\")\n",
        "\n",
        "print(\"Precision@k:\", evaluator.evaluate(user_eval, {evaluator.metricName: \"precisionAtK\", evaluator.k: 10}))\n",
        "print(\"Recall@k:\", evaluator.evaluate(user_eval, {evaluator.metricName: \"recallAtK\", evaluator.k: 10}))\n",
        "print(\"Mean Average Precision@k:\", evaluator.evaluate(user_eval, {evaluator.metricName: \"meanAveragePrecisionAtK\", evaluator.k: 10}))"
      ],
      "metadata": {
        "colab": {
          "base_uri": "https://localhost:8080/"
        },
        "id": "wXohaBgGIGnk",
        "outputId": "a57f4d93-b8c0-43ba-eb56-8305aaa712f9"
      },
      "execution_count": 21,
      "outputs": [
        {
          "output_type": "stream",
          "name": "stdout",
          "text": [
            "Precision@k: 0.18000000000000002\n",
            "Recall@k: 0.1714408358526006\n",
            "Mean Average Precision@k: 0.08710989858906525\n"
          ]
        }
      ]
    },
    {
      "cell_type": "markdown",
      "source": [
        "## User recommendation\n",
        "**Key observations:**\n",
        "* Recommendations are made by making predictions for all movies in the test data (followed by sorting).\n",
        "\n",
        "  Note: There is no overlap between the ratings history for a user, as given in the training data, and the shortlist of movies in the test data."
      ],
      "metadata": {
        "id": "uvalEiC49WxZ"
      }
    },
    {
      "cell_type": "code",
      "source": [
        "# Recommendations from the test data\n",
        "USER_ID = 26\n",
        "print(f\"Shortlist of movies in the test data:\")\n",
        "user_shortlist = valid_DF.filter(valid_DF['userId']==USER_ID).select(['movieId', 'userId'])\n",
        "user_shortlist.show()\n",
        "\n",
        "print(f\"Top 5 recommendations:\")\n",
        "user_recommend = local_model.transform(user_shortlist)\n",
        "user_recommend.orderBy('prediction', ascending=False).show(5)"
      ],
      "metadata": {
        "colab": {
          "base_uri": "https://localhost:8080/"
        },
        "id": "mg3pWFJC_tJJ",
        "outputId": "8d8bc3d6-7e21-430a-9faf-d8127892e3b9"
      },
      "execution_count": 22,
      "outputs": [
        {
          "output_type": "stream",
          "name": "stdout",
          "text": [
            "Shortlist of movies in the test data:\n",
            "+-------+------+\n",
            "|movieId|userId|\n",
            "+-------+------+\n",
            "|     36|    26|\n",
            "|     48|    26|\n",
            "|     58|    26|\n",
            "|     94|    26|\n",
            "|     97|    26|\n",
            "+-------+------+\n",
            "\n",
            "Top 5 recommendations:\n",
            "+-------+------+----------+\n",
            "|movieId|userId|prediction|\n",
            "+-------+------+----------+\n",
            "|     94|    26| 4.0787315|\n",
            "|     36|    26|  3.293958|\n",
            "|     48|    26| 2.8650863|\n",
            "|     97|    26| 0.7208201|\n",
            "|     58|    26| 0.3875026|\n",
            "+-------+------+----------+\n",
            "\n"
          ]
        }
      ]
    },
    {
      "cell_type": "markdown",
      "source": [
        "# Train a model (in the cloud)\n",
        "**Key observation:**\n",
        "* The final model will be trained using all available data. This will be achieved using the Google Cloud platform."
      ],
      "metadata": {
        "id": "NOZp9Y4x7kR_"
      }
    },
    {
      "cell_type": "markdown",
      "source": [
        "## Data\n",
        "**Key observation:**\n",
        "* The data is available in csv form. Consequently, the data prep process will need to be adjusted."
      ],
      "metadata": {
        "id": "GQ2emuL6GO6R"
      }
    },
    {
      "cell_type": "code",
      "source": [
        "!wc \"/content/drive/MyDrive/Data science jobs/3. Interview prep/Google Cloud/Dataproc/ratings.csv\"\n",
        "print(\"\\n\")\n",
        "!head -n 5 \"/content/drive/MyDrive/Data science jobs/3. Interview prep/Google Cloud/Dataproc/ratings.csv\""
      ],
      "metadata": {
        "colab": {
          "base_uri": "https://localhost:8080/"
        },
        "id": "QRTqqBt9_r2H",
        "outputId": "6eb62d4a-9838-4ffe-f0df-1641661d0282"
      },
      "execution_count": 23,
      "outputs": [
        {
          "output_type": "stream",
          "name": "stdout",
          "text": [
            " 100837  100837 2483723 /content/drive/MyDrive/Data science jobs/3. Interview prep/Google Cloud/Dataproc/ratings.csv\n",
            "\n",
            "\n",
            "userId,movieId,rating,timestamp\n",
            "1,1,4.0,964982703\n",
            "1,3,4.0,964981247\n",
            "1,6,4.0,964982224\n",
            "1,47,5.0,964983815\n"
          ]
        }
      ]
    },
    {
      "cell_type": "markdown",
      "source": [
        "## Training py script\n",
        "* Read directly into spark dataframe\n",
        "* Update hyperparamters - add maxIter\n",
        "* Explicitly name bestModel\n",
        "* Calculate RMSE/MAE/R-squared on training & test set with bestModel\n"
      ],
      "metadata": {
        "id": "F_9KhBYV__7u"
      }
    },
    {
      "cell_type": "code",
      "source": [
        "%%writefile \"/content/drive/MyDrive/Data science jobs/3. Interview prep/Google Cloud/Dataproc/als_model.py\"\n",
        "import sys\n",
        "from math import sqrt\n",
        "from pyspark import SparkContext\n",
        "from pyspark.sql import SparkSession\n",
        "from pyspark.sql import Row\n",
        "from pyspark.ml.tuning import CrossValidator, ParamGridBuilder\n",
        "from pyspark.ml.evaluation import RegressionEvaluator\n",
        "from pyspark.ml.recommendation import ALS\n",
        "\n",
        "INPUT_PATH = sys.argv[1] # parse file path from command line\n",
        "\n",
        "if __name__ == '__main__':\n",
        "\n",
        "    # Create SparkContext and SparkSession\n",
        "    sc = SparkContext(appName=\"spark-submit demo\")\n",
        "    spark = SparkSession.builder.getOrCreate()\n",
        "\n",
        "    # 1. Training/test split\n",
        "    ratings_DF = spark.read.csv(\"gs://arctic-crawler-403811-storage/ratings.csv\", header=True, inferSchema=True)\n",
        "    (training_DF, test_DF) = ratings_DF.randomSplit([0.8, 0.2], seed=10)\n",
        "    training_DF.createOrReplaceTempView('training_DF')\n",
        "    test_DF.createOrReplaceTempView('test_DF')\n",
        "    training_DF.write.csv(\"gs://arctic-crawler-403811-storage/movie_rec_171123_training_DF/\", mode=\"overwrite\", header=True)\n",
        "    test_DF.write.csv(\"gs://arctic-crawler-403811-storage/movie_rec_171123_test_DF/\", mode=\"overwrite\", header=True)\n",
        "\n",
        "    # 2. Baseline RMSE\n",
        "    row_baseline = spark.sql(\"SELECT AVG(rating) FROM training_DF\").first()\n",
        "    baseline = row_baseline['avg(rating)']\n",
        "    se_RDD = test_DF.rdd.map(lambda row: Row(se=pow(row['rating']-baseline, 2)))\n",
        "    se_DF = spark.createDataFrame(se_RDD)\n",
        "    se_DF.createOrReplaceTempView('se_DF')\n",
        "    row_avg = spark.sql(\"SELECT AVG(se) FROM se_DF\").first()\n",
        "    baseline_rmse = sqrt(row_avg['avg(se)'])\n",
        "    print(f\"Baseline RMSE: {baseline_rmse}\")\n",
        "\n",
        "    # 3. Hyperparameter tuning\n",
        "    als = ALS(maxIter=10, rank=10, regParam=0.05, userCol=\"userId\", itemCol=\"movieId\", ratingCol=\"rating\", nonnegative=True, coldStartStrategy='drop', seed=1)\n",
        "    param_grid = ParamGridBuilder().addGrid(als.rank, [5, 10, 15, 20]).addGrid(als.regParam, [0.01, 0.05, 0.1, 0.15, 0.2]).addGrid(als.maxIter, [5, 10, 15, 20]).build()\n",
        "    reg_eval = RegressionEvaluator(metricName=\"rmse\", labelCol=\"rating\", predictionCol=\"prediction\")\n",
        "    kfold_cv = CrossValidator(estimator=als, estimatorParamMaps=param_grid, evaluator=reg_eval, numFolds=5)\n",
        "    cv_model = kfold_cv.fit(training_DF)\n",
        "\n",
        "    # 4. Save best model\n",
        "    param_map = zip(cv_model.getEstimatorParamMaps(), cv_model.avgMetrics)\n",
        "    param_min = min(param_map, key=lambda x: x[1])\n",
        "    print(f\"Optimal configuration: {param_min}\")\n",
        "\n",
        "    best_model = cv_model.bestModel\n",
        "    best_model.write().overwrite().save(\"gs://arctic-crawler-403811-storage/movie_rec_171123\")\n",
        "\n",
        "    # 5. Evaluate best model\n",
        "    print(\"Training set performance\")\n",
        "    training_pred = best_model.transform(training_DF)\n",
        "    for metric in ['rmse', 'mae', 'r2']:\n",
        "      reg_eval = RegressionEvaluator(metricName=metric, labelCol=\"rating\", predictionCol=\"prediction\")\n",
        "      reg_score = reg_eval.evaluate(training_pred)\n",
        "      print(f\"{metric}: {reg_score}\")\n",
        "\n",
        "    print(\"Test set performance\")\n",
        "    test_pred = best_model.transform(test_DF)\n",
        "    for metric in ['rmse', 'mae', 'r2']:\n",
        "      reg_eval = RegressionEvaluator(metricName=metric, labelCol=\"rating\", predictionCol=\"prediction\")\n",
        "      reg_score = reg_eval.evaluate(test_pred)\n",
        "      print(f\"{metric}: {reg_score}\")\n",
        "\n",
        "    # 6. Shutdown Spark context\n",
        "    sc.stop()"
      ],
      "metadata": {
        "colab": {
          "base_uri": "https://localhost:8080/"
        },
        "id": "R0tOA3Fy_wkt",
        "outputId": "d1098474-4070-408e-cb25-69623178e7d3"
      },
      "execution_count": 24,
      "outputs": [
        {
          "output_type": "stream",
          "name": "stdout",
          "text": [
            "Overwriting /content/drive/MyDrive/Data science jobs/3. Interview prep/Google Cloud/Dataproc/als_model.py\n"
          ]
        }
      ]
    },
    {
      "cell_type": "markdown",
      "source": [
        "## Training via dataproc\n",
        "\n",
        "**Why Dataproc?**\n",
        "\n",
        "It allows easy integration with PySpark. With Dataproc, you can easily deploy Spark clusters, scale resources dynamically, and process large-scale data using PySpark, leveraging the power of Spark's distributed computing capabilities for efficient data analysis and processing in a cloud environment."
      ],
      "metadata": {
        "id": "4Z6_CPk_GrqH"
      }
    },
    {
      "cell_type": "markdown",
      "source": [
        "### Authentication"
      ],
      "metadata": {
        "id": "Fo5YBHzxGESg"
      }
    },
    {
      "cell_type": "code",
      "source": [
        "import sys\n",
        "if 'google.colab' in sys.modules:\n",
        "    from google.colab import auth\n",
        "    auth.authenticate_user()"
      ],
      "metadata": {
        "id": "2ir8EgB6GDXG"
      },
      "execution_count": 25,
      "outputs": []
    },
    {
      "cell_type": "markdown",
      "source": [
        "### Project configuration"
      ],
      "metadata": {
        "id": "G_aq5HRsFQ9z"
      }
    },
    {
      "cell_type": "code",
      "source": [
        "PROJECT_ID = \"arctic-crawler-403811\"\n",
        "REGION = \"us-central1\"\n",
        "\n",
        "# !gcloud projects create $PROJECT_ID\n",
        "!gcloud config set project $PROJECT_ID\n",
        "!gcloud config set compute/region $REGION\n",
        "!gcloud config set dataproc/region $REGION\n",
        "!echo \"gcloud config list\"\n",
        "!gcloud config list"
      ],
      "metadata": {
        "id": "kxM_VZudFQYP",
        "colab": {
          "base_uri": "https://localhost:8080/"
        },
        "outputId": "1b54ac29-2cfc-4b17-b4cd-f1c72edc696d"
      },
      "execution_count": 26,
      "outputs": [
        {
          "output_type": "stream",
          "name": "stdout",
          "text": [
            "Updated property [core/project].\n",
            "Updated property [compute/region].\n",
            "Updated property [dataproc/region].\n",
            "gcloud config list\n",
            "[component_manager]\n",
            "disable_update_check = True\n",
            "[compute]\n",
            "region = us-central1\n",
            "[core]\n",
            "account = billypitchford@gmail.com\n",
            "project = arctic-crawler-403811\n",
            "[dataproc]\n",
            "region = us-central1\n",
            "\n",
            "Your active configuration is: [default]\n"
          ]
        }
      ]
    },
    {
      "cell_type": "markdown",
      "source": [
        "### Data upload"
      ],
      "metadata": {
        "id": "VmIbbUV0F2ZL"
      }
    },
    {
      "cell_type": "code",
      "source": [
        "# Create storage bucket\n",
        "BUCKET = f\"gs://{PROJECT_ID}-storage\"\n",
        "!gsutil mb $BUCKET\n",
        "print(BUCKET)"
      ],
      "metadata": {
        "id": "BxPtrMguF7BO",
        "colab": {
          "base_uri": "https://localhost:8080/"
        },
        "outputId": "c5086ea7-1ccd-4e73-9942-126a1b38c8fd"
      },
      "execution_count": 27,
      "outputs": [
        {
          "output_type": "stream",
          "name": "stdout",
          "text": [
            "Creating gs://arctic-crawler-403811-storage/...\n",
            "gs://arctic-crawler-403811-storage\n"
          ]
        }
      ]
    },
    {
      "cell_type": "code",
      "source": [
        "# Copy data to storage bucket\n",
        "FILEPATH = \"/content/drive/MyDrive/Data science jobs/3. Interview prep/Google Cloud/Dataproc/ratings.csv\"\n",
        "!gsutil -m cp \"$FILEPATH\" $BUCKET # Enclosed FILEPATH variable in double quotes to handle spaces in path\n",
        "BUCKET_PATH = BUCKET + \"/ratings.csv\"\n",
        "print(BUCKET_PATH)"
      ],
      "metadata": {
        "id": "XEUCs1BXG9co",
        "colab": {
          "base_uri": "https://localhost:8080/"
        },
        "outputId": "7e1f23a7-ff9c-47ec-a33d-ac9b574898e8"
      },
      "execution_count": 28,
      "outputs": [
        {
          "output_type": "stream",
          "name": "stdout",
          "text": [
            "Copying file:///content/drive/MyDrive/Data science jobs/3. Interview prep/Google Cloud/Dataproc/ratings.csv [Content-Type=text/csv]...\n",
            "-\n",
            "Operation completed over 1 objects/2.4 MiB.                                      \n",
            "gs://arctic-crawler-403811-storage/ratings.csv\n"
          ]
        }
      ]
    },
    {
      "cell_type": "markdown",
      "source": [
        "### Dataproc cluster creation\n",
        "**Key observations:**\n",
        "\n",
        "The specific configuration for the cluster is defined in the subsequent options.\n",
        "\n",
        "* --image-version 1.4-ubuntu18\n",
        "\n",
        "  Specifies the version of the Dataproc image to be used. In this case, it's using version 1.4 with Ubuntu 18.\n",
        "\n",
        "* --single-node\n",
        "\n",
        "  Configures the cluster to have a single master node.\n",
        "\n",
        "* --master-machine-type n1-standard-2\n",
        "\n",
        "  Specifies the machine type for the master node. In this case, it's an n1-standard-2 machine type.\n",
        "\n",
        "* --master-boot-disk-type pd-ssd --master-boot-disk-size 100\n",
        "\n",
        "  Specifies the type and size of the master node's boot disk. In this case, it's using an SSD disk with a size of 100 GB.\n",
        "\n",
        "* --max-idle 3600s\n",
        "\n",
        "  Sets the maximum idle time for the cluster to 3600 seconds (1 hour). If the cluster is idle for this duration, it will be automatically deleted to avoid unnecessary costs.\n",
        "\n",
        "Note:\n",
        "* If the cell execution is stopped, the process will still continue in the cloud."
      ],
      "metadata": {
        "id": "K1u9rO2oHY2r"
      }
    },
    {
      "cell_type": "code",
      "source": [
        "CLUSTER = f\"{PROJECT_ID}-cluster\"\n",
        "!gcloud dataproc clusters create $CLUSTER \\\n",
        "    --image-version 1.4-ubuntu18 \\\n",
        "    --single-node \\\n",
        "    --master-machine-type n1-standard-2 \\\n",
        "    --master-boot-disk-type pd-ssd \\\n",
        "    --master-boot-disk-size 100 \\\n",
        "    --max-idle 3600s"
      ],
      "metadata": {
        "id": "fAm2dHKnHac4",
        "colab": {
          "base_uri": "https://localhost:8080/"
        },
        "outputId": "789c176f-81f8-421c-a8de-352b8657ab97"
      },
      "execution_count": 29,
      "outputs": [
        {
          "output_type": "stream",
          "name": "stdout",
          "text": [
            "Waiting on operation [projects/arctic-crawler-403811/regions/us-central1/operations/b7362e6e-660a-3b7f-a9d9-e36841eca256].\n",
            "\n",
            "\u001b[1;33mWARNING:\u001b[0m Failed to validate permissions required for default service account: '785982552930-compute@developer.gserviceaccount.com'. Cluster creation could still be successful if required permissions have been granted to the respective service accounts as mentioned in the document https://cloud.google.com/dataproc/docs/concepts/configuring-clusters/service-accounts#dataproc_service_accounts_2. This could be due to Cloud Resource Manager API hasn't been enabled in your project '785982552930' before or it is disabled. Enable it by visiting 'https://console.developers.google.com/apis/api/cloudresourcemanager.googleapis.com/overview?project=785982552930'.\n",
            "\u001b[1;33mWARNING:\u001b[0m The firewall rules for specified network or subnetwork would allow ingress traffic from 0.0.0.0/0, which could be a security risk.\n",
            "Created [https://dataproc.googleapis.com/v1/projects/arctic-crawler-403811/regions/us-central1/clusters/arctic-crawler-403811-cluster] Cluster placed in zone [us-central1-f].\n"
          ]
        }
      ]
    },
    {
      "cell_type": "markdown",
      "source": [
        "### Job submission"
      ],
      "metadata": {
        "id": "NVnOiY3_HgJs"
      }
    },
    {
      "cell_type": "code",
      "metadata": {
        "id": "oekh5_iAtYYg",
        "colab": {
          "base_uri": "https://localhost:8080/"
        },
        "outputId": "63567b7d-cc2a-46e6-ae51-75056ce4c278"
      },
      "source": [
        "!gcloud dataproc jobs submit pyspark --cluster $CLUSTER \"/content/drive/MyDrive/Data science jobs/3. Interview prep/Google Cloud/Dataproc/als_model.py\" -- $BUCKET_PATH"
      ],
      "execution_count": 30,
      "outputs": [
        {
          "output_type": "stream",
          "name": "stdout",
          "text": [
            "Job [5dc3d6c3eec146658b536bb2892949e1] submitted.\n",
            "Waiting for job output...\n",
            "23/11/22 12:55:35 INFO org.apache.spark.SparkEnv: Registering MapOutputTracker\n",
            "23/11/22 12:55:35 INFO org.apache.spark.SparkEnv: Registering BlockManagerMaster\n",
            "23/11/22 12:55:35 INFO org.apache.spark.SparkEnv: Registering OutputCommitCoordinator\n",
            "23/11/22 12:55:35 INFO org.spark_project.jetty.util.log: Logging initialized @4965ms to org.spark_project.jetty.util.log.Slf4jLog\n",
            "23/11/22 12:55:36 INFO org.spark_project.jetty.server.Server: jetty-9.4.z-SNAPSHOT; built: unknown; git: unknown; jvm 1.8.0_312-b07\n",
            "23/11/22 12:55:36 INFO org.spark_project.jetty.server.Server: Started @5165ms\n",
            "23/11/22 12:55:36 INFO org.spark_project.jetty.server.AbstractConnector: Started ServerConnector@124b465a{HTTP/1.1, (http/1.1)}{0.0.0.0:4040}\n",
            "23/11/22 12:55:36 WARN org.apache.spark.scheduler.FairSchedulableBuilder: Fair Scheduler configuration file not found so jobs will be scheduled in FIFO order. To use fair scheduling, configure pools in fairscheduler.xml or set spark.scheduler.allocation.file to a file that contains the configuration.\n",
            "23/11/22 12:55:37 INFO org.apache.hadoop.yarn.client.RMProxy: Connecting to ResourceManager at arctic-crawler-403811-cluster-m/10.128.0.9:8032\n",
            "23/11/22 12:55:37 INFO org.apache.hadoop.yarn.client.AHSProxy: Connecting to Application History server at arctic-crawler-403811-cluster-m/10.128.0.9:10200\n",
            "23/11/22 12:55:41 INFO org.apache.hadoop.yarn.client.api.impl.YarnClientImpl: Submitted application application_1700657643554_0001\n",
            "Baseline RMSE: 1.043546573268957\n",
            "Optimal configuration: ({Param(parent='ALS_0051bf28d1b0', name='rank', doc='rank of the factorization'): 15, Param(parent='ALS_0051bf28d1b0', name='regParam', doc='regularization parameter (>= 0).'): 0.15, Param(parent='ALS_0051bf28d1b0', name='maxIter', doc='max number of iterations (>= 0).'): 20}, 0.8838566768372207)\n",
            "Training set performance\n",
            "rmse: 0.6262255428930843\n",
            "mae: 0.48351170391021214\n",
            "r2: 0.6390063061189026\n",
            "Test set performance\n",
            "rmse: 0.8734771246970872\n",
            "mae: 0.6799398160652055\n",
            "r2: 0.29051266554769095\n",
            "23/11/22 14:29:38 INFO org.spark_project.jetty.server.AbstractConnector: Stopped Spark@124b465a{HTTP/1.1, (http/1.1)}{0.0.0.0:4040}\n",
            "Job [5dc3d6c3eec146658b536bb2892949e1] finished successfully.\n",
            "done: true\n",
            "driverControlFilesUri: gs://dataproc-staging-us-central1-785982552930-nz0uwefa/google-cloud-dataproc-metainfo/6d8e5809-3c95-4e5b-a526-bcb3107f7b5b/jobs/5dc3d6c3eec146658b536bb2892949e1/\n",
            "driverOutputResourceUri: gs://dataproc-staging-us-central1-785982552930-nz0uwefa/google-cloud-dataproc-metainfo/6d8e5809-3c95-4e5b-a526-bcb3107f7b5b/jobs/5dc3d6c3eec146658b536bb2892949e1/driveroutput\n",
            "jobUuid: f33bfbaa-438d-3825-90eb-e6124050132f\n",
            "placement:\n",
            "  clusterName: arctic-crawler-403811-cluster\n",
            "  clusterUuid: 6d8e5809-3c95-4e5b-a526-bcb3107f7b5b\n",
            "pysparkJob:\n",
            "  args:\n",
            "  - gs://arctic-crawler-403811-storage/ratings.csv\n",
            "  mainPythonFileUri: gs://dataproc-staging-us-central1-785982552930-nz0uwefa/google-cloud-dataproc-metainfo/6d8e5809-3c95-4e5b-a526-bcb3107f7b5b/jobs/5dc3d6c3eec146658b536bb2892949e1/staging/als_model.py\n",
            "reference:\n",
            "  jobId: 5dc3d6c3eec146658b536bb2892949e1\n",
            "  projectId: arctic-crawler-403811\n",
            "status:\n",
            "  state: DONE\n",
            "  stateStartTime: '2023-11-22T14:29:41.616672Z'\n",
            "statusHistory:\n",
            "- state: PENDING\n",
            "  stateStartTime: '2023-11-22T12:55:28.724159Z'\n",
            "- state: SETUP_DONE\n",
            "  stateStartTime: '2023-11-22T12:55:28.754505Z'\n",
            "- details: Agent reported job success\n",
            "  state: RUNNING\n",
            "  stateStartTime: '2023-11-22T12:55:29.111563Z'\n",
            "yarnApplications:\n",
            "- name: spark-submit demo\n",
            "  progress: 1.0\n",
            "  state: FINISHED\n",
            "  trackingUrl: http://arctic-crawler-403811-cluster-m:8088/proxy/application_1700657643554_0001/\n"
          ]
        }
      ]
    },
    {
      "cell_type": "markdown",
      "source": [
        "### Downloads"
      ],
      "metadata": {
        "id": "I8H3ZE42aCrj"
      }
    },
    {
      "cell_type": "code",
      "source": [
        "DESTINATION_PATH = \"/content/drive/MyDrive/Data science jobs/3. Interview prep/Google Cloud/Dataproc\"\n",
        "\n",
        "# Training data\n",
        "SOURCE_PATH = \"gs://arctic-crawler-403811-storage/movie_rec_171123_training_DF\"\n",
        "!gsutil -m cp -r $SOURCE_PATH \"$DESTINATION_PATH\"\n",
        "\n",
        "# Test data\n",
        "SOURCE_PATH = \"gs://arctic-crawler-403811-storage/movie_rec_171123_test_DF\"\n",
        "!gsutil -m cp -r $SOURCE_PATH \"$DESTINATION_PATH\"\n",
        "\n",
        "# Model\n",
        "SOURCE_PATH = \"gs://arctic-crawler-403811-storage/movie_rec_171123\"\n",
        "!gsutil -m cp -r $SOURCE_PATH \"$DESTINATION_PATH\""
      ],
      "metadata": {
        "colab": {
          "base_uri": "https://localhost:8080/"
        },
        "id": "zBHkTKYcaBoN",
        "outputId": "87a8c4aa-83a0-4b76-fc3b-3e7ebc391ac9"
      },
      "execution_count": 31,
      "outputs": [
        {
          "output_type": "stream",
          "name": "stdout",
          "text": [
            "Copying gs://arctic-crawler-403811-storage/movie_rec_171123_training_DF/_SUCCESS...\n",
            "Copying gs://arctic-crawler-403811-storage/movie_rec_171123_training_DF/part-00000-d8ae49e7-cd56-436f-b953-918be18f766d-c000.csv...\n",
            "Copying gs://arctic-crawler-403811-storage/movie_rec_171123_test_DF/_SUCCESS...\n",
            "Copying gs://arctic-crawler-403811-storage/movie_rec_171123_test_DF/part-00000-b1c95eca-7c7a-4c42-96a2-ee0022e06a3b-c000.csv...\n",
            "Copying gs://arctic-crawler-403811-storage/movie_rec_171123/itemFactors/part-00000-7d7a4fe8-97f9-48ba-b895-21d682bdd897-c000.snappy.parquet...\n",
            "Copying gs://arctic-crawler-403811-storage/movie_rec_171123/itemFactors/_SUCCESS...\n",
            "Copying gs://arctic-crawler-403811-storage/movie_rec_171123/itemFactors/part-00001-7d7a4fe8-97f9-48ba-b895-21d682bdd897-c000.snappy.parquet...\n",
            "Copying gs://arctic-crawler-403811-storage/movie_rec_171123/itemFactors/part-00002-7d7a4fe8-97f9-48ba-b895-21d682bdd897-c000.snappy.parquet...\n",
            "Copying gs://arctic-crawler-403811-storage/movie_rec_171123/itemFactors/part-00003-7d7a4fe8-97f9-48ba-b895-21d682bdd897-c000.snappy.parquet...\n",
            "Copying gs://arctic-crawler-403811-storage/movie_rec_171123/itemFactors/part-00005-7d7a4fe8-97f9-48ba-b895-21d682bdd897-c000.snappy.parquet...\n",
            "Copying gs://arctic-crawler-403811-storage/movie_rec_171123/itemFactors/part-00004-7d7a4fe8-97f9-48ba-b895-21d682bdd897-c000.snappy.parquet...\n",
            "Copying gs://arctic-crawler-403811-storage/movie_rec_171123/itemFactors/part-00006-7d7a4fe8-97f9-48ba-b895-21d682bdd897-c000.snappy.parquet...\n",
            "Copying gs://arctic-crawler-403811-storage/movie_rec_171123/itemFactors/part-00007-7d7a4fe8-97f9-48ba-b895-21d682bdd897-c000.snappy.parquet...\n",
            "Copying gs://arctic-crawler-403811-storage/movie_rec_171123/itemFactors/part-00008-7d7a4fe8-97f9-48ba-b895-21d682bdd897-c000.snappy.parquet...\n",
            "Copying gs://arctic-crawler-403811-storage/movie_rec_171123/itemFactors/part-00009-7d7a4fe8-97f9-48ba-b895-21d682bdd897-c000.snappy.parquet...\n",
            "Copying gs://arctic-crawler-403811-storage/movie_rec_171123/metadata/_SUCCESS...\n",
            "Copying gs://arctic-crawler-403811-storage/movie_rec_171123/metadata/part-00000...\n",
            "Copying gs://arctic-crawler-403811-storage/movie_rec_171123/userFactors/_SUCCESS...\n",
            "Copying gs://arctic-crawler-403811-storage/movie_rec_171123/userFactors/part-00000-359162bd-02cb-46e6-9276-f8182f6480f4-c000.snappy.parquet...\n",
            "Copying gs://arctic-crawler-403811-storage/movie_rec_171123/userFactors/part-00001-359162bd-02cb-46e6-9276-f8182f6480f4-c000.snappy.parquet...\n",
            "Copying gs://arctic-crawler-403811-storage/movie_rec_171123/userFactors/part-00002-359162bd-02cb-46e6-9276-f8182f6480f4-c000.snappy.parquet...\n",
            "Copying gs://arctic-crawler-403811-storage/movie_rec_171123/userFactors/part-00003-359162bd-02cb-46e6-9276-f8182f6480f4-c000.snappy.parquet...\n",
            "Copying gs://arctic-crawler-403811-storage/movie_rec_171123/userFactors/part-00004-359162bd-02cb-46e6-9276-f8182f6480f4-c000.snappy.parquet...\n",
            "Copying gs://arctic-crawler-403811-storage/movie_rec_171123/userFactors/part-00005-359162bd-02cb-46e6-9276-f8182f6480f4-c000.snappy.parquet...\n",
            "Copying gs://arctic-crawler-403811-storage/movie_rec_171123/userFactors/part-00007-359162bd-02cb-46e6-9276-f8182f6480f4-c000.snappy.parquet...\n",
            "Copying gs://arctic-crawler-403811-storage/movie_rec_171123/userFactors/part-00006-359162bd-02cb-46e6-9276-f8182f6480f4-c000.snappy.parquet...\n",
            "Copying gs://arctic-crawler-403811-storage/movie_rec_171123/userFactors/part-00008-359162bd-02cb-46e6-9276-f8182f6480f4-c000.snappy.parquet...\n",
            "Copying gs://arctic-crawler-403811-storage/movie_rec_171123/userFactors/part-00009-359162bd-02cb-46e6-9276-f8182f6480f4-c000.snappy.parquet...\n"
          ]
        }
      ]
    },
    {
      "cell_type": "markdown",
      "source": [
        "### Clean up\n",
        "* To avoid further costs, the cluster and storage buckets are deleted"
      ],
      "metadata": {
        "id": "ycCHSDHOON_v"
      }
    },
    {
      "cell_type": "code",
      "source": [
        "# Cluster\n",
        "!gcloud dataproc clusters delete $CLUSTER --region=$REGION\n",
        "\n",
        "# Storage bucket\n",
        "BUCKET = \"gs://arctic-crawler-403811-storage/\"\n",
        "!gsutil -m rm -r $BUCKET"
      ],
      "metadata": {
        "id": "9P32xXntOPey"
      },
      "execution_count": null,
      "outputs": []
    },
    {
      "cell_type": "markdown",
      "source": [
        "## Evaluation"
      ],
      "metadata": {
        "id": "DHNqqwx7Hhgv"
      }
    },
    {
      "cell_type": "code",
      "source": [
        "TRAIN_PATH = \"/content/drive/MyDrive/Data science jobs/3. Interview prep/Google Cloud/Dataproc/movie_rec_171123_training_DF/\"\n",
        "%cd \"$TRAIN_PATH\"\n",
        "!cat *.csv | wc\n",
        "\n",
        "TEST_PATH = \"/content/drive/MyDrive/Data science jobs/3. Interview prep/Google Cloud/Dataproc/movie_rec_171123_test_DF/\"\n",
        "%cd \"$TEST_PATH\"\n",
        "!cat *.csv | wc"
      ],
      "metadata": {
        "colab": {
          "base_uri": "https://localhost:8080/"
        },
        "id": "nPyYqaJZmnsW",
        "outputId": "c054eb68-1017-401b-d4cc-a177fdd2ef48"
      },
      "execution_count": 4,
      "outputs": [
        {
          "output_type": "stream",
          "name": "stdout",
          "text": [
            "/content/drive/MyDrive/Data science jobs/3. Interview prep/Google Cloud/Dataproc/movie_rec_171123_training_DF\n",
            "  80881   80881 1911481\n",
            "/content/drive/MyDrive/Data science jobs/3. Interview prep/Google Cloud/Dataproc/movie_rec_171123_test_DF\n",
            "  19957   19957  471437\n"
          ]
        }
      ]
    },
    {
      "cell_type": "code",
      "source": [
        "# Read training data into DataFrame\n",
        "training_DF = spark.read.csv(TRAIN_PATH, header=True, inferSchema=True)\n",
        "training_DF.createOrReplaceTempView('training_DF')\n",
        "print(training_DF.count())\n",
        "training_DF.show(5)\n",
        "training_DF.printSchema()"
      ],
      "metadata": {
        "colab": {
          "base_uri": "https://localhost:8080/"
        },
        "id": "8Ih-CtBlm37j",
        "outputId": "aa7a72b1-1f1c-474c-e022-6f463d9a8f4a"
      },
      "execution_count": 5,
      "outputs": [
        {
          "output_type": "stream",
          "name": "stdout",
          "text": [
            "80880\n",
            "+------+-------+------+---------+\n",
            "|userId|movieId|rating|timestamp|\n",
            "+------+-------+------+---------+\n",
            "|     1|      1|   4.0|964982703|\n",
            "|     1|      3|   4.0|964981247|\n",
            "|     1|     47|   5.0|964983815|\n",
            "|     1|     50|   5.0|964982931|\n",
            "|     1|     70|   3.0|964982400|\n",
            "+------+-------+------+---------+\n",
            "only showing top 5 rows\n",
            "\n",
            "root\n",
            " |-- userId: integer (nullable = true)\n",
            " |-- movieId: integer (nullable = true)\n",
            " |-- rating: double (nullable = true)\n",
            " |-- timestamp: integer (nullable = true)\n",
            "\n"
          ]
        }
      ]
    },
    {
      "cell_type": "code",
      "source": [
        "# Read test data into DataFrame\n",
        "test_DF = spark.read.csv(TEST_PATH, header=True, inferSchema=True)\n",
        "test_DF.createOrReplaceTempView('test_DF')\n",
        "print(test_DF.count())\n",
        "test_DF.show(5)\n",
        "test_DF.printSchema()"
      ],
      "metadata": {
        "colab": {
          "base_uri": "https://localhost:8080/"
        },
        "id": "jYX_e_lzmMsU",
        "outputId": "175eff2c-6402-46d3-a67a-608f685634f3"
      },
      "execution_count": 6,
      "outputs": [
        {
          "output_type": "stream",
          "name": "stdout",
          "text": [
            "19956\n",
            "+------+-------+------+---------+\n",
            "|userId|movieId|rating|timestamp|\n",
            "+------+-------+------+---------+\n",
            "|     1|      6|   4.0|964982224|\n",
            "|     1|    151|   5.0|964984041|\n",
            "|     1|    480|   4.0|964982346|\n",
            "|     1|    500|   3.0|964981208|\n",
            "|     1|    552|   4.0|964982653|\n",
            "+------+-------+------+---------+\n",
            "only showing top 5 rows\n",
            "\n",
            "root\n",
            " |-- userId: integer (nullable = true)\n",
            " |-- movieId: integer (nullable = true)\n",
            " |-- rating: double (nullable = true)\n",
            " |-- timestamp: integer (nullable = true)\n",
            "\n"
          ]
        }
      ]
    },
    {
      "cell_type": "code",
      "source": [
        "# Read pickled model\n",
        "from pyspark.ml.recommendation import ALSModel\n",
        "MODEL_PATH = \"/content/drive/MyDrive/Data science jobs/3. Interview prep/Google Cloud/Dataproc/movie_rec_171123\"\n",
        "gcloud_model = ALSModel.load(MODEL_PATH)"
      ],
      "metadata": {
        "id": "u05vQaQ0RrAp"
      },
      "execution_count": 7,
      "outputs": []
    },
    {
      "cell_type": "markdown",
      "source": [
        "### Rating metrics"
      ],
      "metadata": {
        "id": "myZfR0-9vQVR"
      }
    },
    {
      "cell_type": "code",
      "source": [
        "# Training set\n",
        "from pyspark.ml.evaluation import RegressionEvaluator\n",
        "training_pred = gcloud_model.transform(training_DF)\n",
        "for metric in ['rmse', 'mae', 'r2']:\n",
        "  reg_eval = RegressionEvaluator(metricName=metric, labelCol=\"rating\", predictionCol=\"prediction\")\n",
        "  reg_score = reg_eval.evaluate(training_pred)\n",
        "  print(f\"{metric}: {reg_score}\")"
      ],
      "metadata": {
        "colab": {
          "base_uri": "https://localhost:8080/"
        },
        "id": "aDNBoT9ivhQK",
        "outputId": "ef97297a-29bc-4045-dd9c-7b0ebed41b61"
      },
      "execution_count": 9,
      "outputs": [
        {
          "output_type": "stream",
          "name": "stdout",
          "text": [
            "rmse: 0.6262255428931269\n",
            "mae: 0.48351170391021214\n",
            "r2: 0.6390063061188556\n"
          ]
        }
      ]
    },
    {
      "cell_type": "code",
      "source": [
        "# Test set\n",
        "test_pred = gcloud_model.transform(test_DF)\n",
        "for metric in ['rmse', 'mae', 'r2']:\n",
        "  reg_eval = RegressionEvaluator(metricName=metric, labelCol=\"rating\", predictionCol=\"prediction\")\n",
        "  reg_score = reg_eval.evaluate(test_pred)\n",
        "  print(f\"{metric}: {reg_score}\")"
      ],
      "metadata": {
        "colab": {
          "base_uri": "https://localhost:8080/"
        },
        "id": "9PzmopTovX8k",
        "outputId": "a1d2f677-e19a-446d-d04b-bb8fe339436b"
      },
      "execution_count": 10,
      "outputs": [
        {
          "output_type": "stream",
          "name": "stdout",
          "text": [
            "rmse: 0.8734771246970764\n",
            "mae: 0.6799398160652055\n",
            "r2: 0.2905126655477088\n"
          ]
        }
      ]
    },
    {
      "cell_type": "code",
      "source": [
        "# Training vs Test\n",
        "training_pred_pd = training_pred.toPandas()\n",
        "test_pred_pd = test_pred.toPandas()\n",
        "\n",
        "fig, axes = plt.subplots(nrows=1, ncols=2, figsize=(6.4*1.5, 4.8/1.5))\n",
        "for ax in axes:\n",
        "  ax.tick_params(bottom=False, left=False)\n",
        "  ax.grid(False)\n",
        "  ax.spines[['top', 'right']].set_visible(False)\n",
        "  ax.spines[['left', 'bottom']].set_color('dimgray')\n",
        "  ax.set_xlabel('Actual rating', fontsize=10, color='dimgray')\n",
        "  ax.set_ylabel('Prediction', fontsize=10, color='dimgray')\n",
        "\n",
        "axes[0].scatter(training_pred_pd['rating'], training_pred_pd['prediction'], color='dimgray')\n",
        "axes[0].set_title(f'Training')\n",
        "axes[1].scatter(test_pred_pd['rating'], test_pred_pd['prediction'], color='dimgray')\n",
        "axes[1].set_title(f'Test');"
      ],
      "metadata": {
        "colab": {
          "base_uri": "https://localhost:8080/",
          "height": 349
        },
        "id": "E_9wQbCqvrnG",
        "outputId": "950a88ad-9eb9-4c53-99b8-a8ab055b14fb"
      },
      "execution_count": 11,
      "outputs": [
        {
          "output_type": "display_data",
          "data": {
            "text/plain": [
              "<Figure size 960x320 with 2 Axes>"
            ],
            "image/png": "[encoded data removed]"
          },
          "metadata": {}
        }
      ]
    },
    {
      "cell_type": "markdown",
      "source": [
        "### Ranking metrics"
      ],
      "metadata": {
        "id": "t4okPIkgv7rg"
      }
    },
    {
      "cell_type": "code",
      "source": [
        "# Recommend k movies for each user\n",
        "from pyspark.sql.functions import col, udf\n",
        "from pyspark.sql.types import FloatType, ArrayType, StructType, IntegerType, DoubleType\n",
        "\n",
        "k = 25\n",
        "print(f\"Recommended top {k} movies by user with the corresponding predicted ratings:\")\n",
        "userRecs = gcloud_model.recommendForAllUsers(k)\n",
        "userRecs.show(5, truncate=False)\n",
        "\n",
        "# Filter out movie ratings\n",
        "# Define udf\n",
        "def extract_udf(lst):\n",
        "    return [item.movieId for item in lst]\n",
        "\n",
        "# Register udf\n",
        "extract_udf_spark = udf(extract_udf, ArrayType(IntegerType()))\n",
        "\n",
        "# Apply udf to the \"k recommendations\" column\n",
        "userRecs = userRecs.withColumn(\"k recommendations\", extract_udf_spark(col(\"recommendations\")))\n",
        "userRecs = userRecs.select(\"userId\", \"k recommendations\")\n",
        "userRecs.show(5, truncate=False)"
      ],
      "metadata": {
        "colab": {
          "base_uri": "https://localhost:8080/"
        },
        "id": "gsYAC98xv9LJ",
        "outputId": "78aa241d-36f1-47a2-f4c5-82ed2476ba4d"
      },
      "execution_count": 12,
      "outputs": [
        {
          "output_type": "stream",
          "name": "stdout",
          "text": [
            "Recommended top 25 movies by user with the corresponding predicted ratings:\n",
            "+------+------------------------------------------------------------------------------------------------------------------------------------------------------------------------------------------------------------------------------------------------------------------------------------------------------------------------------------------------------------------------------------------------------------------------------------------------------------------------------------------------------------+\n",
            "|userId|recommendations                                                                                                                                                                                                                                                                                                                                                                                                                                                                                             |\n",
            "+------+------------------------------------------------------------------------------------------------------------------------------------------------------------------------------------------------------------------------------------------------------------------------------------------------------------------------------------------------------------------------------------------------------------------------------------------------------------------------------------------------------------+\n",
            "|148   |[[33649, 4.6102734], [77846, 4.5980887], [25906, 4.5980887], [93008, 4.5980887], [67618, 4.597145], [98491, 4.548011], [7121, 4.525587], [147374, 4.511087], [68945, 4.3780847], [3379, 4.3780847], [93988, 4.370307], [4495, 4.3644333], [6201, 4.3644333], [74282, 4.332273], [7842, 4.3116364], [160718, 4.289657], [7078, 4.281545], [8580, 4.281545], [152970, 4.2738185], [188751, 4.2738185], [174909, 4.2738185], [98154, 4.2716618], [68073, 4.2704906], [134796, 4.2685485], [138966, 4.2685485]] |\n",
            "|463   |[[7842, 4.8617077], [68945, 4.8231378], [3379, 4.8231378], [59018, 4.6860447], [60943, 4.6860447], [171495, 4.581689], [117531, 4.5471563], [184245, 4.5471563], [26928, 4.5471563], [179135, 4.5471563], [26073, 4.5471563], [74226, 4.5471563], [134796, 4.5471563], [138966, 4.5471563], [86237, 4.5471563], [7071, 4.5471563], [33649, 4.5387387], [3200, 4.4496155], [7025, 4.416877], [27611, 4.39703], [4708, 4.3740125], [7481, 4.368562], [147374, 4.3619695], [5490, 4.355589], [172909, 4.33633]]|\n",
            "|471   |[[68945, 4.7090864], [3379, 4.7090864], [177593, 4.498795], [3677, 4.4952188], [7842, 4.461155], [7096, 4.452693], [8477, 4.446515], [33649, 4.42936], [51931, 4.420976], [171495, 4.4187], [6818, 4.413397], [158966, 4.3921833], [7767, 4.3762345], [5328, 4.356818], [6159, 4.356818], [3951, 4.356818], [6442, 4.356818], [5416, 4.356818], [26928, 4.352441], [74226, 4.352441], [179135, 4.352441], [134796, 4.352441], [117531, 4.352441], [7071, 4.352441], [138966, 4.352441]]                     |\n",
            "|496   |[[68945, 4.7703567], [3379, 4.7703567], [89759, 4.630173], [7767, 4.606818], [5747, 4.5977015], [7096, 4.5651574], [158966, 4.550701], [73344, 4.535157], [152711, 4.517493], [160644, 4.517493], [187717, 4.517493], [6611, 4.517493], [167064, 4.517493], [2131, 4.4718037], [96004, 4.4681225], [3468, 4.456911], [33138, 4.4370737], [5244, 4.4370737], [3473, 4.4347973], [3030, 4.4316726], [8405, 4.4268413], [4393, 4.424198], [6533, 4.424198], [73023, 4.4227886], [32387, 4.4125495]]            |\n",
            "|243   |[[6818, 6.025539], [8477, 5.8551817], [141718, 5.8460503], [7071, 5.76606], [184245, 5.76606], [179135, 5.76606], [74226, 5.76606], [86237, 5.76606], [26073, 5.76606], [138966, 5.76606], [26928, 5.76606], [134796, 5.76606], [117531, 5.76606], [7842, 5.7464795], [58301, 5.6639094], [33649, 5.656422], [171495, 5.636713], [3379, 5.6338267], [68945, 5.6338267], [49347, 5.616744], [25771, 5.614243], [4708, 5.5486674], [147374, 5.5472274], [148881, 5.5289755], [67618, 5.5043488]]              |\n",
            "+------+------------------------------------------------------------------------------------------------------------------------------------------------------------------------------------------------------------------------------------------------------------------------------------------------------------------------------------------------------------------------------------------------------------------------------------------------------------------------------------------------------------+\n",
            "only showing top 5 rows\n",
            "\n",
            "+------+----------------------------------------------------------------------------------------------------------------------------------------------------------------------------------+\n",
            "|userId|k recommendations                                                                                                                                                                 |\n",
            "+------+----------------------------------------------------------------------------------------------------------------------------------------------------------------------------------+\n",
            "|148   |[33649, 77846, 25906, 93008, 67618, 98491, 7121, 147374, 68945, 3379, 93988, 4495, 6201, 74282, 7842, 160718, 7078, 8580, 152970, 188751, 174909, 98154, 68073, 134796, 138966]   |\n",
            "|463   |[7842, 68945, 3379, 59018, 60943, 171495, 117531, 184245, 26928, 179135, 26073, 74226, 134796, 138966, 86237, 7071, 33649, 3200, 7025, 27611, 4708, 7481, 147374, 5490, 172909]   |\n",
            "|471   |[68945, 3379, 177593, 3677, 7842, 7096, 8477, 33649, 51931, 171495, 6818, 158966, 7767, 5328, 6159, 3951, 6442, 5416, 26928, 74226, 179135, 134796, 117531, 7071, 138966]         |\n",
            "|496   |[68945, 3379, 89759, 7767, 5747, 7096, 158966, 73344, 152711, 160644, 187717, 6611, 167064, 2131, 96004, 3468, 33138, 5244, 3473, 3030, 8405, 4393, 6533, 73023, 32387]           |\n",
            "|243   |[6818, 8477, 141718, 7071, 184245, 179135, 74226, 86237, 26073, 138966, 26928, 134796, 117531, 7842, 58301, 33649, 171495, 3379, 68945, 49347, 25771, 4708, 147374, 148881, 67618]|\n",
            "+------+----------------------------------------------------------------------------------------------------------------------------------------------------------------------------------+\n",
            "only showing top 5 rows\n",
            "\n"
          ]
        }
      ]
    },
    {
      "cell_type": "code",
      "source": [
        "# Create a list of movies seen by each user (i.e. in the training data)\n",
        "from pyspark.sql.functions import collect_list\n",
        "user_train_items = training_DF.groupby('userId').agg(collect_list('movieId').alias(\"train items\"))\n",
        "user_train_items.show(5, truncate=False)\n",
        "\n",
        "# Create a list of movies in the test set by user (i.e. the ground truth)\n",
        "user_test_items = test_DF.groupby('userId').agg(collect_list('movieId').alias(\"test items\"))\n",
        "user_test_items.show(5, truncate=False)"
      ],
      "metadata": {
        "colab": {
          "base_uri": "https://localhost:8080/"
        },
        "id": "3A9JMrEZwLAm",
        "outputId": "19c563b9-fde1-40c8-9438-778081cceb42"
      },
      "execution_count": 13,
      "outputs": [
        {
          "output_type": "stream",
          "name": "stdout",
          "text": [
            "+------+------------------------------------------------------------------------------------------------------------------------------------------------------------------------------------------------------------------------------------------------------+\n",
            "|userId|train items                                                                                                                                                                                                                                           |\n",
            "+------+------------------------------------------------------------------------------------------------------------------------------------------------------------------------------------------------------------------------------------------------------+\n",
            "|148   |[356, 4308, 4896, 4993, 5618, 5816, 5952, 6377, 30816, 40629, 40815, 44191, 50872, 54001, 60069, 68954, 69844, 72998, 76093, 79091, 79132, 81847, 89745, 98243, 98491, 108932, 110102, 112175, 116797, 122882, 122920, 134853, 152081, 157296, 160718]|\n",
            "|463   |[110, 296, 527, 552, 780, 1088, 1092, 1221, 1320, 2006, 2019, 2167, 3448, 3753, 3977, 4223, 4310, 5010, 5378, 5995, 6377, 6539, 6947, 7320, 8622, 36529]                                                                                              |\n",
            "|471   |[1, 296, 356, 527, 2571, 2959, 4886, 4973, 6016, 6333, 6377, 7147, 8360, 8636, 8874, 8961, 60069, 68157, 78499, 79132, 79702, 92259, 116797, 158966, 168252]                                                                                          |\n",
            "|496   |[720, 858, 904, 912, 2394, 2950, 3668, 4191, 4306, 4993, 5952, 7151, 7153, 7757, 8640, 8865, 40826, 58559, 84374, 94959, 99149, 106920, 109374, 111362, 112852, 114713]                                                                               |\n",
            "|243   |[44, 48, 62, 112, 145, 153, 161, 172, 173, 181, 193, 227, 248, 353, 356, 376, 377, 380, 410, 420, 442, 466, 520, 586, 588, 595, 648, 736]                                                                                                             |\n",
            "+------+------------------------------------------------------------------------------------------------------------------------------------------------------------------------------------------------------------------------------------------------------+\n",
            "only showing top 5 rows\n",
            "\n",
            "+------+------------------------------------------------------------------------------------------+\n",
            "|userId|test items                                                                                |\n",
            "+------+------------------------------------------------------------------------------------------+\n",
            "|148   |[1197, 4886, 7153, 8368, 31658, 69757, 79702, 81834, 88125, 99149, 112852, 115617, 122886]|\n",
            "|463   |[356, 520, 1552, 1690, 2028, 5952, 7153]                                                  |\n",
            "|471   |[2324, 6539, 44191]                                                                       |\n",
            "|496   |[1221, 95167, 104841]                                                                     |\n",
            "|243   |[10, 36, 165, 434, 485, 527, 589, 592]                                                    |\n",
            "+------+------------------------------------------------------------------------------------------+\n",
            "only showing top 5 rows\n",
            "\n"
          ]
        }
      ]
    },
    {
      "cell_type": "code",
      "source": [
        "# Filter out recommendations already seen (i.e. in the training data)\n",
        "\n",
        "# Join DataFrames giving k recommendations, training items & test items by user\n",
        "user_eval = userRecs.join(user_train_items, on='userId').join(user_test_items, on='userId')\n",
        "user_eval.show(5)\n",
        "\n",
        "# Create udf\n",
        "def filter_train_items_udf(k_recommendations, train_items):\n",
        "    return [item for item in k_recommendations if item not in train_items]\n",
        "\n",
        "# Register udf\n",
        "filter_train_items_udf_spark = udf(filter_train_items_udf, ArrayType(IntegerType()))\n",
        "\n",
        "# Apply udf to the \"k recommendations\" column\n",
        "user_eval = user_eval.withColumn(\"filtered k recommendations\", filter_train_items_udf_spark(col(\"k recommendations\"), col(\"train items\")))\n",
        "user_eval = user_eval.select(\"userId\", \"filtered k recommendations\", \"test items\")\n",
        "user_eval.show(5, truncate=False)"
      ],
      "metadata": {
        "colab": {
          "base_uri": "https://localhost:8080/"
        },
        "id": "JOOR81Z3wWhD",
        "outputId": "fd5f5cad-ccc0-46f3-84b6-7641809f2bcd"
      },
      "execution_count": 14,
      "outputs": [
        {
          "output_type": "stream",
          "name": "stdout",
          "text": [
            "+------+--------------------+--------------------+--------------------+\n",
            "|userId|   k recommendations|         train items|          test items|\n",
            "+------+--------------------+--------------------+--------------------+\n",
            "|   148|[33649, 77846, 25...|[356, 4308, 4896,...|[1197, 4886, 7153...|\n",
            "|   463|[7842, 68945, 337...|[110, 296, 527, 5...|[356, 520, 1552, ...|\n",
            "|   471|[68945, 3379, 177...|[1, 296, 356, 527...| [2324, 6539, 44191]|\n",
            "|   496|[68945, 3379, 897...|[720, 858, 904, 9...|[1221, 95167, 104...|\n",
            "|   243|[6818, 8477, 1417...|[44, 48, 62, 112,...|[10, 36, 165, 434...|\n",
            "+------+--------------------+--------------------+--------------------+\n",
            "only showing top 5 rows\n",
            "\n",
            "+------+----------------------------------------------------------------------------------------------------------------------------------------------------------------------------------+------------------------------------------------------------------------------------------+\n",
            "|userId|filtered k recommendations                                                                                                                                                        |test items                                                                                |\n",
            "+------+----------------------------------------------------------------------------------------------------------------------------------------------------------------------------------+------------------------------------------------------------------------------------------+\n",
            "|148   |[33649, 77846, 25906, 93008, 67618, 7121, 147374, 68945, 3379, 93988, 4495, 6201, 74282, 7842, 7078, 8580, 152970, 188751, 174909, 98154, 68073, 134796, 138966]                  |[1197, 4886, 7153, 8368, 31658, 69757, 79702, 81834, 88125, 99149, 112852, 115617, 122886]|\n",
            "|463   |[7842, 68945, 3379, 59018, 60943, 171495, 117531, 184245, 26928, 179135, 26073, 74226, 134796, 138966, 86237, 7071, 33649, 3200, 7025, 27611, 4708, 7481, 147374, 5490, 172909]   |[356, 520, 1552, 1690, 2028, 5952, 7153]                                                  |\n",
            "|471   |[68945, 3379, 177593, 3677, 7842, 7096, 8477, 33649, 51931, 171495, 6818, 7767, 5328, 6159, 3951, 6442, 5416, 26928, 74226, 179135, 134796, 117531, 7071, 138966]                 |[2324, 6539, 44191]                                                                       |\n",
            "|496   |[68945, 3379, 89759, 7767, 5747, 7096, 158966, 73344, 152711, 160644, 187717, 6611, 167064, 2131, 96004, 3468, 33138, 5244, 3473, 3030, 8405, 4393, 6533, 73023, 32387]           |[1221, 95167, 104841]                                                                     |\n",
            "|243   |[6818, 8477, 141718, 7071, 184245, 179135, 74226, 86237, 26073, 138966, 26928, 134796, 117531, 7842, 58301, 33649, 171495, 3379, 68945, 49347, 25771, 4708, 147374, 148881, 67618]|[10, 36, 165, 434, 485, 527, 589, 592]                                                    |\n",
            "+------+----------------------------------------------------------------------------------------------------------------------------------------------------------------------------------+------------------------------------------------------------------------------------------+\n",
            "only showing top 5 rows\n",
            "\n"
          ]
        }
      ]
    },
    {
      "cell_type": "code",
      "source": [
        "# Cast the \"filtered_k_recommendations\" column to an array of double\n",
        "from pyspark.sql.types import DoubleType\n",
        "from pyspark.ml.evaluation import RankingEvaluator\n",
        "\n",
        "user_eval = user_eval.withColumn(\"filtered k recommendations\", col(\"filtered k recommendations\").cast(ArrayType(DoubleType())))\n",
        "user_eval = user_eval.withColumn(\"test items\", col(\"test items\").cast(ArrayType(DoubleType())))\n",
        "\n",
        "evaluator = RankingEvaluator()\n",
        "evaluator.setPredictionCol(\"filtered k recommendations\")\n",
        "evaluator.setLabelCol(\"test items\")\n",
        "\n",
        "print(\"Precision@k:\", evaluator.evaluate(user_eval, {evaluator.metricName: \"precisionAtK\", evaluator.k: 10}))\n",
        "print(\"Recall@k:\", evaluator.evaluate(user_eval, {evaluator.metricName: \"recallAtK\", evaluator.k: 10}))\n",
        "print(\"Mean Average Precision@k:\", evaluator.evaluate(user_eval, {evaluator.metricName: \"meanAveragePrecisionAtK\", evaluator.k: 10}))"
      ],
      "metadata": {
        "colab": {
          "base_uri": "https://localhost:8080/"
        },
        "id": "5Rs8miJuwpn4",
        "outputId": "80890ad3-8153-4c75-cfbb-1105c4db7bbf"
      },
      "execution_count": 15,
      "outputs": [
        {
          "output_type": "stream",
          "name": "stdout",
          "text": [
            "Precision@k: 0.0011494252873563218\n",
            "Recall@k: 0.0003750763423298888\n",
            "Mean Average Precision@k: 0.00040959678890713377\n"
          ]
        }
      ]
    },
    {
      "cell_type": "markdown",
      "source": [
        "## User recommendation"
      ],
      "metadata": {
        "id": "n7tv1yTgHoUL"
      }
    },
    {
      "cell_type": "code",
      "source": [
        "# Recommendations from the test data\n",
        "USER_ID = 20\n",
        "print(f\"Shortlist of movies in the test data:\")\n",
        "user_shortlist = test_DF.filter(test_DF['userId']==USER_ID).select(['movieId', 'userId'])\n",
        "user_shortlist.show()\n",
        "\n",
        "print(f\"Top 5 recommendations:\")\n",
        "user_recommend = gcloud_model.transform(user_shortlist)\n",
        "user_recommend.orderBy('prediction', ascending=False).show(5)"
      ],
      "metadata": {
        "colab": {
          "base_uri": "https://localhost:8080/"
        },
        "id": "SBdMZZeowybM",
        "outputId": "743e776c-fadc-42f2-ba37-00200da23a99"
      },
      "execution_count": 16,
      "outputs": [
        {
          "output_type": "stream",
          "name": "stdout",
          "text": [
            "Shortlist of movies in the test data:\n",
            "+-------+------+\n",
            "|movieId|userId|\n",
            "+-------+------+\n",
            "|     13|    20|\n",
            "|    158|    20|\n",
            "|    531|    20|\n",
            "|    661|    20|\n",
            "|    709|    20|\n",
            "|    899|    20|\n",
            "|    914|    20|\n",
            "|    986|    20|\n",
            "|   1015|    20|\n",
            "|   1022|    20|\n",
            "|   1031|    20|\n",
            "|   1333|    20|\n",
            "|   1367|    20|\n",
            "|   1688|    20|\n",
            "|   1876|    20|\n",
            "|   2048|    20|\n",
            "|   2059|    20|\n",
            "|   2085|    20|\n",
            "|   2092|    20|\n",
            "|   2137|    20|\n",
            "+-------+------+\n",
            "only showing top 20 rows\n",
            "\n",
            "Top 5 recommendations:\n",
            "+-------+------+----------+\n",
            "|movieId|userId|prediction|\n",
            "+-------+------+----------+\n",
            "|    914|    20|  4.808429|\n",
            "|    899|    20|  4.744645|\n",
            "|   5618|    20| 4.3870435|\n",
            "|   2137|    20|  4.034315|\n",
            "|   4154|    20|  4.009702|\n",
            "+-------+------+----------+\n",
            "only showing top 5 rows\n",
            "\n"
          ]
        }
      ]
    },
    {
      "cell_type": "markdown",
      "source": [
        "# Conclusion"
      ],
      "metadata": {
        "id": "b3sK_i6cy9Si"
      }
    }
  ]
}