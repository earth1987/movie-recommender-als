{
  "nbformat": 4,
  "nbformat_minor": 0,
  "metadata": {
    "colab": {
      "provenance": [],
      "toc_visible": true
    },
    "kernelspec": {
      "name": "python3",
      "display_name": "Python 3"
    }
  },
  "cells": [
    {
      "cell_type": "markdown",
      "metadata": {
        "id": "gw8sWRdFqtYo"
      },
      "source": [
        "# Movie recommendation using ALS in Spark\n",
        "\n",
        "The goal of this project is to use Alternating Least Squares (ALS) in Spark to recommend movies."
      ]
    },
    {
      "cell_type": "markdown",
      "source": [
        "# Set-up"
      ],
      "metadata": {
        "id": "rhxMysMPO10B"
      }
    },
    {
      "cell_type": "markdown",
      "source": [
        "## Google Drive"
      ],
      "metadata": {
        "id": "1A37VgUbq-dk"
      }
    },
    {
      "cell_type": "code",
      "metadata": {
        "id": "RrEXZtlCqztr",
        "colab": {
          "base_uri": "https://localhost:8080/"
        },
        "outputId": "85da26bf-1395-4818-a72c-12bdf68c5489"
      },
      "source": [
        "from google.colab import drive\n",
        "drive.mount('/content/drive')"
      ],
      "execution_count": 1,
      "outputs": [
        {
          "output_type": "stream",
          "name": "stdout",
          "text": [
            "Mounted at /content/drive\n"
          ]
        }
      ]
    },
    {
      "cell_type": "markdown",
      "source": [
        "## Dependencies"
      ],
      "metadata": {
        "id": "QMarvfQ0O-Ns"
      }
    },
    {
      "cell_type": "code",
      "source": [
        "from math import sqrt\n",
        "from matplotlib import pyplot as plt\n",
        "import pandas as pd"
      ],
      "metadata": {
        "id": "F5FIWp_e2a6i"
      },
      "execution_count": 2,
      "outputs": []
    },
    {
      "cell_type": "code",
      "source": [
        "# Create a spark context and session\n",
        "%cd\n",
        "!apt-get update -qq\n",
        "!apt-get install openjdk-8-jdk-headless -qq > /dev/null\n",
        "!tar -xzf '/content/drive/MyDrive/Colab Notebooks/spark-3.0.1-bin-hadoop2.7.tgz'\n",
        "!pip install -q findspark\n",
        "import os\n",
        "os.environ[\"JAVA_HOME\"] = \"/usr/lib/jvm/java-8-openjdk-amd64\"\n",
        "os.environ[\"SPARK_HOME\"] = \"/root/spark-3.0.1-bin-hadoop2.7\"\n",
        "%cd /content\n",
        "\n",
        "import findspark\n",
        "findspark.init()\n",
        "import pyspark\n",
        "sc = pyspark.SparkContext.getOrCreate()\n",
        "spark = pyspark.sql.SparkSession.builder.getOrCreate()\n",
        "print(sc)\n",
        "print(spark)"
      ],
      "metadata": {
        "colab": {
          "base_uri": "https://localhost:8080/"
        },
        "id": "czQvAqfdiSC3",
        "outputId": "e54452df-dbe1-4bdd-e031-06c666c05bd0"
      },
      "execution_count": 3,
      "outputs": [
        {
          "output_type": "stream",
          "name": "stdout",
          "text": [
            "/root\n",
            "/content\n",
            "<SparkContext master=local[*] appName=pyspark-shell>\n",
            "<pyspark.sql.session.SparkSession object at 0x78ab2baf6fb0>\n"
          ]
        }
      ]
    },
    {
      "cell_type": "markdown",
      "source": [
        "# Background (placeholder)\n",
        "* Recommendation systems\n",
        "* Collaborative filtering\n",
        "* ALS matrix factorization\n"
      ],
      "metadata": {
        "id": "Nn1pwj8n0z0R"
      }
    },
    {
      "cell_type": "markdown",
      "source": [
        "# Local training\n",
        "Before training a model in the cloud, a smaller model will be trained locally using PySpark. This will enable validation of the approach."
      ],
      "metadata": {
        "id": "mTrfBULTqYWL"
      }
    },
    {
      "cell_type": "markdown",
      "metadata": {
        "id": "6ysksD8nSYit"
      },
      "source": [
        "## Training/test data\n",
        "\n",
        "**Key observations:**\n",
        "\n",
        "* The dataset consists of 1501 records.\n",
        "\n",
        "* It contains the following four columns: 'userID', 'movieID', 'rating' and 'timestamp'. These are seperated by '::'\n",
        "\n",
        "* Two Spark DataFrames are created. These correspond to training/test data\n",
        "\n",
        "  Note: Data is read into an RDD initially."
      ]
    },
    {
      "cell_type": "code",
      "source": [
        "!wc \"/content/drive/MyDrive/Colab Notebooks/sample_movielens_ratings.txt\"\n",
        "print(\"\\n\")\n",
        "!head -n 5 \"/content/drive/MyDrive/Colab Notebooks/sample_movielens_ratings.txt\""
      ],
      "metadata": {
        "colab": {
          "base_uri": "https://localhost:8080/"
        },
        "id": "ocI7igjp_xQY",
        "outputId": "a24d08e9-606e-44d1-b0c6-f5fa811fadb4"
      },
      "execution_count": 59,
      "outputs": [
        {
          "output_type": "stream",
          "name": "stdout",
          "text": [
            " 1501  1501 32363 /content/drive/MyDrive/Colab Notebooks/sample_movielens_ratings.txt\n",
            "\n",
            "\n",
            "0::2::3::1424380312\n",
            "0::3::1::1424380312\n",
            "0::5::2::1424380312\n",
            "0::9::4::1424380312\n",
            "0::11::1::1424380312\n"
          ]
        }
      ]
    },
    {
      "cell_type": "code",
      "source": [
        "# Read into RDD\n",
        "records = spark.read.text(\"/content/drive/MyDrive/Colab Notebooks/sample_movielens_ratings.txt\").rdd\n",
        "display(records.take(1))\n",
        "\n",
        "# Split columns\n",
        "elements = records.map(lambda row: row.value.split('::'))\n",
        "print(\"\\n\")\n",
        "display(elements.take(1))"
      ],
      "metadata": {
        "colab": {
          "base_uri": "https://localhost:8080/",
          "height": 86
        },
        "id": "XI5BCVG3nI0Z",
        "outputId": "c24b2923-aee4-49a7-c083-e7f0685186d5"
      },
      "execution_count": 60,
      "outputs": [
        {
          "output_type": "display_data",
          "data": {
            "text/plain": [
              "[Row(value='0::2::3::1424380312')]"
            ]
          },
          "metadata": {}
        },
        {
          "output_type": "stream",
          "name": "stdout",
          "text": [
            "\n",
            "\n"
          ]
        },
        {
          "output_type": "display_data",
          "data": {
            "text/plain": [
              "[['0', '2', '3', '1424380312']]"
            ]
          },
          "metadata": {}
        }
      ]
    },
    {
      "cell_type": "code",
      "source": [
        "# Create DataFrame using pyspark.sql.Row object\n",
        "from pyspark.sql import Row\n",
        "row_RDD = elements.map(lambda row: Row(userId=int(row[0]), movieId=int(row[1]), rating=float(row[2]), timestamp=int(row[3])))\n",
        "ratings_DF = spark.createDataFrame(row_RDD)\n",
        "ratings_DF.createOrReplaceTempView('ratings_DF') # register temporary view enabling SQL queries\n",
        "\n",
        "# Train/test split\n",
        "(training_DF, valid_DF) = ratings_DF.randomSplit([0.8, 0.2])\n",
        "print(\"Training data:\")\n",
        "print(training_DF.show(5))\n",
        "print(training_DF.count())\n",
        "print(\"\\nTest data:\")\n",
        "print(valid_DF.show(5))\n",
        "print(valid_DF.count())"
      ],
      "metadata": {
        "id": "qSFbGWWunDjy",
        "colab": {
          "base_uri": "https://localhost:8080/"
        },
        "outputId": "57887d2a-587f-4400-897d-b3d35cfd3be6"
      },
      "execution_count": 57,
      "outputs": [
        {
          "output_type": "stream",
          "name": "stdout",
          "text": [
            "Training data:\n",
            "+------+-------+------+----------+\n",
            "|userId|movieId|rating| timestamp|\n",
            "+------+-------+------+----------+\n",
            "|     0|      2|   3.0|1424380312|\n",
            "|     0|      3|   1.0|1424380312|\n",
            "|     0|      5|   2.0|1424380312|\n",
            "|     0|      9|   4.0|1424380312|\n",
            "|     0|     11|   1.0|1424380312|\n",
            "+------+-------+------+----------+\n",
            "only showing top 5 rows\n",
            "\n",
            "None\n",
            "1199\n",
            "\n",
            "Test data:\n",
            "+------+-------+------+----------+\n",
            "|userId|movieId|rating| timestamp|\n",
            "+------+-------+------+----------+\n",
            "|     0|     12|   2.0|1424380312|\n",
            "|     0|     17|   1.0|1424380312|\n",
            "|     0|     28|   1.0|1424380312|\n",
            "|     0|     34|   1.0|1424380312|\n",
            "|     0|     55|   1.0|1424380312|\n",
            "+------+-------+------+----------+\n",
            "only showing top 5 rows\n",
            "\n",
            "None\n",
            "302\n"
          ]
        }
      ]
    },
    {
      "cell_type": "markdown",
      "metadata": {
        "id": "E-amZql8qtY2"
      },
      "source": [
        "## Baseline\n",
        "\n",
        "**Key observation:**\n",
        "* A naive prediction will be used to construct a baseline model. This will be the mean rating across all movies.\n",
        "\n",
        "* The performance of this baseline model is estimated using root-mean-squared error."
      ]
    },
    {
      "cell_type": "code",
      "source": [
        "# Naive prediction\n",
        "SQL_query = 'SELECT AVG(rating) FROM ratings_DF'\n",
        "row_baseline = spark.sql(SQL_query).collect()[0] # query returns dataframe with only 1 row\n",
        "naive_pred = row_baseline['avg(rating)'] # access via dictionary\n",
        "print(naive_pred)"
      ],
      "metadata": {
        "colab": {
          "base_uri": "https://localhost:8080/"
        },
        "id": "s_Wgzxkwrf1f",
        "outputId": "324c84f3-0cf4-4454-a3ed-fa75ec47cb5a"
      },
      "execution_count": 10,
      "outputs": [
        {
          "output_type": "stream",
          "name": "stdout",
          "text": [
            "1.7741505662891406\n"
          ]
        }
      ]
    },
    {
      "cell_type": "code",
      "source": [
        "# Squared error for each movie\n",
        "se_RDD = valid_DF.rdd.map(lambda row: Row(se=pow(row['rating']-baseline, 2)))\n",
        "se_DF = spark.createDataFrame(se_RDD)\n",
        "se_DF.createOrReplaceTempView('se_DF') # register temporary view enabling SQL queries\n",
        "se_DF.show(5)\n",
        "\n",
        "# RMSE\n",
        "SQL_query = 'SELECT AVG(se) FROM se_DF'\n",
        "row_avg = spark.sql(SQL_query).collect()[0] # query returns dataframe with only 1 row\n",
        "MSE = row_avg['avg(se)'] # access via dictionary\n",
        "print(f\"Baseline RMSE: {sqrt(MSE)}\")"
      ],
      "metadata": {
        "colab": {
          "base_uri": "https://localhost:8080/"
        },
        "id": "gTy4q-rtvB4-",
        "outputId": "920f0980-fe9c-46bc-f224-fb194879abeb"
      },
      "execution_count": 61,
      "outputs": [
        {
          "output_type": "stream",
          "name": "stdout",
          "text": [
            "+-------------------+\n",
            "|                 se|\n",
            "+-------------------+\n",
            "|0.05100796670751588|\n",
            "|  0.599309099285797|\n",
            "|  0.599309099285797|\n",
            "|  0.599309099285797|\n",
            "|  0.599309099285797|\n",
            "+-------------------+\n",
            "only showing top 5 rows\n",
            "\n",
            "Baseline RMSE: 1.1547772862586039\n"
          ]
        }
      ]
    },
    {
      "cell_type": "markdown",
      "metadata": {
        "id": "RPkw5oTDqtY9"
      },
      "source": [
        "## Hyperparameter tuning\n",
        "\n",
        "**Key observations:**\n",
        "\n",
        "* An [ALS estimator](https://spark.apache.org/docs/latest/api/python/reference/api/pyspark.ml.recommendation.ALS.html#pyspark.ml.recommendation.ALS) is created and cross-validation is used to assess different values for 'rank' and 'regParam'.\n",
        "\n",
        "  Where, 'rank' is the number of latent factors in the model and 'regParam' is the coefficient of the regularisation term.\n",
        "\n",
        "* By default, the CrossValidator returns the model with the highest average cross-validation metric across folds.\n",
        "\n",
        "* Root-mean-squared-error was used to evaluate performance."
      ]
    },
    {
      "cell_type": "code",
      "source": [
        "from pyspark.ml.tuning import CrossValidator, ParamGridBuilder\n",
        "from pyspark.ml.evaluation import RegressionEvaluator\n",
        "from pyspark.ml.recommendation import ALS\n",
        "\n",
        "# ALS estimator\n",
        "als = ALS(maxIter=10, rank=15, regParam=0.1, userCol=\"userId\", itemCol=\"movieId\", ratingCol=\"rating\")\n",
        "\n",
        "# Parameter grid\n",
        "# Source: https://spark.apache.org/docs/latest/api/python/reference/api/pyspark.ml.tuning.ParamGridBuilder.html#pyspark.ml.tuning.ParamGridBuilder\n",
        "param_grid = ParamGridBuilder().addGrid(als.rank, [15, 20, 25]).addGrid(als.regParam, [0.01, 0.1, 1, 10]).build()\n",
        "\n",
        "# Regression evaluator\n",
        "# Source: https://spark.apache.org/docs/latest/api/python/reference/api/pyspark.ml.evaluation.RegressionEvaluator.html#pyspark.ml.evaluation.RegressionEvaluator\n",
        "reg_eval = RegressionEvaluator(metricName=\"rmse\", labelCol=\"rating\", predictionCol=\"prediction\")\n",
        "\n",
        "# k-fold cross validation\n",
        "# Source: https://spark.apache.org/docs/latest/api/python/reference/api/pyspark.ml.tuning.CrossValidator.html\n",
        "k=3\n",
        "kfold_cv = CrossValidator(estimator=als, estimatorParamMaps=param_grid, evaluator=reg_eval, numFolds=k)\n",
        "cvModel = kfold_cv.fit(training_DF)"
      ],
      "metadata": {
        "id": "lPHGV5sQyILa"
      },
      "execution_count": 29,
      "outputs": []
    },
    {
      "cell_type": "code",
      "source": [
        "# Gridsearch results\n",
        "# Note: Parameter maps and metrics are local Python lists hence pandas dataframe\n",
        "cv_output = list(zip(cvModel.getEstimatorParamMaps(), cvModel.avgMetrics))\n",
        "cv_output = pd.DataFrame(cv_output, columns=['parameter combination', 'rmse'])\n",
        "cv_output.sort_values(by=['rmse']).head()"
      ],
      "metadata": {
        "colab": {
          "base_uri": "https://localhost:8080/",
          "height": 206
        },
        "id": "oKxqUKOl1o3O",
        "outputId": "e3a34822-1166-46ce-82d9-07f6d57f0c0e"
      },
      "execution_count": 30,
      "outputs": [
        {
          "output_type": "execute_result",
          "data": {
            "text/plain": [
              "                               parameter combination      rmse\n",
              "5  {ALS_92bb8309cc73__rank: 20, ALS_92bb8309cc73_...  1.117973\n",
              "1  {ALS_92bb8309cc73__rank: 15, ALS_92bb8309cc73_...  1.118259\n",
              "9  {ALS_92bb8309cc73__rank: 25, ALS_92bb8309cc73_...  1.118272\n",
              "6  {ALS_92bb8309cc73__rank: 20, ALS_92bb8309cc73_...  1.516239\n",
              "2  {ALS_92bb8309cc73__rank: 15, ALS_92bb8309cc73_...  1.516239"
            ],
            "text/html": [
              "\n",
              "  <div id=\"df-be528825-0edc-41c1-8225-20ea0c8307a9\" class=\"colab-df-container\">\n",
              "    <div>\n",
              "<style scoped>\n",
              "    .dataframe tbody tr th:only-of-type {\n",
              "        vertical-align: middle;\n",
              "    }\n",
              "\n",
              "    .dataframe tbody tr th {\n",
              "        vertical-align: top;\n",
              "    }\n",
              "\n",
              "    .dataframe thead th {\n",
              "        text-align: right;\n",
              "    }\n",
              "</style>\n",
              "<table border=\"1\" class=\"dataframe\">\n",
              "  <thead>\n",
              "    <tr style=\"text-align: right;\">\n",
              "      <th></th>\n",
              "      <th>parameter combination</th>\n",
              "      <th>rmse</th>\n",
              "    </tr>\n",
              "  </thead>\n",
              "  <tbody>\n",
              "    <tr>\n",
              "      <th>5</th>\n",
              "      <td>{ALS_92bb8309cc73__rank: 20, ALS_92bb8309cc73_...</td>\n",
              "      <td>1.117973</td>\n",
              "    </tr>\n",
              "    <tr>\n",
              "      <th>1</th>\n",
              "      <td>{ALS_92bb8309cc73__rank: 15, ALS_92bb8309cc73_...</td>\n",
              "      <td>1.118259</td>\n",
              "    </tr>\n",
              "    <tr>\n",
              "      <th>9</th>\n",
              "      <td>{ALS_92bb8309cc73__rank: 25, ALS_92bb8309cc73_...</td>\n",
              "      <td>1.118272</td>\n",
              "    </tr>\n",
              "    <tr>\n",
              "      <th>6</th>\n",
              "      <td>{ALS_92bb8309cc73__rank: 20, ALS_92bb8309cc73_...</td>\n",
              "      <td>1.516239</td>\n",
              "    </tr>\n",
              "    <tr>\n",
              "      <th>2</th>\n",
              "      <td>{ALS_92bb8309cc73__rank: 15, ALS_92bb8309cc73_...</td>\n",
              "      <td>1.516239</td>\n",
              "    </tr>\n",
              "  </tbody>\n",
              "</table>\n",
              "</div>\n",
              "    <div class=\"colab-df-buttons\">\n",
              "\n",
              "  <div class=\"colab-df-container\">\n",
              "    <button class=\"colab-df-convert\" onclick=\"convertToInteractive('df-be528825-0edc-41c1-8225-20ea0c8307a9')\"\n",
              "            title=\"Convert this dataframe to an interactive table.\"\n",
              "            style=\"display:none;\">\n",
              "\n",
              "  <svg xmlns=\"http://www.w3.org/2000/svg\" height=\"24px\" viewBox=\"0 -960 960 960\">\n",
              "    <path d=\"M120-120v-720h720v720H120Zm60-500h600v-160H180v160Zm220 220h160v-160H400v160Zm0 220h160v-160H400v160ZM180-400h160v-160H180v160Zm440 0h160v-160H620v160ZM180-180h160v-160H180v160Zm440 0h160v-160H620v160Z\"/>\n",
              "  </svg>\n",
              "    </button>\n",
              "\n",
              "  <style>\n",
              "    .colab-df-container {\n",
              "      display:flex;\n",
              "      gap: 12px;\n",
              "    }\n",
              "\n",
              "    .colab-df-convert {\n",
              "      background-color: #E8F0FE;\n",
              "      border: none;\n",
              "      border-radius: 50%;\n",
              "      cursor: pointer;\n",
              "      display: none;\n",
              "      fill: #1967D2;\n",
              "      height: 32px;\n",
              "      padding: 0 0 0 0;\n",
              "      width: 32px;\n",
              "    }\n",
              "\n",
              "    .colab-df-convert:hover {\n",
              "      background-color: #E2EBFA;\n",
              "      box-shadow: 0px 1px 2px rgba(60, 64, 67, 0.3), 0px 1px 3px 1px rgba(60, 64, 67, 0.15);\n",
              "      fill: #174EA6;\n",
              "    }\n",
              "\n",
              "    .colab-df-buttons div {\n",
              "      margin-bottom: 4px;\n",
              "    }\n",
              "\n",
              "    [theme=dark] .colab-df-convert {\n",
              "      background-color: #3B4455;\n",
              "      fill: #D2E3FC;\n",
              "    }\n",
              "\n",
              "    [theme=dark] .colab-df-convert:hover {\n",
              "      background-color: #434B5C;\n",
              "      box-shadow: 0px 1px 3px 1px rgba(0, 0, 0, 0.15);\n",
              "      filter: drop-shadow(0px 1px 2px rgba(0, 0, 0, 0.3));\n",
              "      fill: #FFFFFF;\n",
              "    }\n",
              "  </style>\n",
              "\n",
              "    <script>\n",
              "      const buttonEl =\n",
              "        document.querySelector('#df-be528825-0edc-41c1-8225-20ea0c8307a9 button.colab-df-convert');\n",
              "      buttonEl.style.display =\n",
              "        google.colab.kernel.accessAllowed ? 'block' : 'none';\n",
              "\n",
              "      async function convertToInteractive(key) {\n",
              "        const element = document.querySelector('#df-be528825-0edc-41c1-8225-20ea0c8307a9');\n",
              "        const dataTable =\n",
              "          await google.colab.kernel.invokeFunction('convertToInteractive',\n",
              "                                                    [key], {});\n",
              "        if (!dataTable) return;\n",
              "\n",
              "        const docLinkHtml = 'Like what you see? Visit the ' +\n",
              "          '<a target=\"_blank\" href=https://colab.research.google.com/notebooks/data_table.ipynb>data table notebook</a>'\n",
              "          + ' to learn more about interactive tables.';\n",
              "        element.innerHTML = '';\n",
              "        dataTable['output_type'] = 'display_data';\n",
              "        await google.colab.output.renderOutput(dataTable, element);\n",
              "        const docLink = document.createElement('div');\n",
              "        docLink.innerHTML = docLinkHtml;\n",
              "        element.appendChild(docLink);\n",
              "      }\n",
              "    </script>\n",
              "  </div>\n",
              "\n",
              "\n",
              "<div id=\"df-6fb02a48-c40d-4b84-a995-93415320ee64\">\n",
              "  <button class=\"colab-df-quickchart\" onclick=\"quickchart('df-6fb02a48-c40d-4b84-a995-93415320ee64')\"\n",
              "            title=\"Suggest charts\"\n",
              "            style=\"display:none;\">\n",
              "\n",
              "<svg xmlns=\"http://www.w3.org/2000/svg\" height=\"24px\"viewBox=\"0 0 24 24\"\n",
              "     width=\"24px\">\n",
              "    <g>\n",
              "        <path d=\"M19 3H5c-1.1 0-2 .9-2 2v14c0 1.1.9 2 2 2h14c1.1 0 2-.9 2-2V5c0-1.1-.9-2-2-2zM9 17H7v-7h2v7zm4 0h-2V7h2v10zm4 0h-2v-4h2v4z\"/>\n",
              "    </g>\n",
              "</svg>\n",
              "  </button>\n",
              "\n",
              "<style>\n",
              "  .colab-df-quickchart {\n",
              "      --bg-color: #E8F0FE;\n",
              "      --fill-color: #1967D2;\n",
              "      --hover-bg-color: #E2EBFA;\n",
              "      --hover-fill-color: #174EA6;\n",
              "      --disabled-fill-color: #AAA;\n",
              "      --disabled-bg-color: #DDD;\n",
              "  }\n",
              "\n",
              "  [theme=dark] .colab-df-quickchart {\n",
              "      --bg-color: #3B4455;\n",
              "      --fill-color: #D2E3FC;\n",
              "      --hover-bg-color: #434B5C;\n",
              "      --hover-fill-color: #FFFFFF;\n",
              "      --disabled-bg-color: #3B4455;\n",
              "      --disabled-fill-color: #666;\n",
              "  }\n",
              "\n",
              "  .colab-df-quickchart {\n",
              "    background-color: var(--bg-color);\n",
              "    border: none;\n",
              "    border-radius: 50%;\n",
              "    cursor: pointer;\n",
              "    display: none;\n",
              "    fill: var(--fill-color);\n",
              "    height: 32px;\n",
              "    padding: 0;\n",
              "    width: 32px;\n",
              "  }\n",
              "\n",
              "  .colab-df-quickchart:hover {\n",
              "    background-color: var(--hover-bg-color);\n",
              "    box-shadow: 0 1px 2px rgba(60, 64, 67, 0.3), 0 1px 3px 1px rgba(60, 64, 67, 0.15);\n",
              "    fill: var(--button-hover-fill-color);\n",
              "  }\n",
              "\n",
              "  .colab-df-quickchart-complete:disabled,\n",
              "  .colab-df-quickchart-complete:disabled:hover {\n",
              "    background-color: var(--disabled-bg-color);\n",
              "    fill: var(--disabled-fill-color);\n",
              "    box-shadow: none;\n",
              "  }\n",
              "\n",
              "  .colab-df-spinner {\n",
              "    border: 2px solid var(--fill-color);\n",
              "    border-color: transparent;\n",
              "    border-bottom-color: var(--fill-color);\n",
              "    animation:\n",
              "      spin 1s steps(1) infinite;\n",
              "  }\n",
              "\n",
              "  @keyframes spin {\n",
              "    0% {\n",
              "      border-color: transparent;\n",
              "      border-bottom-color: var(--fill-color);\n",
              "      border-left-color: var(--fill-color);\n",
              "    }\n",
              "    20% {\n",
              "      border-color: transparent;\n",
              "      border-left-color: var(--fill-color);\n",
              "      border-top-color: var(--fill-color);\n",
              "    }\n",
              "    30% {\n",
              "      border-color: transparent;\n",
              "      border-left-color: var(--fill-color);\n",
              "      border-top-color: var(--fill-color);\n",
              "      border-right-color: var(--fill-color);\n",
              "    }\n",
              "    40% {\n",
              "      border-color: transparent;\n",
              "      border-right-color: var(--fill-color);\n",
              "      border-top-color: var(--fill-color);\n",
              "    }\n",
              "    60% {\n",
              "      border-color: transparent;\n",
              "      border-right-color: var(--fill-color);\n",
              "    }\n",
              "    80% {\n",
              "      border-color: transparent;\n",
              "      border-right-color: var(--fill-color);\n",
              "      border-bottom-color: var(--fill-color);\n",
              "    }\n",
              "    90% {\n",
              "      border-color: transparent;\n",
              "      border-bottom-color: var(--fill-color);\n",
              "    }\n",
              "  }\n",
              "</style>\n",
              "\n",
              "  <script>\n",
              "    async function quickchart(key) {\n",
              "      const quickchartButtonEl =\n",
              "        document.querySelector('#' + key + ' button');\n",
              "      quickchartButtonEl.disabled = true;  // To prevent multiple clicks.\n",
              "      quickchartButtonEl.classList.add('colab-df-spinner');\n",
              "      try {\n",
              "        const charts = await google.colab.kernel.invokeFunction(\n",
              "            'suggestCharts', [key], {});\n",
              "      } catch (error) {\n",
              "        console.error('Error during call to suggestCharts:', error);\n",
              "      }\n",
              "      quickchartButtonEl.classList.remove('colab-df-spinner');\n",
              "      quickchartButtonEl.classList.add('colab-df-quickchart-complete');\n",
              "    }\n",
              "    (() => {\n",
              "      let quickchartButtonEl =\n",
              "        document.querySelector('#df-6fb02a48-c40d-4b84-a995-93415320ee64 button');\n",
              "      quickchartButtonEl.style.display =\n",
              "        google.colab.kernel.accessAllowed ? 'block' : 'none';\n",
              "    })();\n",
              "  </script>\n",
              "</div>\n",
              "    </div>\n",
              "  </div>\n"
            ]
          },
          "metadata": {},
          "execution_count": 30
        }
      ]
    },
    {
      "cell_type": "code",
      "source": [
        "# Optimal configuration\n",
        "print(f\"Lowest RMSE: {cv_output.iloc[cv_output['rmse'].idxmin(), 1]}\")\n",
        "print('Congiguration: ')\n",
        "display(cv_output.iloc[cv_output['rmse'].idxmin(), 0])"
      ],
      "metadata": {
        "colab": {
          "base_uri": "https://localhost:8080/",
          "height": 86
        },
        "id": "6mWMrmJO2kgz",
        "outputId": "e10a8567-9c55-4d11-91f6-9101826242bf"
      },
      "execution_count": 31,
      "outputs": [
        {
          "output_type": "stream",
          "name": "stdout",
          "text": [
            "Lowest RMSE: 1.1179729833114735\n",
            "Congiguration: \n"
          ]
        },
        {
          "output_type": "display_data",
          "data": {
            "text/plain": [
              "{Param(parent='ALS_92bb8309cc73', name='rank', doc='rank of the factorization'): 20,\n",
              " Param(parent='ALS_92bb8309cc73', name='regParam', doc='regularization parameter (>= 0).'): 0.1}"
            ]
          },
          "metadata": {}
        }
      ]
    },
    {
      "cell_type": "markdown",
      "source": [
        "## Model retraining\n",
        "**Key observations:**\n",
        "\n",
        "* The model is retrained using all the training data and the optimal hyperparameter configuration."
      ],
      "metadata": {
        "id": "ex3zPZ_EBFHA"
      }
    },
    {
      "cell_type": "code",
      "source": [
        "als = ALS(maxIter=10, rank=20, regParam=0.1, userCol=\"userId\", itemCol=\"movieId\", ratingCol=\"rating\")\n",
        "local_model = als.fit(training_DF)"
      ],
      "metadata": {
        "id": "gvj5SlyoCkx7"
      },
      "execution_count": null,
      "outputs": []
    },
    {
      "cell_type": "code",
      "source": [
        "print(f\"Factorized user matrix (rank: {local_model.rank})\")\n",
        "local_model.userFactors.show(5, truncate=False)\n",
        "print(\"_\"*50, \"\\n\"*2)\n",
        "print(f\"Factorized item matrix (rank: {local_model.rank})\")\n",
        "local_model.itemFactors.show(5, truncate=False)"
      ],
      "metadata": {
        "colab": {
          "base_uri": "https://localhost:8080/"
        },
        "id": "ADVE-HfsCXMA",
        "outputId": "fa58c7b2-c1e0-464e-fe61-b380e572e790"
      },
      "execution_count": 100,
      "outputs": [
        {
          "output_type": "stream",
          "name": "stdout",
          "text": [
            "Factorized user matrix (rank: 20)\n",
            "+---+---------------------------------------------------------------------------------------------------------------------------------------------------------------------------------------------------------------------------------------------------------+\n",
            "|id |features                                                                                                                                                                                                                                                 |\n",
            "+---+---------------------------------------------------------------------------------------------------------------------------------------------------------------------------------------------------------------------------------------------------------+\n",
            "|0  |[-0.4921751, -0.42428914, -0.58247656, -0.04938016, 0.1075333, -0.0021624768, 0.18210033, 0.60748225, 0.047875714, 0.22440933, 0.1632907, 0.15016097, 0.052175052, -0.3218436, 0.017567582, -0.28347594, 0.35789463, -0.033075057, 0.8735882, 0.60551965]|\n",
            "|10 |[-0.3949705, -0.21221046, -0.7892155, -0.07350728, -0.038887676, 0.23461716, 0.15329784, 0.95889384, -0.23435327, 0.33562857, 0.014018416, 0.13901472, 0.3581045, -0.1142939, -0.12696572, 0.15453775, -0.40809634, -0.2125964, 0.50867426, 0.49899048]  |\n",
            "|20 |[-0.21626537, -0.48314068, 0.26031387, 0.10271955, 0.22493643, -0.32562712, 0.6753351, 0.37127143, -0.12535264, 0.006973583, -0.1772025, 1.0184566, 0.08224225, 0.4566067, 0.48069382, -0.26731384, -0.42752522, 0.061955996, 0.40531558, 0.53989905]    |\n",
            "|1  |[0.069514625, -0.2973805, -0.35964364, 0.13677481, 0.19456567, -0.098653145, 0.4406719, 0.02790911, -0.050397772, 0.06942594, 0.32114577, 0.55096877, -0.21663463, 0.15396862, 0.6128563, -0.3053799, 0.013433901, 0.13942923, 0.6277487, 0.8084654]     |\n",
            "|11 |[-0.83612484, 0.92859846, 0.38387838, 0.34394854, -0.21414232, -0.27279013, 0.33966735, 0.49776742, -0.7395656, -0.14319286, 0.49008128, 0.310798, 0.1888134, 0.5684217, 0.3895598, 0.9852338, 0.24876653, -0.13299839, 0.864777, 0.42354748]            |\n",
            "+---+---------------------------------------------------------------------------------------------------------------------------------------------------------------------------------------------------------------------------------------------------------+\n",
            "only showing top 5 rows\n",
            "\n",
            "__________________________________________________ \n",
            "\n",
            "\n",
            "Factorized item matrix (rank: 20)\n",
            "+---+--------------------------------------------------------------------------------------------------------------------------------------------------------------------------------------------------------------------------------------------------------+\n",
            "|id |features                                                                                                                                                                                                                                                |\n",
            "+---+--------------------------------------------------------------------------------------------------------------------------------------------------------------------------------------------------------------------------------------------------------+\n",
            "|0  |[-0.38495392, -0.055762194, -0.487614, -0.10177195, 0.056532826, 0.1824238, 0.10075318, 0.76075405, -0.10621293, 0.29424253, 0.109664865, 0.27989793, 0.20299387, -0.08353101, -0.08701111, 0.09375254, -0.3270415, -0.07501946, 0.61525685, 0.34636238]|\n",
            "|10 |[-0.0076108617, -0.032905318, -0.5751622, 0.37793362, -0.15487538, -0.08311089, 0.8139442, 0.22999418, -0.19409016, -0.07472645, 0.44227442, 1.2585694, 0.22397713, -0.11021661, 0.17673074, 0.16384666, 0.2518022, -0.2815633, -0.14969705, 0.29288426]|\n",
            "|20 |[-0.05064591, 0.16446671, -0.14105837, 0.008779386, -0.07486445, -0.025357444, 0.1841373, 0.33166957, -0.05653212, 0.017477144, 0.016939808, 0.18646713, 0.16399617, 0.24336302, 0.02416038, -0.08522957, -0.04416401, -0.133399, 0.32142335, 0.3394177]|\n",
            "|30 |[-1.0686694, 0.56362534, 0.17938143, 0.4892047, 8.847948E-5, -0.3223541, 0.6475488, 0.20174462, -0.73993933, -0.47154787, 0.6729175, 0.8154843, -0.02685515, 0.42446584, 0.027149258, 0.5374581, 0.51099163, -0.37638807, 0.20914923, 0.8505367]        |\n",
            "|40 |[-0.25447023, -0.16420874, -0.77591264, 0.13325743, -0.07053177, 0.18961981, 0.10231299, 1.0706321, 0.09024104, 0.3391895, 0.2642299, -0.06511507, 0.5406807, 0.21675494, -0.44125277, -0.112791196, -0.36056104, -0.58921987, 0.5312236, 0.7079827]    |\n",
            "+---+--------------------------------------------------------------------------------------------------------------------------------------------------------------------------------------------------------------------------------------------------------+\n",
            "only showing top 5 rows\n",
            "\n"
          ]
        }
      ]
    },
    {
      "cell_type": "code",
      "source": [
        "k = 5\n",
        "print(f\"Recommended top {k} users by movie with the corresponding predicted ratings:\")\n",
        "local_model.recommendForAllItems(k).show(5, truncate=False)\n",
        "print(\"_\"*50, \"\\n\"*2)\n",
        "print(f\"Recommended top {k} movies by user with the corresponding predicted ratings:\")\n",
        "local_model.recommendForAllUsers(k).show(5, truncate=False)"
      ],
      "metadata": {
        "colab": {
          "base_uri": "https://localhost:8080/"
        },
        "id": "XbI1fKyUvOtR",
        "outputId": "071fddde-86ff-442f-d6be-ac6987b94d8f"
      },
      "execution_count": 104,
      "outputs": [
        {
          "output_type": "stream",
          "name": "stdout",
          "text": [
            "Recommended top 5 users by movie with the corresponding predicted ratings:\n",
            "+-------+-------------------------------------------------------------------------------------+\n",
            "|movieId|recommendations                                                                      |\n",
            "+-------+-------------------------------------------------------------------------------------+\n",
            "|31     |[[12, 2.9682949], [8, 2.7922924], [7, 2.5502038], [14, 2.4726067], [6, 2.2745883]]   |\n",
            "|85     |[[8, 4.160405], [7, 3.3034482], [14, 2.9929502], [6, 2.9518063], [21, 2.9409647]]    |\n",
            "|65     |[[23, 4.1850834], [12, 3.2609832], [29, 2.8855283], [11, 2.8174825], [17, 2.7475526]]|\n",
            "|53     |[[8, 4.4368887], [21, 4.2494946], [22, 3.2436292], [4, 3.062042], [14, 3.0533252]]   |\n",
            "|78     |[[26, 1.080293], [22, 1.0593016], [2, 1.0528979], [11, 1.0088326], [23, 1.0013069]]  |\n",
            "+-------+-------------------------------------------------------------------------------------+\n",
            "only showing top 5 rows\n",
            "\n",
            "__________________________________________________ \n",
            "\n",
            "\n",
            "Recommended top 5 movies by user with the corresponding predicted ratings:\n",
            "+------+------------------------------------------------------------------------------------+\n",
            "|userId|recommendations                                                                     |\n",
            "+------+------------------------------------------------------------------------------------+\n",
            "|28    |[[92, 4.373879], [81, 4.0775766], [12, 3.6827292], [2, 3.522334], [40, 3.0792618]]  |\n",
            "|26    |[[94, 4.6958914], [22, 4.5987387], [88, 4.5888133], [23, 4.359232], [7, 4.194995]]  |\n",
            "|27    |[[19, 2.7115786], [18, 2.6771562], [80, 2.6721497], [79, 2.6672282], [27, 2.613222]]|\n",
            "|12    |[[46, 4.2746844], [64, 4.149874], [27, 4.0641823], [94, 3.4884026], [16, 3.4581327]]|\n",
            "|22    |[[88, 4.528585], [75, 4.447957], [74, 4.2938333], [51, 4.064793], [77, 3.61023]]    |\n",
            "+------+------------------------------------------------------------------------------------+\n",
            "only showing top 5 rows\n",
            "\n"
          ]
        }
      ]
    },
    {
      "cell_type": "markdown",
      "metadata": {
        "id": "JxoaBsfuqtZA"
      },
      "source": [
        "## Evaluation\n",
        "\n",
        "**Key observations:**\n",
        "\n",
        "* The retrained model is assessed using the test set. It performs better than the baseline model.\n",
        "\n",
        "* Plotting actual rating versus predicted rating shows a positive correlation. However, variance is high across the full range of ratings. This may be due to the small size of the training set."
      ]
    },
    {
      "cell_type": "code",
      "source": [
        "valid_pred = local_model.transform(valid_DF)\n",
        "reg_eval = RegressionEvaluator(metricName=\"rmse\", labelCol=\"rating\", predictionCol=\"prediction\")\n",
        "rmse = reg_eval.evaluate(valid_pred)\n",
        "\n",
        "print(f\"RMSE: {rmse}\")\n",
        "print(\"_\"*50, \"\\n\"*2)\n",
        "valid_pred.show()"
      ],
      "metadata": {
        "colab": {
          "base_uri": "https://localhost:8080/"
        },
        "id": "Y0WLyGwhvveG",
        "outputId": "d2ce9d7d-4933-4fcb-d9f2-fe039acb2b12"
      },
      "execution_count": 105,
      "outputs": [
        {
          "output_type": "stream",
          "name": "stdout",
          "text": [
            "RMSE: 0.9750150456757296\n",
            "__________________________________________________ \n",
            "\n",
            "\n",
            "+------+-------+------+----------+----------+\n",
            "|userId|movieId|rating| timestamp|prediction|\n",
            "+------+-------+------+----------+----------+\n",
            "|     5|     31|   1.0|1424380312| 1.1695557|\n",
            "|     4|     31|   1.0|1424380312| 1.4681472|\n",
            "|    28|     85|   1.0|1424380312| 1.2729641|\n",
            "|    26|     85|   1.0|1424380312| 0.9545313|\n",
            "|    13|     85|   1.0|1424380312| 1.4464704|\n",
            "|    16|     85|   5.0|1424380312| 2.1408818|\n",
            "|    20|     85|   2.0|1424380312| 1.8305455|\n",
            "|    15|     85|   1.0|1424380312| 1.0068299|\n",
            "|    19|     65|   1.0|1424380312| 1.0864954|\n",
            "|    12|     53|   1.0|1424380312| 1.0321212|\n",
            "|     6|     53|   1.0|1424380312| 1.8331316|\n",
            "|    23|     53|   1.0|1424380312|0.39603585|\n",
            "|    19|     78|   1.0|1424380312| 0.7281174|\n",
            "|    24|     78|   1.0|1424380312| 0.9074033|\n",
            "|     0|     34|   1.0|1424380312| 0.9669715|\n",
            "|    22|     81|   1.0|1424380312|  1.811269|\n",
            "|     1|     81|   1.0|1424380312| 1.4099746|\n",
            "|    21|     81|   1.0|1424380312| 1.1268833|\n",
            "|    18|     81|   3.0|1424380312| 2.1610427|\n",
            "|     2|     28|   1.0|1424380312| 2.1643822|\n",
            "+------+-------+------+----------+----------+\n",
            "only showing top 20 rows\n",
            "\n"
          ]
        }
      ]
    },
    {
      "cell_type": "code",
      "source": [
        "local_model = valid_pred.toPandas()\n",
        "\n",
        "fig, axes = plt.subplots()\n",
        "axes.tick_params(bottom=False, left=False)\n",
        "axes.grid(False)\n",
        "axes.spines[['top', 'right']].set_visible(False)\n",
        "axes.spines[['left', 'bottom']].set_color('dimgray')\n",
        "\n",
        "axes.scatter(local_model['rating'], local_model['prediction'], color='dimgray')\n",
        "axes.set_xlabel('Actual rating', fontsize=10, color='dimgray')\n",
        "axes.set_ylabel('Prediction', fontsize=10, color='dimgray');"
      ],
      "metadata": {
        "colab": {
          "base_uri": "https://localhost:8080/",
          "height": 449
        },
        "id": "Fv028dMBFfl2",
        "outputId": "84585d99-cc20-4641-ec01-346c3cb7edc9"
      },
      "execution_count": 118,
      "outputs": [
        {
          "output_type": "display_data",
          "data": {
            "text/plain": [
              "<Figure size 640x480 with 1 Axes>"
            ],
            "image/png": "[encoded data removed]"
          },
          "metadata": {}
        }
      ]
    },
    {
      "cell_type": "markdown",
      "source": [
        "## User recommendation\n",
        "**Key observations:**\n",
        "* Recommendations are made by making predictions for all movies in the test data (followed by sorting).\n",
        "\n",
        "  Note: There is no overlap between the ratings history for a user, as given in the training data, and the shortlist of movies in the test data."
      ],
      "metadata": {
        "id": "uvalEiC49WxZ"
      }
    },
    {
      "cell_type": "code",
      "source": [
        "# Ratings history in the training data\n",
        "USER_ID = 11\n",
        "user_history = training_DF.filter(training_DF['userId']==USER_ID)\n",
        "user_history.show(10)"
      ],
      "metadata": {
        "colab": {
          "base_uri": "https://localhost:8080/"
        },
        "id": "rSZJL18i0JIB",
        "outputId": "f5122338-ebfc-42f7-d940-cf289643c6c1"
      },
      "execution_count": 80,
      "outputs": [
        {
          "output_type": "stream",
          "name": "stdout",
          "text": [
            "+------+-------+------+----------+\n",
            "|userId|movieId|rating| timestamp|\n",
            "+------+-------+------+----------+\n",
            "|    11|      6|   2.0|1424380312|\n",
            "|    11|      9|   1.0|1424380312|\n",
            "|    11|     10|   1.0|1424380312|\n",
            "|    11|     11|   1.0|1424380312|\n",
            "|    11|     12|   1.0|1424380312|\n",
            "|    11|     13|   4.0|1424380312|\n",
            "|    11|     16|   1.0|1424380312|\n",
            "|    11|     18|   5.0|1424380312|\n",
            "|    11|     19|   4.0|1424380312|\n",
            "|    11|     20|   1.0|1424380312|\n",
            "+------+-------+------+----------+\n",
            "only showing top 10 rows\n",
            "\n"
          ]
        }
      ]
    },
    {
      "cell_type": "code",
      "source": [
        "# Recommendations from the test data\n",
        "print(f\"Shortlist of movies in the test data:\")\n",
        "user_shortlist = valid_DF.filter(valid_DF['userId']==USER_ID).select(['movieId', 'userId'])\n",
        "user_shortlist.show()\n",
        "\n",
        "print(f\"Top 5 recommendations:\")\n",
        "user_recommend = local_model.transform(user_shortlist)\n",
        "user_recommend.orderBy('prediction', ascending=False).show(5)"
      ],
      "metadata": {
        "colab": {
          "base_uri": "https://localhost:8080/"
        },
        "id": "mg3pWFJC_tJJ",
        "outputId": "d759574f-59f8-4836-dddd-bf1baa86ce2b"
      },
      "execution_count": 82,
      "outputs": [
        {
          "output_type": "stream",
          "name": "stdout",
          "text": [
            "Shortlist of movies in the test data:\n",
            "+-------+------+\n",
            "|movieId|userId|\n",
            "+-------+------+\n",
            "|      0|    11|\n",
            "|     36|    11|\n",
            "|     41|    11|\n",
            "|     43|    11|\n",
            "|     48|    11|\n",
            "|     61|    11|\n",
            "|     67|    11|\n",
            "|     70|    11|\n",
            "|     71|    11|\n",
            "|     72|    11|\n",
            "|     76|    11|\n",
            "|     77|    11|\n",
            "|     86|    11|\n",
            "+-------+------+\n",
            "\n",
            "Top 5 recommendations:\n",
            "+-------+------+----------+\n",
            "|movieId|userId|prediction|\n",
            "+-------+------+----------+\n",
            "|     76|    11| 2.6217453|\n",
            "|     36|    11| 2.2006466|\n",
            "|     72|    11| 2.1804938|\n",
            "|     43|    11| 2.0464292|\n",
            "|     77|    11| 1.7649262|\n",
            "+-------+------+----------+\n",
            "only showing top 5 rows\n",
            "\n"
          ]
        }
      ]
    },
    {
      "cell_type": "markdown",
      "source": [
        "# Cloud training\n",
        "**Key observation:**\n",
        "* The final model will be trained using all available data. This will be achieved using the Google Cloud platform."
      ],
      "metadata": {
        "id": "NOZp9Y4x7kR_"
      }
    },
    {
      "cell_type": "markdown",
      "source": [
        "## Data\n",
        "**Key observation:**\n",
        "* The data is available in csv form. Consequently, the data prep process will need to be adjusted."
      ],
      "metadata": {
        "id": "GQ2emuL6GO6R"
      }
    },
    {
      "cell_type": "code",
      "source": [
        "!wc \"/content/drive/MyDrive/Colab Notebooks/ratings.csv\""
      ],
      "metadata": {
        "colab": {
          "base_uri": "https://localhost:8080/"
        },
        "id": "QRTqqBt9_r2H",
        "outputId": "22d470ab-867c-4737-bc42-6b1bdcbac160"
      },
      "execution_count": null,
      "outputs": [
        {
          "output_type": "stream",
          "name": "stdout",
          "text": [
            " 100837  100837 2483723 /content/drive/MyDrive/Colab Notebooks/ratings.csv\n"
          ]
        }
      ]
    },
    {
      "cell_type": "code",
      "source": [
        "!head -n 5 \"/content/drive/MyDrive/Colab Notebooks/ratings.csv\""
      ],
      "metadata": {
        "colab": {
          "base_uri": "https://localhost:8080/"
        },
        "id": "-HG7_NAp8b_K",
        "outputId": "614dcb0c-e94a-4167-c91d-c7cb04d56a30"
      },
      "execution_count": null,
      "outputs": [
        {
          "output_type": "stream",
          "name": "stdout",
          "text": [
            "userId,movieId,rating,timestamp\r\n",
            "1,1,4.0,964982703\r\n",
            "1,3,4.0,964981247\r\n",
            "1,6,4.0,964982224\r\n",
            "1,47,5.0,964983815\r\n"
          ]
        }
      ]
    },
    {
      "cell_type": "markdown",
      "source": [
        "## Training script"
      ],
      "metadata": {
        "id": "F_9KhBYV__7u"
      }
    },
    {
      "cell_type": "code",
      "source": [
        "%%writefile als_model.py\n",
        "import sys\n",
        "from math import sqrt\n",
        "from pyspark import SparkContext\n",
        "from pyspark.sql import SparkSession\n",
        "from pyspark.sql import Row\n",
        "from pyspark.ml.tuning import CrossValidator, ParamGridBuilder\n",
        "from pyspark.ml.evaluation import RegressionEvaluator\n",
        "from pyspark.ml.recommendation import ALS\n",
        "\n",
        "INPUT_PATH = sys.argv[1] # parse file path from command line\n",
        "\n",
        "if __name__ == '__main__':\n",
        "\n",
        "    # Create SparkContext and SparkSession\n",
        "    sc = SparkContext(appName=\"spark-submit demo\")\n",
        "    spark = SparkSession.builder.getOrCreate()\n",
        "\n",
        "    # 1. Training/test data prep\n",
        "    rows = spark.read.csv(INPUT_PATH, header=True).rdd\n",
        "    row_RDD = rows.map(lambda row: Row(userId=int(row[0]), movieId=int(row[1]), rating=float(row[2]), timestamp=int(row[3])))\n",
        "    ratings_DF = spark.createDataFrame(row_RDD)\n",
        "    ratings_DF.createOrReplaceTempView('ratings_DF') # register temporary view enabling SQL queries\n",
        "    (training_DF, test_DF) = ratings_DF.randomSplit([0.8, 0.2])\n",
        "\n",
        "    # 2. Baseline\n",
        "    # Calculate mean rating across all rows in the training set\n",
        "    SQL_query = 'SELECT AVG(rating) FROM ratings_DF'\n",
        "    row_baseline = spark.sql(SQL_query).first() # query returns dataframe with only 1 row\n",
        "    baseline = row_baseline['avg(rating)'] # access via dictionary\n",
        "\n",
        "    # Calculate squared error for each row in the validation set\n",
        "    se_RDD = valid_DF.rdd.map(lambda row: Row(se=pow(row['rating']-baseline, 2)))\n",
        "    se_DF = spark.createDataFrame(se_RDD)\n",
        "    se_DF.createOrReplaceTempView('se_DF') # register temporary view enabling SQL queries\n",
        "\n",
        "    # Calculate RMSE\n",
        "    SQL_query = 'SELECT AVG(se) FROM se_DF'\n",
        "    row_avg = spark.sql(SQL_query).first() # query returns dataframe with only 1 row\n",
        "    MSE = row_avg['avg(se)'] # access via dictionary\n",
        "    print(f\"Baseline RMSE: {sqrt(MSE)}\")\n",
        "\n",
        "    # 3. Hyperparameter tuning\n",
        "    # Source: https://spark.apache.org/docs/latest/api/python/reference/api/pyspark.ml.tuning.ParamGridBuilder.html#pyspark.ml.tuning.ParamGridBuilder\n",
        "    # Source: https://spark.apache.org/docs/latest/api/python/reference/api/pyspark.ml.evaluation.RegressionEvaluator.html#pyspark.ml.evaluation.RegressionEvaluator\n",
        "    # Source: https://spark.apache.org/docs/latest/api/python/reference/api/pyspark.ml.tuning.CrossValidator.html\n",
        "\n",
        "    als = ALS(maxIter=5, rank=5, regParam=0.1, userCol=\"userId\", itemCol=\"movieId\", ratingCol=\"rating\") # ALS estimator\n",
        "    param_grid = ParamGridBuilder().addGrid(als.rank, [1, 3, 10]).addGrid(als.regParam, [0.01, 0.03, 0.1, 0.3, 1]).build() # parameter grid\n",
        "    reg_eval = RegressionEvaluator(metricName=\"rmse\", labelCol=\"rating\", predictionCol=\"prediction\") # regression evaluator\n",
        "    k=3\n",
        "    kfold_cv = CrossValidator(estimator=als, estimatorParamMaps=param_grid, evaluator=reg_eval, numFolds=k) # k-fold cross validation\n",
        "    cvModel = kfold_cv.fit(training_DF)\n",
        "\n",
        "    # 4. Evaluation\n",
        "    param_map = zip(cvModel.getEstimatorParamMaps(), cvModel.avgMetrics)\n",
        "    param_min = min(paramMap, key=lambda x: x[1])\n",
        "    print(f\"Optimal configuration: {param_min}\")\n",
        "    test_pred = cvModel.transform(test_DF)\n",
        "    rmse = regEval.evaluate(test_pred)\n",
        "    print(f\"RMSE: {rmse}\")\n",
        "\n",
        "    # Shutdown Spark context\n",
        "    sc.stop()"
      ],
      "metadata": {
        "id": "4Tj00m8S__BK"
      },
      "execution_count": null,
      "outputs": []
    },
    {
      "cell_type": "markdown",
      "source": [
        "## Google Cloud"
      ],
      "metadata": {
        "id": "4Z6_CPk_GrqH"
      }
    },
    {
      "cell_type": "markdown",
      "source": [
        "### Authentication"
      ],
      "metadata": {
        "id": "Fo5YBHzxGESg"
      }
    },
    {
      "cell_type": "code",
      "source": [
        "import sys\n",
        "if 'google.colab' in sys.modules:\n",
        "    from google.colab import auth\n",
        "    auth.authenticate_user()"
      ],
      "metadata": {
        "id": "2ir8EgB6GDXG"
      },
      "execution_count": null,
      "outputs": []
    },
    {
      "cell_type": "markdown",
      "source": [
        "### Project configuration"
      ],
      "metadata": {
        "id": "G_aq5HRsFQ9z"
      }
    },
    {
      "cell_type": "code",
      "source": [
        "PROJECT = 'bd-lab-6-test' # Project ID\n",
        "!gcloud config set project $PROJECT\n",
        "REGION = 'us-central1'\n",
        "!gcloud config set compute/region $REGION\n",
        "!gcloud config set dataproc/region $REGION\n",
        "!echo \"gcloud config list\"\n",
        "!gcloud config list # show some information"
      ],
      "metadata": {
        "id": "kxM_VZudFQYP"
      },
      "execution_count": null,
      "outputs": []
    },
    {
      "cell_type": "markdown",
      "source": [
        "### Data upload"
      ],
      "metadata": {
        "id": "VmIbbUV0F2ZL"
      }
    },
    {
      "cell_type": "code",
      "source": [
        "# Create storage bucket\n",
        "BUCKET = 'gs://{}-storage'.format(PROJECT)\n",
        "!gsutil mb $BUCKET\n",
        "print(BUCKET)"
      ],
      "metadata": {
        "id": "BxPtrMguF7BO"
      },
      "execution_count": null,
      "outputs": []
    },
    {
      "cell_type": "code",
      "source": [
        "# Copy data to storage bucket\n",
        "FILEPATH = \"/content/drive/MyDrive/Colab Notebooks/ratings.csv\"\n",
        "!gsutil -m cp $FILEPATH $BUCKET\n",
        "BUCKET_PATH = BUCKET+'/ratings.csv'\n",
        "print(BUCKET_PATH)"
      ],
      "metadata": {
        "id": "XEUCs1BXG9co"
      },
      "execution_count": null,
      "outputs": []
    },
    {
      "cell_type": "markdown",
      "source": [
        "### Cluster creation\n",
        "Note:\n",
        "* Creating the cluster can take a while. You can stop the execution of this cell and the process will still continue in the cloud. Have a look at the Cloud console to see your cluster being provisioned."
      ],
      "metadata": {
        "id": "K1u9rO2oHY2r"
      }
    },
    {
      "cell_type": "code",
      "source": [
        "CLUSTER = '{}-cluster'.format(PROJECT)\n",
        "!gcloud dataproc clusters create $CLUSTER \\\n",
        "    --image-version 1.4-ubuntu18 --single-node \\\n",
        "    --master-machine-type n1-standard-2 \\\n",
        "    --master-boot-disk-type pd-ssd --master-boot-disk-size 100 \\\n",
        "    --max-idle 3600s"
      ],
      "metadata": {
        "id": "fAm2dHKnHac4"
      },
      "execution_count": null,
      "outputs": []
    },
    {
      "cell_type": "markdown",
      "source": [
        "### Job submission"
      ],
      "metadata": {
        "id": "NVnOiY3_HgJs"
      }
    },
    {
      "cell_type": "code",
      "metadata": {
        "id": "oekh5_iAtYYg"
      },
      "source": [
        "!gcloud dataproc jobs submit pyspark --cluster $CLUSTER ./als_model.py -- $BUCKET_PATH"
      ],
      "execution_count": null,
      "outputs": []
    }
  ]
}