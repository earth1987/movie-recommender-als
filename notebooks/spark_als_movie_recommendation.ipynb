{
  "nbformat": 4,
  "nbformat_minor": 0,
  "metadata": {
    "colab": {
      "provenance": [],
      "toc_visible": true
    },
    "kernelspec": {
      "name": "python3",
      "display_name": "Python 3"
    }
  },
  "cells": [
    {
      "cell_type": "markdown",
      "metadata": {
        "id": "gw8sWRdFqtYo"
      },
      "source": [
        "# Movie recommendation using ALS in Spark\n",
        "\n",
        "The goal of this project is to use Alternating Least Squares (ALS) in Spark to recommend movies."
      ]
    },
    {
      "cell_type": "markdown",
      "source": [
        "# Set-up"
      ],
      "metadata": {
        "id": "rhxMysMPO10B"
      }
    },
    {
      "cell_type": "markdown",
      "source": [
        "## Google Drive"
      ],
      "metadata": {
        "id": "1A37VgUbq-dk"
      }
    },
    {
      "cell_type": "code",
      "metadata": {
        "id": "RrEXZtlCqztr",
        "colab": {
          "base_uri": "https://localhost:8080/"
        },
        "outputId": "a925757d-2789-4671-88f9-a2fbecc9c7b0"
      },
      "source": [
        "from google.colab import drive\n",
        "drive.mount('/content/drive')"
      ],
      "execution_count": 11,
      "outputs": [
        {
          "output_type": "stream",
          "name": "stdout",
          "text": [
            "Drive already mounted at /content/drive; to attempt to forcibly remount, call drive.mount(\"/content/drive\", force_remount=True).\n"
          ]
        }
      ]
    },
    {
      "cell_type": "markdown",
      "source": [
        "## Dependencies"
      ],
      "metadata": {
        "id": "QMarvfQ0O-Ns"
      }
    },
    {
      "cell_type": "code",
      "source": [
        "from math import sqrt\n",
        "from matplotlib import pyplot as plt\n",
        "import pandas as pd"
      ],
      "metadata": {
        "id": "F5FIWp_e2a6i"
      },
      "execution_count": 12,
      "outputs": []
    },
    {
      "cell_type": "code",
      "source": [
        "# Create a spark context and session\n",
        "%cd\n",
        "!apt-get update -qq\n",
        "!apt-get install openjdk-8-jdk-headless -qq > /dev/null\n",
        "!tar -xzf '/content/drive/MyDrive/Data science jobs/3. Interview prep/Google Cloud/Dataproc/spark-3.0.1-bin-hadoop2.7.tgz'\n",
        "!pip install -q findspark\n",
        "import os\n",
        "os.environ[\"JAVA_HOME\"] = \"/usr/lib/jvm/java-8-openjdk-amd64\"\n",
        "os.environ[\"SPARK_HOME\"] = \"/root/spark-3.0.1-bin-hadoop2.7\"\n",
        "%cd /content\n",
        "\n",
        "import findspark\n",
        "findspark.init()\n",
        "import pyspark\n",
        "sc = pyspark.SparkContext.getOrCreate()\n",
        "spark = pyspark.sql.SparkSession.builder.getOrCreate()\n",
        "print(sc)\n",
        "print(spark)"
      ],
      "metadata": {
        "colab": {
          "base_uri": "https://localhost:8080/"
        },
        "id": "czQvAqfdiSC3",
        "outputId": "07aef4e3-de2a-42db-d623-99bc1c391db5"
      },
      "execution_count": 13,
      "outputs": [
        {
          "output_type": "stream",
          "name": "stdout",
          "text": [
            "/root\n",
            "/content\n",
            "<SparkContext master=local[*] appName=pyspark-shell>\n",
            "<pyspark.sql.session.SparkSession object at 0x7f8712f10a30>\n"
          ]
        }
      ]
    },
    {
      "cell_type": "markdown",
      "source": [
        "# Background (placeholder)\n",
        "* Recommendation systems\n",
        "* Collaborative filtering\n",
        "* ALS matrix factorization\n"
      ],
      "metadata": {
        "id": "Nn1pwj8n0z0R"
      }
    },
    {
      "cell_type": "markdown",
      "source": [
        "# Local training\n",
        "Before training a model in the cloud, a smaller model will be trained locally using PySpark. This will enable validation of the approach."
      ],
      "metadata": {
        "id": "mTrfBULTqYWL"
      }
    },
    {
      "cell_type": "markdown",
      "metadata": {
        "id": "6ysksD8nSYit"
      },
      "source": [
        "## Training/test data\n",
        "\n",
        "**Key observations:**\n",
        "\n",
        "* The dataset consists of 1501 records.\n",
        "\n",
        "* It contains the following four columns: 'userID', 'movieID', 'rating' and 'timestamp'. These are seperated by '::'\n",
        "\n",
        "* Two Spark DataFrames are created. These correspond to training/test data\n",
        "\n",
        "  Note: Data is read into an RDD initially."
      ]
    },
    {
      "cell_type": "code",
      "source": [
        "!wc \"/content/drive/MyDrive/Data science jobs/3. Interview prep/Google Cloud/Dataproc/sample_movielens_ratings.txt\"\n",
        "print(\"\\n\")\n",
        "!head -n 5 \"/content/drive/MyDrive/Data science jobs/3. Interview prep/Google Cloud/Dataproc/sample_movielens_ratings.txt\""
      ],
      "metadata": {
        "colab": {
          "base_uri": "https://localhost:8080/"
        },
        "id": "ocI7igjp_xQY",
        "outputId": "50497e83-7545-4613-8355-95896f2f5a9f"
      },
      "execution_count": 14,
      "outputs": [
        {
          "output_type": "stream",
          "name": "stdout",
          "text": [
            " 1501  1501 32363 /content/drive/MyDrive/Data science jobs/3. Interview prep/Google Cloud/Dataproc/sample_movielens_ratings.txt\n",
            "\n",
            "\n",
            "0::2::3::1424380312\n",
            "0::3::1::1424380312\n",
            "0::5::2::1424380312\n",
            "0::9::4::1424380312\n",
            "0::11::1::1424380312\n"
          ]
        }
      ]
    },
    {
      "cell_type": "code",
      "source": [
        "# Read into RDD\n",
        "records = spark.read.text(\"/content/drive/MyDrive/Data science jobs/3. Interview prep/Google Cloud/Dataproc/sample_movielens_ratings.txt\").rdd\n",
        "display(records.take(1))\n",
        "\n",
        "# Split columns\n",
        "elements = records.map(lambda row: row.value.split('::'))\n",
        "print(\"\\n\")\n",
        "display(elements.take(1))"
      ],
      "metadata": {
        "colab": {
          "base_uri": "https://localhost:8080/",
          "height": 86
        },
        "id": "XI5BCVG3nI0Z",
        "outputId": "eaba0892-6620-466b-b1ed-eb096ee74d1f"
      },
      "execution_count": 15,
      "outputs": [
        {
          "output_type": "display_data",
          "data": {
            "text/plain": [
              "[Row(value='0::2::3::1424380312')]"
            ]
          },
          "metadata": {}
        },
        {
          "output_type": "stream",
          "name": "stdout",
          "text": [
            "\n",
            "\n"
          ]
        },
        {
          "output_type": "display_data",
          "data": {
            "text/plain": [
              "[['0', '2', '3', '1424380312']]"
            ]
          },
          "metadata": {}
        }
      ]
    },
    {
      "cell_type": "code",
      "source": [
        "# Create DataFrame using pyspark.sql.Row object\n",
        "from pyspark.sql import Row\n",
        "row_RDD = elements.map(lambda row: Row(userId=int(row[0]), movieId=int(row[1]), rating=float(row[2]), timestamp=int(row[3])))\n",
        "ratings_DF = spark.createDataFrame(row_RDD)\n",
        "ratings_DF.createOrReplaceTempView('ratings_DF') # register temporary view enabling SQL queries\n",
        "\n",
        "# Train/test split\n",
        "(training_DF, valid_DF) = ratings_DF.randomSplit([0.8, 0.2])\n",
        "print(\"Training data:\")\n",
        "print(training_DF.show(5))\n",
        "print(training_DF.count())\n",
        "print(\"\\nTest data:\")\n",
        "print(valid_DF.show(5))\n",
        "print(valid_DF.count())"
      ],
      "metadata": {
        "id": "qSFbGWWunDjy",
        "colab": {
          "base_uri": "https://localhost:8080/"
        },
        "outputId": "fc36a5c9-1042-45f6-9674-874268edd3e2"
      },
      "execution_count": 16,
      "outputs": [
        {
          "output_type": "stream",
          "name": "stdout",
          "text": [
            "Training data:\n",
            "+------+-------+------+----------+\n",
            "|userId|movieId|rating| timestamp|\n",
            "+------+-------+------+----------+\n",
            "|     0|      2|   3.0|1424380312|\n",
            "|     0|      3|   1.0|1424380312|\n",
            "|     0|      9|   4.0|1424380312|\n",
            "|     0|     11|   1.0|1424380312|\n",
            "|     0|     12|   2.0|1424380312|\n",
            "+------+-------+------+----------+\n",
            "only showing top 5 rows\n",
            "\n",
            "None\n",
            "1220\n",
            "\n",
            "Test data:\n",
            "+------+-------+------+----------+\n",
            "|userId|movieId|rating| timestamp|\n",
            "+------+-------+------+----------+\n",
            "|     0|      5|   2.0|1424380312|\n",
            "|     0|     27|   1.0|1424380312|\n",
            "|     0|     28|   1.0|1424380312|\n",
            "|     0|     34|   1.0|1424380312|\n",
            "|     0|     37|   1.0|1424380312|\n",
            "+------+-------+------+----------+\n",
            "only showing top 5 rows\n",
            "\n",
            "None\n",
            "281\n"
          ]
        }
      ]
    },
    {
      "cell_type": "code",
      "source": [
        "training_DF.printSchema()"
      ],
      "metadata": {
        "colab": {
          "base_uri": "https://localhost:8080/"
        },
        "id": "a56-9E26VBXt",
        "outputId": "dc403803-e3e4-43bc-8a85-733a2e8b796d"
      },
      "execution_count": 106,
      "outputs": [
        {
          "output_type": "stream",
          "name": "stdout",
          "text": [
            "root\n",
            " |-- userId: long (nullable = true)\n",
            " |-- movieId: long (nullable = true)\n",
            " |-- rating: double (nullable = true)\n",
            " |-- timestamp: long (nullable = true)\n",
            "\n"
          ]
        }
      ]
    },
    {
      "cell_type": "code",
      "source": [
        "valid_DF.printSchema()"
      ],
      "metadata": {
        "colab": {
          "base_uri": "https://localhost:8080/"
        },
        "id": "arXqM5IphPZk",
        "outputId": "616275e5-60f9-4c67-f4d9-5e44d90176de"
      },
      "execution_count": 107,
      "outputs": [
        {
          "output_type": "stream",
          "name": "stdout",
          "text": [
            "root\n",
            " |-- userId: long (nullable = true)\n",
            " |-- movieId: long (nullable = true)\n",
            " |-- rating: double (nullable = true)\n",
            " |-- timestamp: long (nullable = true)\n",
            "\n"
          ]
        }
      ]
    },
    {
      "cell_type": "markdown",
      "metadata": {
        "id": "E-amZql8qtY2"
      },
      "source": [
        "## Baseline\n",
        "\n",
        "**Key observation:**\n",
        "* A naive prediction will be used to construct a baseline model. This will be the mean rating across all movies.\n",
        "\n",
        "* The performance of this baseline model is estimated using root-mean-squared error."
      ]
    },
    {
      "cell_type": "code",
      "source": [
        "# Naive prediction\n",
        "SQL_query = 'SELECT AVG(rating) FROM ratings_DF'\n",
        "row_baseline = spark.sql(SQL_query).collect()[0] # query returns dataframe with only 1 row\n",
        "naive_pred = row_baseline['avg(rating)'] # access via dictionary\n",
        "print(naive_pred)"
      ],
      "metadata": {
        "colab": {
          "base_uri": "https://localhost:8080/"
        },
        "id": "s_Wgzxkwrf1f",
        "outputId": "e18ef1dd-552a-43ff-ab7b-11df50b11ad7"
      },
      "execution_count": 17,
      "outputs": [
        {
          "output_type": "stream",
          "name": "stdout",
          "text": [
            "1.7741505662891406\n"
          ]
        }
      ]
    },
    {
      "cell_type": "code",
      "source": [
        "# Squared error for each movie\n",
        "se_RDD = valid_DF.rdd.map(lambda row: Row(se=pow(row['rating']-naive_pred, 2)))\n",
        "se_DF = spark.createDataFrame(se_RDD)\n",
        "se_DF.createOrReplaceTempView(\"se_DF\") # register temporary view enabling SQL queries\n",
        "se_DF.show(5)\n",
        "\n",
        "# RMSE\n",
        "SQL_query = \"SELECT AVG(se) FROM se_DF\"\n",
        "row_avg = spark.sql(SQL_query).collect()[0] # query returns dataframe with only 1 row\n",
        "MSE = row_avg[\"avg(se)\"] # access via dictionary\n",
        "print(f\"Baseline RMSE: {sqrt(MSE)}\")"
      ],
      "metadata": {
        "colab": {
          "base_uri": "https://localhost:8080/"
        },
        "id": "gTy4q-rtvB4-",
        "outputId": "35210a48-5091-4556-dcea-7e317b1b7a00"
      },
      "execution_count": 18,
      "outputs": [
        {
          "output_type": "stream",
          "name": "stdout",
          "text": [
            "+-------------------+\n",
            "|                 se|\n",
            "+-------------------+\n",
            "|0.05100796670751588|\n",
            "|  0.599309099285797|\n",
            "|  0.599309099285797|\n",
            "|  0.599309099285797|\n",
            "|  0.599309099285797|\n",
            "+-------------------+\n",
            "only showing top 5 rows\n",
            "\n",
            "Baseline RMSE: 1.1668367347328692\n"
          ]
        }
      ]
    },
    {
      "cell_type": "markdown",
      "metadata": {
        "id": "RPkw5oTDqtY9"
      },
      "source": [
        "## Hyperparameter tuning\n",
        "\n",
        "**Key observations:**\n",
        "\n",
        "* An [ALS estimator](https://spark.apache.org/docs/latest/api/python/reference/api/pyspark.ml.recommendation.ALS.html#pyspark.ml.recommendation.ALS) is created and cross-validation is used to assess different values for 'rank' and 'regParam'.\n",
        "\n",
        "  Where, 'rank' is the number of latent factors in the model and 'regParam' is the coefficient of the regularisation term.\n",
        "\n",
        "* By default, the CrossValidator returns the model with the highest average cross-validation metric across folds.\n",
        "\n",
        "* Root-mean-squared-error was used to evaluate performance."
      ]
    },
    {
      "cell_type": "code",
      "source": [
        "from pyspark.ml.tuning import CrossValidator, ParamGridBuilder\n",
        "from pyspark.ml.evaluation import RegressionEvaluator\n",
        "from pyspark.ml.recommendation import ALS\n",
        "\n",
        "# ALS estimator\n",
        "als = ALS(maxIter=10, rank=15, regParam=0.1, userCol=\"userId\", itemCol=\"movieId\", ratingCol=\"rating\")\n",
        "\n",
        "# Parameter grid\n",
        "# Source: https://spark.apache.org/docs/latest/api/python/reference/api/pyspark.ml.tuning.ParamGridBuilder.html#pyspark.ml.tuning.ParamGridBuilder\n",
        "param_grid = ParamGridBuilder().addGrid(als.rank, [15, 20, 25]).addGrid(als.regParam, [0.01, 0.1, 1]).build()\n",
        "\n",
        "# Regression evaluator\n",
        "# Source: https://spark.apache.org/docs/latest/api/python/reference/api/pyspark.ml.evaluation.RegressionEvaluator.html#pyspark.ml.evaluation.RegressionEvaluator\n",
        "reg_eval = RegressionEvaluator(metricName=\"rmse\", labelCol=\"rating\", predictionCol=\"prediction\")\n",
        "\n",
        "# k-fold cross validation\n",
        "# Source: https://spark.apache.org/docs/latest/api/python/reference/api/pyspark.ml.tuning.CrossValidator.html\n",
        "k=3\n",
        "kfold_cv = CrossValidator(estimator=als, estimatorParamMaps=param_grid, evaluator=reg_eval, numFolds=k)\n",
        "cvModel = kfold_cv.fit(training_DF)"
      ],
      "metadata": {
        "id": "lPHGV5sQyILa"
      },
      "execution_count": 19,
      "outputs": []
    },
    {
      "cell_type": "code",
      "source": [
        "# Gridsearch results\n",
        "# Note: Parameter maps and metrics are local Python lists hence pandas dataframe\n",
        "cv_output = list(zip(cvModel.getEstimatorParamMaps(), cvModel.avgMetrics))\n",
        "cv_output = pd.DataFrame(cv_output, columns=[\"parameter combination\", \"rmse\"])\n",
        "cv_output.sort_values(by=[\"rmse\"]).head()"
      ],
      "metadata": {
        "colab": {
          "base_uri": "https://localhost:8080/",
          "height": 206
        },
        "id": "oKxqUKOl1o3O",
        "outputId": "314ad826-a2fc-4bb0-eb6a-0c6948b5c8c9"
      },
      "execution_count": 20,
      "outputs": [
        {
          "output_type": "execute_result",
          "data": {
            "text/plain": [
              "                               parameter combination      rmse\n",
              "7  {ALS_4c6e0d56afe7__rank: 25, ALS_4c6e0d56afe7_...  1.171705\n",
              "4  {ALS_4c6e0d56afe7__rank: 20, ALS_4c6e0d56afe7_...  1.174859\n",
              "1  {ALS_4c6e0d56afe7__rank: 15, ALS_4c6e0d56afe7_...  1.178753\n",
              "2  {ALS_4c6e0d56afe7__rank: 15, ALS_4c6e0d56afe7_...  1.520007\n",
              "8  {ALS_4c6e0d56afe7__rank: 25, ALS_4c6e0d56afe7_...  1.520007"
            ],
            "text/html": [
              "\n",
              "  <div id=\"df-956cdf3c-b1ca-4b6e-a022-0165c6340387\" class=\"colab-df-container\">\n",
              "    <div>\n",
              "<style scoped>\n",
              "    .dataframe tbody tr th:only-of-type {\n",
              "        vertical-align: middle;\n",
              "    }\n",
              "\n",
              "    .dataframe tbody tr th {\n",
              "        vertical-align: top;\n",
              "    }\n",
              "\n",
              "    .dataframe thead th {\n",
              "        text-align: right;\n",
              "    }\n",
              "</style>\n",
              "<table border=\"1\" class=\"dataframe\">\n",
              "  <thead>\n",
              "    <tr style=\"text-align: right;\">\n",
              "      <th></th>\n",
              "      <th>parameter combination</th>\n",
              "      <th>rmse</th>\n",
              "    </tr>\n",
              "  </thead>\n",
              "  <tbody>\n",
              "    <tr>\n",
              "      <th>7</th>\n",
              "      <td>{ALS_4c6e0d56afe7__rank: 25, ALS_4c6e0d56afe7_...</td>\n",
              "      <td>1.171705</td>\n",
              "    </tr>\n",
              "    <tr>\n",
              "      <th>4</th>\n",
              "      <td>{ALS_4c6e0d56afe7__rank: 20, ALS_4c6e0d56afe7_...</td>\n",
              "      <td>1.174859</td>\n",
              "    </tr>\n",
              "    <tr>\n",
              "      <th>1</th>\n",
              "      <td>{ALS_4c6e0d56afe7__rank: 15, ALS_4c6e0d56afe7_...</td>\n",
              "      <td>1.178753</td>\n",
              "    </tr>\n",
              "    <tr>\n",
              "      <th>2</th>\n",
              "      <td>{ALS_4c6e0d56afe7__rank: 15, ALS_4c6e0d56afe7_...</td>\n",
              "      <td>1.520007</td>\n",
              "    </tr>\n",
              "    <tr>\n",
              "      <th>8</th>\n",
              "      <td>{ALS_4c6e0d56afe7__rank: 25, ALS_4c6e0d56afe7_...</td>\n",
              "      <td>1.520007</td>\n",
              "    </tr>\n",
              "  </tbody>\n",
              "</table>\n",
              "</div>\n",
              "    <div class=\"colab-df-buttons\">\n",
              "\n",
              "  <div class=\"colab-df-container\">\n",
              "    <button class=\"colab-df-convert\" onclick=\"convertToInteractive('df-956cdf3c-b1ca-4b6e-a022-0165c6340387')\"\n",
              "            title=\"Convert this dataframe to an interactive table.\"\n",
              "            style=\"display:none;\">\n",
              "\n",
              "  <svg xmlns=\"http://www.w3.org/2000/svg\" height=\"24px\" viewBox=\"0 -960 960 960\">\n",
              "    <path d=\"M120-120v-720h720v720H120Zm60-500h600v-160H180v160Zm220 220h160v-160H400v160Zm0 220h160v-160H400v160ZM180-400h160v-160H180v160Zm440 0h160v-160H620v160ZM180-180h160v-160H180v160Zm440 0h160v-160H620v160Z\"/>\n",
              "  </svg>\n",
              "    </button>\n",
              "\n",
              "  <style>\n",
              "    .colab-df-container {\n",
              "      display:flex;\n",
              "      gap: 12px;\n",
              "    }\n",
              "\n",
              "    .colab-df-convert {\n",
              "      background-color: #E8F0FE;\n",
              "      border: none;\n",
              "      border-radius: 50%;\n",
              "      cursor: pointer;\n",
              "      display: none;\n",
              "      fill: #1967D2;\n",
              "      height: 32px;\n",
              "      padding: 0 0 0 0;\n",
              "      width: 32px;\n",
              "    }\n",
              "\n",
              "    .colab-df-convert:hover {\n",
              "      background-color: #E2EBFA;\n",
              "      box-shadow: 0px 1px 2px rgba(60, 64, 67, 0.3), 0px 1px 3px 1px rgba(60, 64, 67, 0.15);\n",
              "      fill: #174EA6;\n",
              "    }\n",
              "\n",
              "    .colab-df-buttons div {\n",
              "      margin-bottom: 4px;\n",
              "    }\n",
              "\n",
              "    [theme=dark] .colab-df-convert {\n",
              "      background-color: #3B4455;\n",
              "      fill: #D2E3FC;\n",
              "    }\n",
              "\n",
              "    [theme=dark] .colab-df-convert:hover {\n",
              "      background-color: #434B5C;\n",
              "      box-shadow: 0px 1px 3px 1px rgba(0, 0, 0, 0.15);\n",
              "      filter: drop-shadow(0px 1px 2px rgba(0, 0, 0, 0.3));\n",
              "      fill: #FFFFFF;\n",
              "    }\n",
              "  </style>\n",
              "\n",
              "    <script>\n",
              "      const buttonEl =\n",
              "        document.querySelector('#df-956cdf3c-b1ca-4b6e-a022-0165c6340387 button.colab-df-convert');\n",
              "      buttonEl.style.display =\n",
              "        google.colab.kernel.accessAllowed ? 'block' : 'none';\n",
              "\n",
              "      async function convertToInteractive(key) {\n",
              "        const element = document.querySelector('#df-956cdf3c-b1ca-4b6e-a022-0165c6340387');\n",
              "        const dataTable =\n",
              "          await google.colab.kernel.invokeFunction('convertToInteractive',\n",
              "                                                    [key], {});\n",
              "        if (!dataTable) return;\n",
              "\n",
              "        const docLinkHtml = 'Like what you see? Visit the ' +\n",
              "          '<a target=\"_blank\" href=https://colab.research.google.com/notebooks/data_table.ipynb>data table notebook</a>'\n",
              "          + ' to learn more about interactive tables.';\n",
              "        element.innerHTML = '';\n",
              "        dataTable['output_type'] = 'display_data';\n",
              "        await google.colab.output.renderOutput(dataTable, element);\n",
              "        const docLink = document.createElement('div');\n",
              "        docLink.innerHTML = docLinkHtml;\n",
              "        element.appendChild(docLink);\n",
              "      }\n",
              "    </script>\n",
              "  </div>\n",
              "\n",
              "\n",
              "<div id=\"df-21a445eb-9623-4a09-9836-76162785b59a\">\n",
              "  <button class=\"colab-df-quickchart\" onclick=\"quickchart('df-21a445eb-9623-4a09-9836-76162785b59a')\"\n",
              "            title=\"Suggest charts\"\n",
              "            style=\"display:none;\">\n",
              "\n",
              "<svg xmlns=\"http://www.w3.org/2000/svg\" height=\"24px\"viewBox=\"0 0 24 24\"\n",
              "     width=\"24px\">\n",
              "    <g>\n",
              "        <path d=\"M19 3H5c-1.1 0-2 .9-2 2v14c0 1.1.9 2 2 2h14c1.1 0 2-.9 2-2V5c0-1.1-.9-2-2-2zM9 17H7v-7h2v7zm4 0h-2V7h2v10zm4 0h-2v-4h2v4z\"/>\n",
              "    </g>\n",
              "</svg>\n",
              "  </button>\n",
              "\n",
              "<style>\n",
              "  .colab-df-quickchart {\n",
              "      --bg-color: #E8F0FE;\n",
              "      --fill-color: #1967D2;\n",
              "      --hover-bg-color: #E2EBFA;\n",
              "      --hover-fill-color: #174EA6;\n",
              "      --disabled-fill-color: #AAA;\n",
              "      --disabled-bg-color: #DDD;\n",
              "  }\n",
              "\n",
              "  [theme=dark] .colab-df-quickchart {\n",
              "      --bg-color: #3B4455;\n",
              "      --fill-color: #D2E3FC;\n",
              "      --hover-bg-color: #434B5C;\n",
              "      --hover-fill-color: #FFFFFF;\n",
              "      --disabled-bg-color: #3B4455;\n",
              "      --disabled-fill-color: #666;\n",
              "  }\n",
              "\n",
              "  .colab-df-quickchart {\n",
              "    background-color: var(--bg-color);\n",
              "    border: none;\n",
              "    border-radius: 50%;\n",
              "    cursor: pointer;\n",
              "    display: none;\n",
              "    fill: var(--fill-color);\n",
              "    height: 32px;\n",
              "    padding: 0;\n",
              "    width: 32px;\n",
              "  }\n",
              "\n",
              "  .colab-df-quickchart:hover {\n",
              "    background-color: var(--hover-bg-color);\n",
              "    box-shadow: 0 1px 2px rgba(60, 64, 67, 0.3), 0 1px 3px 1px rgba(60, 64, 67, 0.15);\n",
              "    fill: var(--button-hover-fill-color);\n",
              "  }\n",
              "\n",
              "  .colab-df-quickchart-complete:disabled,\n",
              "  .colab-df-quickchart-complete:disabled:hover {\n",
              "    background-color: var(--disabled-bg-color);\n",
              "    fill: var(--disabled-fill-color);\n",
              "    box-shadow: none;\n",
              "  }\n",
              "\n",
              "  .colab-df-spinner {\n",
              "    border: 2px solid var(--fill-color);\n",
              "    border-color: transparent;\n",
              "    border-bottom-color: var(--fill-color);\n",
              "    animation:\n",
              "      spin 1s steps(1) infinite;\n",
              "  }\n",
              "\n",
              "  @keyframes spin {\n",
              "    0% {\n",
              "      border-color: transparent;\n",
              "      border-bottom-color: var(--fill-color);\n",
              "      border-left-color: var(--fill-color);\n",
              "    }\n",
              "    20% {\n",
              "      border-color: transparent;\n",
              "      border-left-color: var(--fill-color);\n",
              "      border-top-color: var(--fill-color);\n",
              "    }\n",
              "    30% {\n",
              "      border-color: transparent;\n",
              "      border-left-color: var(--fill-color);\n",
              "      border-top-color: var(--fill-color);\n",
              "      border-right-color: var(--fill-color);\n",
              "    }\n",
              "    40% {\n",
              "      border-color: transparent;\n",
              "      border-right-color: var(--fill-color);\n",
              "      border-top-color: var(--fill-color);\n",
              "    }\n",
              "    60% {\n",
              "      border-color: transparent;\n",
              "      border-right-color: var(--fill-color);\n",
              "    }\n",
              "    80% {\n",
              "      border-color: transparent;\n",
              "      border-right-color: var(--fill-color);\n",
              "      border-bottom-color: var(--fill-color);\n",
              "    }\n",
              "    90% {\n",
              "      border-color: transparent;\n",
              "      border-bottom-color: var(--fill-color);\n",
              "    }\n",
              "  }\n",
              "</style>\n",
              "\n",
              "  <script>\n",
              "    async function quickchart(key) {\n",
              "      const quickchartButtonEl =\n",
              "        document.querySelector('#' + key + ' button');\n",
              "      quickchartButtonEl.disabled = true;  // To prevent multiple clicks.\n",
              "      quickchartButtonEl.classList.add('colab-df-spinner');\n",
              "      try {\n",
              "        const charts = await google.colab.kernel.invokeFunction(\n",
              "            'suggestCharts', [key], {});\n",
              "      } catch (error) {\n",
              "        console.error('Error during call to suggestCharts:', error);\n",
              "      }\n",
              "      quickchartButtonEl.classList.remove('colab-df-spinner');\n",
              "      quickchartButtonEl.classList.add('colab-df-quickchart-complete');\n",
              "    }\n",
              "    (() => {\n",
              "      let quickchartButtonEl =\n",
              "        document.querySelector('#df-21a445eb-9623-4a09-9836-76162785b59a button');\n",
              "      quickchartButtonEl.style.display =\n",
              "        google.colab.kernel.accessAllowed ? 'block' : 'none';\n",
              "    })();\n",
              "  </script>\n",
              "</div>\n",
              "    </div>\n",
              "  </div>\n"
            ]
          },
          "metadata": {},
          "execution_count": 20
        }
      ]
    },
    {
      "cell_type": "code",
      "source": [
        "# Optimal configuration\n",
        "print(f'Lowest RMSE: {cv_output.iloc[cv_output[\"rmse\"].idxmin(), 1]}')\n",
        "print(\"Congiguration: \")\n",
        "display(cv_output.iloc[cv_output[\"rmse\"].idxmin(), 0])"
      ],
      "metadata": {
        "colab": {
          "base_uri": "https://localhost:8080/",
          "height": 86
        },
        "id": "6mWMrmJO2kgz",
        "outputId": "0102816d-83b0-4137-c2bc-287607fb4408"
      },
      "execution_count": 21,
      "outputs": [
        {
          "output_type": "stream",
          "name": "stdout",
          "text": [
            "Lowest RMSE: 1.1717050843489027\n",
            "Congiguration: \n"
          ]
        },
        {
          "output_type": "display_data",
          "data": {
            "text/plain": [
              "{Param(parent='ALS_4c6e0d56afe7', name='rank', doc='rank of the factorization'): 25,\n",
              " Param(parent='ALS_4c6e0d56afe7', name='regParam', doc='regularization parameter (>= 0).'): 0.1}"
            ]
          },
          "metadata": {}
        }
      ]
    },
    {
      "cell_type": "markdown",
      "source": [
        "## Model retraining\n",
        "**Key observations:**\n",
        "\n",
        "* The model is retrained using all the training data and the optimal hyperparameter configuration."
      ],
      "metadata": {
        "id": "ex3zPZ_EBFHA"
      }
    },
    {
      "cell_type": "code",
      "source": [
        "als = ALS(maxIter=10, rank=20, regParam=0.1, userCol=\"userId\", itemCol=\"movieId\", ratingCol=\"rating\")\n",
        "local_model = als.fit(training_DF)"
      ],
      "metadata": {
        "id": "gvj5SlyoCkx7"
      },
      "execution_count": 22,
      "outputs": []
    },
    {
      "cell_type": "code",
      "source": [
        "print(f\"Factorized user matrix (rank: {local_model.rank})\")\n",
        "local_model.userFactors.show(5, truncate=False)\n",
        "print(\"_\"*50, \"\\n\"*2)\n",
        "print(f\"Factorized item matrix (rank: {local_model.rank})\")\n",
        "local_model.itemFactors.show(5, truncate=False)"
      ],
      "metadata": {
        "colab": {
          "base_uri": "https://localhost:8080/"
        },
        "id": "ADVE-HfsCXMA",
        "outputId": "5ec8552b-09e2-42ca-9b45-3099bda70784"
      },
      "execution_count": 23,
      "outputs": [
        {
          "output_type": "stream",
          "name": "stdout",
          "text": [
            "Factorized user matrix (rank: 20)\n",
            "+---+---------------------------------------------------------------------------------------------------------------------------------------------------------------------------------------------------------------------------------------------------------+\n",
            "|id |features                                                                                                                                                                                                                                                 |\n",
            "+---+---------------------------------------------------------------------------------------------------------------------------------------------------------------------------------------------------------------------------------------------------------+\n",
            "|0  |[-0.30495235, 0.06852172, 0.50368977, -0.56702894, -0.15965213, -0.03073752, 0.5138583, 0.14979838, -0.08495556, 0.284687, -0.50294393, -0.09212594, 0.4200395, 0.554912, -0.20844361, -0.29351094, 0.37994304, 0.12962273, 0.64634925, -0.07501638]     |\n",
            "|10 |[-0.1226206, 0.39427274, 0.08211255, -0.1410783, -0.5884381, 0.44928393, 0.36843225, 0.41160443, -0.1606017, 0.2255918, -0.19044854, 0.15865913, 0.3063729, 0.38970232, 0.044687077, -0.18629733, 0.50227714, -0.52931833, 0.74066526, 0.20769842]       |\n",
            "|20 |[-0.3432829, 0.30846313, -0.017615188, -0.58401376, -0.005134541, 0.3481808, -0.0046419455, 0.08576359, -0.0449933, 0.6761326, -0.02844449, -0.48240703, 0.30705872, 0.15821724, 0.27751338, 0.024745438, 0.24440521, 0.3532589, 0.6686847, -0.46739638] |\n",
            "|1  |[0.01595688, 0.16207348, 0.12586966, -0.4909529, 0.24231143, -0.015698012, 0.11044782, 0.11597892, -0.08346903, 0.7523783, -0.08115059, -0.007854698, 0.24577989, -0.048664164, 0.25716555, 0.052575275, 0.22355592, 0.035278924, 1.0551717, -0.56321603]|\n",
            "|11 |[0.1550124, -0.33893323, -0.3868059, -0.5156196, -0.40289435, 0.10138157, -1.2272847, 0.8676852, -0.72580266, 0.8228822, -0.21682765, -0.15297717, 0.480198, 0.26908988, 0.2548696, -0.6915533, 0.47666964, -0.061159473, -0.21122317, -0.09751592]      |\n",
            "+---+---------------------------------------------------------------------------------------------------------------------------------------------------------------------------------------------------------------------------------------------------------+\n",
            "only showing top 5 rows\n",
            "\n",
            "__________________________________________________ \n",
            "\n",
            "\n",
            "Factorized item matrix (rank: 20)\n",
            "+---+---------------------------------------------------------------------------------------------------------------------------------------------------------------------------------------------------------------------------------------------------------+\n",
            "|id |features                                                                                                                                                                                                                                                 |\n",
            "+---+---------------------------------------------------------------------------------------------------------------------------------------------------------------------------------------------------------------------------------------------------------+\n",
            "|0  |[-0.023637487, 0.22005908, 0.058406908, -0.20071857, -0.5750736, 0.66253376, 0.36918968, 0.3665687, -0.30051363, 0.36196172, -0.22169237, -0.09231772, 0.048563614, 0.33331856, -0.16099311, -0.15268734, 0.46134496, -0.5035767, 0.6159183, 0.112511]   |\n",
            "|10 |[0.23961514, -0.3062159, 0.06294697, -0.32256025, -0.4452621, 0.1658919, 0.15899563, 0.77473354, 0.11576611, 0.9399695, -0.24868897, 0.69117403, -0.09334396, -0.4609768, 0.36981574, 0.05677435, 0.15905745, 0.3988625, 0.5779591, 0.19024126]          |\n",
            "|20 |[-0.10344588, -0.49787545, 0.11410375, -0.24771048, -0.31452712, -0.0054848553, 0.30034757, 0.50718987, -0.04138431, 1.1163672, -0.48727742, 0.8683423, -0.043927424, -0.26343906, 0.17962429, 0.16332148, 0.14616704, 0.7315161, 0.54710037, 0.11555761]|\n",
            "|30 |[0.18969151, -0.8285213, -0.5821646, -0.7929285, -0.013312478, 0.23885989, -0.84711605, 0.970617, -0.1728563, 1.4313939, -0.5559267, -0.29055685, 0.7702117, -0.1384755, 0.12754211, 0.11149328, 0.38970795, 0.3863234, 0.22815783, -0.4700112]          |\n",
            "|40 |[-0.18991062, 0.22986302, 0.16765387, -0.1874492, -0.6101138, 0.9493534, 0.28022745, 0.19354966, -0.15530998, 0.15431525, -0.27604118, 0.4829674, 0.44391868, 0.4445087, -0.03687808, -0.49372542, 0.8414811, -0.46421227, 0.67078483, 0.060930274]      |\n",
            "+---+---------------------------------------------------------------------------------------------------------------------------------------------------------------------------------------------------------------------------------------------------------+\n",
            "only showing top 5 rows\n",
            "\n"
          ]
        }
      ]
    },
    {
      "cell_type": "code",
      "source": [
        "k = 5\n",
        "print(f\"Recommended top {k} users by movie with the corresponding predicted ratings:\")\n",
        "local_model.recommendForAllItems(k).show(5, truncate=False)\n",
        "print(\"_\"*50, \"\\n\"*2)\n",
        "print(f\"Recommended top {k} movies by user with the corresponding predicted ratings:\")\n",
        "local_model.recommendForAllUsers(k).show(5, truncate=False)"
      ],
      "metadata": {
        "colab": {
          "base_uri": "https://localhost:8080/"
        },
        "id": "XbI1fKyUvOtR",
        "outputId": "551d7ce1-3de2-40ba-aaad-98239c815dad"
      },
      "execution_count": 24,
      "outputs": [
        {
          "output_type": "stream",
          "name": "stdout",
          "text": [
            "Recommended top 5 users by movie with the corresponding predicted ratings:\n",
            "+-------+------------------------------------------------------------------------------------+\n",
            "|movieId|recommendations                                                                     |\n",
            "+-------+------------------------------------------------------------------------------------+\n",
            "|31     |[[12, 3.0782528], [8, 2.6968737], [14, 2.5610046], [7, 2.5422127], [6, 2.280183]]   |\n",
            "|85     |[[16, 4.235902], [8, 4.0315027], [14, 3.6066225], [7, 3.3898127], [6, 2.9589314]]   |\n",
            "|65     |[[23, 4.389855], [12, 3.2152095], [11, 3.1803842], [29, 2.7153006], [5, 2.6279142]] |\n",
            "|53     |[[8, 4.1894097], [21, 4.161804], [4, 3.3102643], [14, 3.2145965], [22, 3.134328]]   |\n",
            "|78     |[[26, 1.1197276], [23, 1.1024163], [22, 1.1021874], [11, 1.0163358], [2, 1.0049866]]|\n",
            "+-------+------------------------------------------------------------------------------------+\n",
            "only showing top 5 rows\n",
            "\n",
            "__________________________________________________ \n",
            "\n",
            "\n",
            "Recommended top 5 movies by user with the corresponding predicted ratings:\n",
            "+------+-------------------------------------------------------------------------------------+\n",
            "|userId|recommendations                                                                      |\n",
            "+------+-------------------------------------------------------------------------------------+\n",
            "|28    |[[12, 3.7674923], [49, 3.5777557], [89, 3.4360168], [46, 3.1816142], [82, 3.0571225]]|\n",
            "|26    |[[94, 4.5166335], [22, 4.449021], [23, 4.412086], [90, 4.398344], [24, 4.329223]]    |\n",
            "|27    |[[23, 2.9438305], [18, 2.908701], [80, 2.6963205], [83, 2.630292], [32, 2.5451202]]  |\n",
            "|12    |[[17, 4.4597917], [64, 4.252892], [46, 4.1123524], [35, 3.9505377], [90, 3.5991037]] |\n",
            "|22    |[[74, 4.470685], [30, 4.334775], [90, 4.287143], [88, 4.2385488], [22, 4.075021]]    |\n",
            "+------+-------------------------------------------------------------------------------------+\n",
            "only showing top 5 rows\n",
            "\n"
          ]
        }
      ]
    },
    {
      "cell_type": "markdown",
      "metadata": {
        "id": "JxoaBsfuqtZA"
      },
      "source": [
        "## Evaluation\n",
        "\n",
        "**Key observations:**\n",
        "\n",
        "* The retrained model is assessed using the test set. It performs better than the baseline model.\n",
        "\n",
        "* Plotting actual rating versus predicted rating shows a positive correlation. However, variance is high across the full range of ratings. This may be due to the small size of the training set."
      ]
    },
    {
      "cell_type": "code",
      "source": [
        "valid_pred = local_model.transform(valid_DF)\n",
        "reg_eval = RegressionEvaluator(metricName=\"rmse\", labelCol=\"rating\", predictionCol=\"prediction\")\n",
        "rmse = reg_eval.evaluate(valid_pred)\n",
        "\n",
        "print(f\"RMSE: {rmse}\")\n",
        "print(\"_\"*50, \"\\n\"*2)\n",
        "valid_pred.show()"
      ],
      "metadata": {
        "colab": {
          "base_uri": "https://localhost:8080/"
        },
        "id": "Y0WLyGwhvveG",
        "outputId": "df2453e3-a578-4aa1-ca25-dcca7f661378"
      },
      "execution_count": 25,
      "outputs": [
        {
          "output_type": "stream",
          "name": "stdout",
          "text": [
            "RMSE: 0.9409078159195121\n",
            "__________________________________________________ \n",
            "\n",
            "\n",
            "+------+-------+------+----------+----------+\n",
            "|userId|movieId|rating| timestamp|prediction|\n",
            "+------+-------+------+----------+----------+\n",
            "|    26|     31|   1.0|1424380312|0.53031063|\n",
            "|    25|     31|   2.0|1424380312| 1.9095743|\n",
            "|     1|     85|   3.0|1424380312| 1.5048888|\n",
            "|    20|     85|   2.0|1424380312| 1.5269688|\n",
            "|    15|     85|   1.0|1424380312| 1.3363596|\n",
            "|    23|     85|   1.0|1424380312| 0.4485641|\n",
            "|    22|     65|   1.0|1424380312| 1.2926669|\n",
            "|     5|     65|   2.0|1424380312| 2.6279142|\n",
            "|    24|     65|   1.0|1424380312| 1.7408693|\n",
            "|     2|     65|   1.0|1424380312|0.90068126|\n",
            "|    13|     78|   1.0|1424380312| 0.7547721|\n",
            "|    20|     78|   1.0|1424380312|0.85809517|\n",
            "|    17|     78|   1.0|1424380312| 0.9382198|\n",
            "|    28|     34|   1.0|1424380312| 1.9108573|\n",
            "|    25|     34|   3.0|1424380312| 1.0014738|\n",
            "|     0|     34|   1.0|1424380312| 1.0081183|\n",
            "|    28|     81|   5.0|1424380312| 1.6563988|\n",
            "|    22|     81|   1.0|1424380312| 1.4162219|\n",
            "|    27|     28|   1.0|1424380312| 2.0422854|\n",
            "|    14|     28|   1.0|1424380312|0.58764166|\n",
            "+------+-------+------+----------+----------+\n",
            "only showing top 20 rows\n",
            "\n"
          ]
        }
      ]
    },
    {
      "cell_type": "code",
      "source": [
        "valid_pred = valid_pred.toPandas()\n",
        "\n",
        "fig, axes = plt.subplots()\n",
        "axes.tick_params(bottom=False, left=False)\n",
        "axes.grid(False)\n",
        "axes.spines[['top', 'right']].set_visible(False)\n",
        "axes.spines[['left', 'bottom']].set_color('dimgray')\n",
        "\n",
        "axes.scatter(valid_pred['rating'], valid_pred['prediction'], color='dimgray')\n",
        "axes.set_xlabel('Actual rating', fontsize=10, color='dimgray')\n",
        "axes.set_ylabel('Prediction', fontsize=10, color='dimgray');"
      ],
      "metadata": {
        "colab": {
          "base_uri": "https://localhost:8080/",
          "height": 449
        },
        "id": "Fv028dMBFfl2",
        "outputId": "f6f32883-f746-4734-9309-874d1d65b827"
      },
      "execution_count": 26,
      "outputs": [
        {
          "output_type": "display_data",
          "data": {
            "text/plain": [
              "<Figure size 640x480 with 1 Axes>"
            ],
            "image/png": "[encoded data removed]"
          },
          "metadata": {}
        }
      ]
    },
    {
      "cell_type": "markdown",
      "source": [
        "## User recommendation\n",
        "**Key observations:**\n",
        "* Recommendations are made by making predictions for all movies in the test data (followed by sorting).\n",
        "\n",
        "  Note: There is no overlap between the ratings history for a user, as given in the training data, and the shortlist of movies in the test data."
      ],
      "metadata": {
        "id": "uvalEiC49WxZ"
      }
    },
    {
      "cell_type": "code",
      "source": [
        "# Ratings history in the training data\n",
        "USER_ID = 11\n",
        "user_history = training_DF.filter(training_DF['userId']==USER_ID)\n",
        "user_history.show(10)"
      ],
      "metadata": {
        "colab": {
          "base_uri": "https://localhost:8080/"
        },
        "id": "rSZJL18i0JIB",
        "outputId": "95a14059-d610-4a6b-a067-53e032bc6dd8"
      },
      "execution_count": 27,
      "outputs": [
        {
          "output_type": "stream",
          "name": "stdout",
          "text": [
            "+------+-------+------+----------+\n",
            "|userId|movieId|rating| timestamp|\n",
            "+------+-------+------+----------+\n",
            "|    11|      6|   2.0|1424380312|\n",
            "|    11|     10|   1.0|1424380312|\n",
            "|    11|     11|   1.0|1424380312|\n",
            "|    11|     12|   1.0|1424380312|\n",
            "|    11|     13|   4.0|1424380312|\n",
            "|    11|     16|   1.0|1424380312|\n",
            "|    11|     19|   4.0|1424380312|\n",
            "|    11|     21|   1.0|1424380312|\n",
            "|    11|     22|   1.0|1424380312|\n",
            "|    11|     23|   5.0|1424380312|\n",
            "+------+-------+------+----------+\n",
            "only showing top 10 rows\n",
            "\n"
          ]
        }
      ]
    },
    {
      "cell_type": "code",
      "source": [
        "# Recommendations from the test data\n",
        "print(f\"Shortlist of movies in the test data:\")\n",
        "user_shortlist = valid_DF.filter(valid_DF['userId']==USER_ID).select(['movieId', 'userId'])\n",
        "user_shortlist.show()\n",
        "\n",
        "print(f\"Top 5 recommendations:\")\n",
        "user_recommend = local_model.transform(user_shortlist)\n",
        "user_recommend.orderBy('prediction', ascending=False).show(5)"
      ],
      "metadata": {
        "colab": {
          "base_uri": "https://localhost:8080/"
        },
        "id": "mg3pWFJC_tJJ",
        "outputId": "2cb3b20e-668e-41a4-e1a2-50726cc63386"
      },
      "execution_count": 28,
      "outputs": [
        {
          "output_type": "stream",
          "name": "stdout",
          "text": [
            "Shortlist of movies in the test data:\n",
            "+-------+------+\n",
            "|movieId|userId|\n",
            "+-------+------+\n",
            "|      0|    11|\n",
            "|      9|    11|\n",
            "|     18|    11|\n",
            "|     20|    11|\n",
            "|     38|    11|\n",
            "|     40|    11|\n",
            "|     48|    11|\n",
            "|     61|    11|\n",
            "|     64|    11|\n",
            "|     70|    11|\n",
            "|     80|    11|\n",
            "|     86|    11|\n",
            "+-------+------+\n",
            "\n",
            "Top 5 recommendations:\n",
            "+-------+------+----------+\n",
            "|movieId|userId|prediction|\n",
            "+-------+------+----------+\n",
            "|     18|    11| 3.3938375|\n",
            "|     64|    11| 2.5836756|\n",
            "|     80|    11| 2.5644124|\n",
            "|     48|    11| 2.5166395|\n",
            "|     70|    11| 1.4085507|\n",
            "+-------+------+----------+\n",
            "only showing top 5 rows\n",
            "\n"
          ]
        }
      ]
    },
    {
      "cell_type": "code",
      "source": [
        "local_model.write().overwrite().save('./test')"
      ],
      "metadata": {
        "id": "u5IU4sPCMZlK"
      },
      "execution_count": 62,
      "outputs": []
    },
    {
      "cell_type": "markdown",
      "source": [
        "# Google Cloud training\n",
        "**Key observation:**\n",
        "* The final model will be trained using all available data. This will be achieved using the Google Cloud platform."
      ],
      "metadata": {
        "id": "NOZp9Y4x7kR_"
      }
    },
    {
      "cell_type": "markdown",
      "source": [
        "## Data\n",
        "**Key observation:**\n",
        "* The data is available in csv form. Consequently, the data prep process will need to be adjusted."
      ],
      "metadata": {
        "id": "GQ2emuL6GO6R"
      }
    },
    {
      "cell_type": "code",
      "source": [
        "!wc \"/content/drive/MyDrive/Data science jobs/3. Interview prep/Google Cloud/Dataproc/ratings.csv\""
      ],
      "metadata": {
        "colab": {
          "base_uri": "https://localhost:8080/"
        },
        "id": "QRTqqBt9_r2H",
        "outputId": "e99e267e-8834-4d44-d351-9f37536777fc"
      },
      "execution_count": 29,
      "outputs": [
        {
          "output_type": "stream",
          "name": "stdout",
          "text": [
            " 100837  100837 2483723 /content/drive/MyDrive/Data science jobs/3. Interview prep/Google Cloud/Dataproc/ratings.csv\n"
          ]
        }
      ]
    },
    {
      "cell_type": "code",
      "source": [
        "!head -n 5 \"/content/drive/MyDrive/Data science jobs/3. Interview prep/Google Cloud/Dataproc/ratings.csv\""
      ],
      "metadata": {
        "colab": {
          "base_uri": "https://localhost:8080/"
        },
        "id": "-HG7_NAp8b_K",
        "outputId": "c5826428-fc53-44f8-c681-8522122d6414"
      },
      "execution_count": 30,
      "outputs": [
        {
          "output_type": "stream",
          "name": "stdout",
          "text": [
            "userId,movieId,rating,timestamp\r\n",
            "1,1,4.0,964982703\r\n",
            "1,3,4.0,964981247\r\n",
            "1,6,4.0,964982224\r\n",
            "1,47,5.0,964983815\r\n"
          ]
        }
      ]
    },
    {
      "cell_type": "markdown",
      "source": [
        "## Training py script"
      ],
      "metadata": {
        "id": "F_9KhBYV__7u"
      }
    },
    {
      "cell_type": "code",
      "source": [
        "%%writefile \"/content/drive/MyDrive/Data science jobs/3. Interview prep/Google Cloud/Dataproc/als_model.py\"\n",
        "import sys\n",
        "from math import sqrt\n",
        "from pyspark import SparkContext\n",
        "from pyspark.sql import SparkSession\n",
        "from pyspark.sql import Row\n",
        "from pyspark.ml.tuning import CrossValidator, ParamGridBuilder\n",
        "from pyspark.ml.evaluation import RegressionEvaluator\n",
        "from pyspark.ml.recommendation import ALS\n",
        "\n",
        "INPUT_PATH = sys.argv[1] # parse file path from command line\n",
        "\n",
        "if __name__ == '__main__':\n",
        "\n",
        "    # Create SparkContext and SparkSession\n",
        "    sc = SparkContext(appName=\"spark-submit demo\")\n",
        "    spark = SparkSession.builder.getOrCreate()\n",
        "\n",
        "    # 1. Training/test data prep\n",
        "    rows = spark.read.csv(INPUT_PATH, header=True).rdd\n",
        "    row_RDD = rows.map(lambda row: Row(userId=int(row[0]), movieId=int(row[1]), rating=float(row[2]), timestamp=int(row[3])))\n",
        "    ratings_DF = spark.createDataFrame(row_RDD)\n",
        "    ratings_DF.createOrReplaceTempView('ratings_DF') # register temporary view enabling SQL queries\n",
        "    (training_DF, valid_DF) = ratings_DF.randomSplit([0.8, 0.2])\n",
        "\n",
        "    training_DF.write.csv('gs://arctic-crawler-403811-storage/movie_rec_171123_training_DF/', mode=\"overwrite\")\n",
        "    valid_DF.write.csv('gs://arctic-crawler-403811-storage/movie_rec_171123_test_DF/', mode=\"overwrite\")\n",
        "\n",
        "    # 2. Baseline\n",
        "    # Calculate mean rating across all rows in the training set\n",
        "    SQL_query = 'SELECT AVG(rating) FROM ratings_DF'\n",
        "    row_baseline = spark.sql(SQL_query).first() # query returns dataframe with only 1 row\n",
        "    baseline = row_baseline['avg(rating)'] # access via dictionary\n",
        "\n",
        "    # Calculate squared error for each row in the validation set\n",
        "    se_RDD = valid_DF.rdd.map(lambda row: Row(se=pow(row['rating']-baseline, 2)))\n",
        "    se_DF = spark.createDataFrame(se_RDD)\n",
        "    se_DF.createOrReplaceTempView('se_DF') # register temporary view enabling SQL queries\n",
        "\n",
        "    # Calculate RMSE\n",
        "    SQL_query = 'SELECT AVG(se) FROM se_DF'\n",
        "    row_avg = spark.sql(SQL_query).first() # query returns dataframe with only 1 row\n",
        "    MSE = row_avg['avg(se)'] # access via dictionary\n",
        "    print(f\"Baseline RMSE: {sqrt(MSE)}\")\n",
        "\n",
        "    # 3. Hyperparameter tuning\n",
        "    # Source: https://spark.apache.org/docs/latest/api/python/reference/api/pyspark.ml.tuning.ParamGridBuilder.html#pyspark.ml.tuning.ParamGridBuilder\n",
        "    # Source: https://spark.apache.org/docs/latest/api/python/reference/api/pyspark.ml.evaluation.RegressionEvaluator.html#pyspark.ml.evaluation.RegressionEvaluator\n",
        "    # Source: https://spark.apache.org/docs/latest/api/python/reference/api/pyspark.ml.tuning.CrossValidator.html\n",
        "\n",
        "    als = ALS(maxIter=10, rank=5, regParam=0.1, userCol=\"userId\", itemCol=\"movieId\", ratingCol=\"rating\") # ALS estimator\n",
        "    param_grid = ParamGridBuilder().addGrid(als.rank, [15, 20, 25]).addGrid(als.regParam, [0.01, 0.1, 1]).build() # parameter grid\n",
        "    reg_eval = RegressionEvaluator(metricName=\"rmse\", labelCol=\"rating\", predictionCol=\"prediction\") # regression evaluator\n",
        "    k=3\n",
        "    kfold_cv = CrossValidator(estimator=als, estimatorParamMaps=param_grid, evaluator=reg_eval, numFolds=k) # k-fold cross validation\n",
        "    cvModel = kfold_cv.fit(training_DF)\n",
        "\n",
        "    # 4. Save model\n",
        "    cvModel.write().overwrite().save('gs://arctic-crawler-403811-storage/movie_rec_171123')\n",
        "\n",
        "    # 5. Evaluation\n",
        "    param_map = zip(cvModel.getEstimatorParamMaps(), cvModel.avgMetrics)\n",
        "    param_min = min(param_map, key=lambda x: x[1])\n",
        "    print(f\"Optimal configuration: {param_min}\")\n",
        "    test_pred = cvModel.transform(valid_DF)\n",
        "    rmse = reg_eval.evaluate(test_pred)\n",
        "    print(f\"RMSE: {rmse}\")\n",
        "\n",
        "    # Shutdown Spark context\n",
        "    sc.stop()"
      ],
      "metadata": {
        "id": "4Tj00m8S__BK",
        "colab": {
          "base_uri": "https://localhost:8080/"
        },
        "outputId": "2750a234-c2ee-4693-fa25-ef766d3b7058"
      },
      "execution_count": 80,
      "outputs": [
        {
          "output_type": "stream",
          "name": "stdout",
          "text": [
            "Overwriting /content/drive/MyDrive/Data science jobs/3. Interview prep/Google Cloud/Dataproc/als_model.py\n"
          ]
        }
      ]
    },
    {
      "cell_type": "markdown",
      "source": [
        "## Training via dataproc\n",
        "\n",
        "**Why Dataproc?**\n",
        "\n",
        "It allows easy integration with PySpark. With Dataproc, you can easily deploy Spark clusters, scale resources dynamically, and process large-scale data using PySpark, leveraging the power of Spark's distributed computing capabilities for efficient data analysis and processing in a cloud environment."
      ],
      "metadata": {
        "id": "4Z6_CPk_GrqH"
      }
    },
    {
      "cell_type": "markdown",
      "source": [
        "### Authentication"
      ],
      "metadata": {
        "id": "Fo5YBHzxGESg"
      }
    },
    {
      "cell_type": "code",
      "source": [
        "import sys\n",
        "if 'google.colab' in sys.modules:\n",
        "    from google.colab import auth\n",
        "    auth.authenticate_user()"
      ],
      "metadata": {
        "id": "2ir8EgB6GDXG"
      },
      "execution_count": 37,
      "outputs": []
    },
    {
      "cell_type": "markdown",
      "source": [
        "### Project configuration"
      ],
      "metadata": {
        "id": "G_aq5HRsFQ9z"
      }
    },
    {
      "cell_type": "code",
      "source": [
        "PROJECT_ID = \"arctic-crawler-403811\"\n",
        "REGION = \"us-central1\"\n",
        "\n",
        "# !gcloud projects create $PROJECT_ID\n",
        "!gcloud config set project $PROJECT_ID\n",
        "!gcloud config set compute/region $REGION\n",
        "!gcloud config set dataproc/region $REGION\n",
        "!echo \"gcloud config list\"\n",
        "!gcloud config list"
      ],
      "metadata": {
        "id": "kxM_VZudFQYP",
        "colab": {
          "base_uri": "https://localhost:8080/"
        },
        "outputId": "8b4aad02-a061-4741-cd4d-9da6c69c33ab"
      },
      "execution_count": 38,
      "outputs": [
        {
          "output_type": "stream",
          "name": "stdout",
          "text": [
            "Updated property [core/project].\n",
            "API [compute.googleapis.com] not enabled on project [arctic-crawler-403811]. \n",
            "Would you like to enable and retry (this will take a few minutes)? (y/N)?  y\n",
            "\n",
            "Enabling service [compute.googleapis.com] on project [arctic-crawler-403811]...\n",
            "Operation \"operations/acf.p2-785982552930-5dc1add4-42fc-4179-82b2-819ce2e6b867\" finished successfully.\n",
            "Updated property [compute/region].\n",
            "Updated property [dataproc/region].\n",
            "gcloud config list\n",
            "[component_manager]\n",
            "disable_update_check = True\n",
            "[compute]\n",
            "region = us-central1\n",
            "[core]\n",
            "account = billypitchford@gmail.com\n",
            "project = arctic-crawler-403811\n",
            "[dataproc]\n",
            "region = us-central1\n",
            "\n",
            "Your active configuration is: [default]\n"
          ]
        }
      ]
    },
    {
      "cell_type": "markdown",
      "source": [
        "### Data upload"
      ],
      "metadata": {
        "id": "VmIbbUV0F2ZL"
      }
    },
    {
      "cell_type": "code",
      "source": [
        "# Create storage bucket\n",
        "BUCKET = f\"gs://{PROJECT_ID}-storage\"\n",
        "!gsutil mb $BUCKET\n",
        "print(BUCKET)"
      ],
      "metadata": {
        "id": "BxPtrMguF7BO",
        "colab": {
          "base_uri": "https://localhost:8080/"
        },
        "outputId": "2ae49c59-5118-4976-b2f0-581259531758"
      },
      "execution_count": 39,
      "outputs": [
        {
          "output_type": "stream",
          "name": "stdout",
          "text": [
            "Creating gs://arctic-crawler-403811-storage/...\n",
            "gs://arctic-crawler-403811-storage\n"
          ]
        }
      ]
    },
    {
      "cell_type": "code",
      "source": [
        "# Copy data to storage bucket\n",
        "FILEPATH = \"/content/drive/MyDrive/Data science jobs/3. Interview prep/Google Cloud/Dataproc/ratings.csv\"\n",
        "!gsutil -m cp \"$FILEPATH\" $BUCKET # Enclosed FILEPATH variable in double quotes to handle spaces in path\n",
        "BUCKET_PATH = BUCKET + \"/ratings.csv\"\n",
        "print(BUCKET_PATH)"
      ],
      "metadata": {
        "id": "XEUCs1BXG9co",
        "colab": {
          "base_uri": "https://localhost:8080/"
        },
        "outputId": "f3cc05b0-758a-4389-8313-f79d5554a7f2"
      },
      "execution_count": 46,
      "outputs": [
        {
          "output_type": "stream",
          "name": "stdout",
          "text": [
            "Copying file:///content/drive/MyDrive/Data science jobs/3. Interview prep/Google Cloud/Dataproc/ratings.csv [Content-Type=text/csv]...\n",
            "-\n",
            "Operation completed over 1 objects/2.4 MiB.                                      \n",
            "gs://arctic-crawler-403811-storage/ratings.csv\n"
          ]
        }
      ]
    },
    {
      "cell_type": "markdown",
      "source": [
        "### Dataproc cluster creation\n",
        "**Key observations:**\n",
        "\n",
        "The specific configuration for the cluster is defined in the subsequent options.\n",
        "\n",
        "* --image-version 1.4-ubuntu18\n",
        "\n",
        "  Specifies the version of the Dataproc image to be used. In this case, it's using version 1.4 with Ubuntu 18.\n",
        "\n",
        "* --single-node\n",
        "\n",
        "  Configures the cluster to have a single master node.\n",
        "\n",
        "* --master-machine-type n1-standard-2\n",
        "\n",
        "  Specifies the machine type for the master node. In this case, it's an n1-standard-2 machine type.\n",
        "\n",
        "* --master-boot-disk-type pd-ssd --master-boot-disk-size 100\n",
        "\n",
        "  Specifies the type and size of the master node's boot disk. In this case, it's using an SSD disk with a size of 100 GB.\n",
        "\n",
        "* --max-idle 3600s\n",
        "\n",
        "  Sets the maximum idle time for the cluster to 3600 seconds (1 hour). If the cluster is idle for this duration, it will be automatically deleted to avoid unnecessary costs.\n",
        "\n",
        "Note:\n",
        "* If the cell execution is stopped, the process will still continue in the cloud."
      ],
      "metadata": {
        "id": "K1u9rO2oHY2r"
      }
    },
    {
      "cell_type": "code",
      "source": [
        "CLUSTER = f\"{PROJECT_ID}-cluster\"\n",
        "!gcloud dataproc clusters create $CLUSTER \\\n",
        "    --image-version 1.4-ubuntu18 \\\n",
        "    --single-node \\\n",
        "    --master-machine-type n1-standard-2 \\\n",
        "    --master-boot-disk-type pd-ssd \\\n",
        "    --master-boot-disk-size 100 \\\n",
        "    --max-idle 3600s"
      ],
      "metadata": {
        "id": "fAm2dHKnHac4",
        "colab": {
          "base_uri": "https://localhost:8080/"
        },
        "outputId": "c2b1af94-fd6d-4150-c585-ff1e20612977"
      },
      "execution_count": 48,
      "outputs": [
        {
          "output_type": "stream",
          "name": "stdout",
          "text": [
            "API [dataproc.googleapis.com] not enabled on project [arctic-crawler-403811]. \n",
            "Would you like to enable and retry (this will take a few minutes)? (y/N)?  y\n",
            "\n",
            "Enabling service [dataproc.googleapis.com] on project [arctic-crawler-403811]...\n",
            "Operation \"operations/acf.p2-785982552930-1f24650e-ddb6-4ba4-b4f0-c4af11b4a680\" finished successfully.\n",
            "Waiting on operation [projects/arctic-crawler-403811/regions/us-central1/operations/4932393c-ec71-38ce-8e70-174e7b5086ca].\n",
            "\n",
            "\u001b[1;33mWARNING:\u001b[0m Failed to validate permissions required for default service account: '785982552930-compute@developer.gserviceaccount.com'. Cluster creation could still be successful if required permissions have been granted to the respective service accounts as mentioned in the document https://cloud.google.com/dataproc/docs/concepts/configuring-clusters/service-accounts#dataproc_service_accounts_2. This could be due to specifying a cross-project VM service account in the cluster creation request and not configuring it properly. To configure a cross-project VM service account follow the instructions at https://cloud.google.com/iam/docs/impersonating-service-accounts#attaching-different-project as not configuring properly could result in cluster creation failures during later stages.\n",
            "\u001b[1;33mWARNING:\u001b[0m The firewall rules for specified network or subnetwork would allow ingress traffic from 0.0.0.0/0, which could be a security risk.\n",
            "Created [https://dataproc.googleapis.com/v1/projects/arctic-crawler-403811/regions/us-central1/clusters/arctic-crawler-403811-cluster] Cluster placed in zone [us-central1-f].\n"
          ]
        }
      ]
    },
    {
      "cell_type": "markdown",
      "source": [
        "### Job submission"
      ],
      "metadata": {
        "id": "NVnOiY3_HgJs"
      }
    },
    {
      "cell_type": "code",
      "metadata": {
        "id": "oekh5_iAtYYg",
        "colab": {
          "base_uri": "https://localhost:8080/"
        },
        "outputId": "10edab36-6b36-405a-8699-12612dd9a7b2"
      },
      "source": [
        "!gcloud dataproc jobs submit pyspark --cluster $CLUSTER \"/content/drive/MyDrive/Data science jobs/3. Interview prep/Google Cloud/Dataproc/als_model.py\" -- $BUCKET_PATH"
      ],
      "execution_count": 81,
      "outputs": [
        {
          "output_type": "stream",
          "name": "stdout",
          "text": [
            "Job [b293b851b1374f449cbc439c302d9f62] submitted.\n",
            "Waiting for job output...\n",
            "23/11/17 12:54:27 INFO org.apache.spark.SparkEnv: Registering MapOutputTracker\n",
            "23/11/17 12:54:27 INFO org.apache.spark.SparkEnv: Registering BlockManagerMaster\n",
            "23/11/17 12:54:27 INFO org.apache.spark.SparkEnv: Registering OutputCommitCoordinator\n",
            "23/11/17 12:54:27 INFO org.spark_project.jetty.util.log: Logging initialized @4168ms to org.spark_project.jetty.util.log.Slf4jLog\n",
            "23/11/17 12:54:27 INFO org.spark_project.jetty.server.Server: jetty-9.4.z-SNAPSHOT; built: unknown; git: unknown; jvm 1.8.0_312-b07\n",
            "23/11/17 12:54:27 INFO org.spark_project.jetty.server.Server: Started @4309ms\n",
            "23/11/17 12:54:27 INFO org.spark_project.jetty.server.AbstractConnector: Started ServerConnector@2b8517a1{HTTP/1.1, (http/1.1)}{0.0.0.0:4040}\n",
            "23/11/17 12:54:28 WARN org.apache.spark.scheduler.FairSchedulableBuilder: Fair Scheduler configuration file not found so jobs will be scheduled in FIFO order. To use fair scheduling, configure pools in fairscheduler.xml or set spark.scheduler.allocation.file to a file that contains the configuration.\n",
            "23/11/17 12:54:29 INFO org.apache.hadoop.yarn.client.RMProxy: Connecting to ResourceManager at arctic-crawler-403811-cluster-m/10.128.0.2:8032\n",
            "23/11/17 12:54:29 INFO org.apache.hadoop.yarn.client.AHSProxy: Connecting to Application History server at arctic-crawler-403811-cluster-m/10.128.0.2:10200\n",
            "23/11/17 12:54:32 INFO org.apache.hadoop.yarn.client.api.impl.YarnClientImpl: Submitted application application_1700220571541_0007\n",
            "Baseline RMSE: 1.0425318558917247\n",
            "Optimal configuration: ({Param(parent='ALS_ecbe13ae8944', name='rank', doc='rank of the factorization'): 15, Param(parent='ALS_ecbe13ae8944', name='regParam', doc='regularization parameter (>= 0).'): 0.01}, nan)\n",
            "RMSE: nan\n",
            "23/11/17 13:04:04 INFO org.spark_project.jetty.server.AbstractConnector: Stopped Spark@2b8517a1{HTTP/1.1, (http/1.1)}{0.0.0.0:4040}\n",
            "Job [b293b851b1374f449cbc439c302d9f62] finished successfully.\n",
            "done: true\n",
            "driverControlFilesUri: gs://dataproc-staging-us-central1-785982552930-nz0uwefa/google-cloud-dataproc-metainfo/963b9654-737b-438f-80fd-85804beec397/jobs/b293b851b1374f449cbc439c302d9f62/\n",
            "driverOutputResourceUri: gs://dataproc-staging-us-central1-785982552930-nz0uwefa/google-cloud-dataproc-metainfo/963b9654-737b-438f-80fd-85804beec397/jobs/b293b851b1374f449cbc439c302d9f62/driveroutput\n",
            "jobUuid: a6de9b5e-0ddf-31e1-b02b-4a0096fc16b7\n",
            "placement:\n",
            "  clusterName: arctic-crawler-403811-cluster\n",
            "  clusterUuid: 963b9654-737b-438f-80fd-85804beec397\n",
            "pysparkJob:\n",
            "  args:\n",
            "  - gs://arctic-crawler-403811-storage/ratings.csv\n",
            "  mainPythonFileUri: gs://dataproc-staging-us-central1-785982552930-nz0uwefa/google-cloud-dataproc-metainfo/963b9654-737b-438f-80fd-85804beec397/jobs/b293b851b1374f449cbc439c302d9f62/staging/als_model.py\n",
            "reference:\n",
            "  jobId: b293b851b1374f449cbc439c302d9f62\n",
            "  projectId: arctic-crawler-403811\n",
            "status:\n",
            "  state: DONE\n",
            "  stateStartTime: '2023-11-17T13:04:06.645350Z'\n",
            "statusHistory:\n",
            "- state: PENDING\n",
            "  stateStartTime: '2023-11-17T12:54:21.940732Z'\n",
            "- state: SETUP_DONE\n",
            "  stateStartTime: '2023-11-17T12:54:21.987991Z'\n",
            "- details: Agent reported job success\n",
            "  state: RUNNING\n",
            "  stateStartTime: '2023-11-17T12:54:22.273493Z'\n",
            "yarnApplications:\n",
            "- name: spark-submit demo\n",
            "  progress: 1.0\n",
            "  state: FINISHED\n",
            "  trackingUrl: http://arctic-crawler-403811-cluster-m:8088/proxy/application_1700220571541_0007/\n"
          ]
        }
      ]
    },
    {
      "cell_type": "markdown",
      "source": [
        "### Downloads"
      ],
      "metadata": {
        "id": "I8H3ZE42aCrj"
      }
    },
    {
      "cell_type": "code",
      "source": [
        "DESTINATION_PATH = \"/content/drive/MyDrive/Data science jobs/3. Interview prep/Google Cloud/Dataproc\"\n",
        "\n",
        "# Training data\n",
        "SOURCE_PATH = \"gs://arctic-crawler-403811-storage/movie_rec_171123_training_DF\"\n",
        "!gsutil -m cp -r $SOURCE_PATH \"$DESTINATION_PATH\"\n",
        "\n",
        "# Test data\n",
        "SOURCE_PATH = \"gs://arctic-crawler-403811-storage/movie_rec_171123_test_DF\"\n",
        "!gsutil -m cp -r $SOURCE_PATH \"$DESTINATION_PATH\"\n",
        "\n",
        "# Model\n",
        "SOURCE_PATH = \"gs://arctic-crawler-403811-storage/movie_rec_171123\"\n",
        "!gsutil -m cp -r $SOURCE_PATH \"$DESTINATION_PATH\""
      ],
      "metadata": {
        "colab": {
          "base_uri": "https://localhost:8080/"
        },
        "id": "zBHkTKYcaBoN",
        "outputId": "2e937987-d818-4e68-e03b-0b26ba5c1e73"
      },
      "execution_count": 84,
      "outputs": [
        {
          "output_type": "stream",
          "name": "stdout",
          "text": [
            "Copying gs://arctic-crawler-403811-storage/movie_rec_171123_training_DF/_SUCCESS...\n",
            "Copying gs://arctic-crawler-403811-storage/movie_rec_171123_training_DF/part-00000-023e6046-a302-4ac5-84c6-d26d35821cf8-c000.csv...\n",
            "Copying gs://arctic-crawler-403811-storage/movie_rec_171123_test_DF/part-00000-9267f650-808f-4429-a560-98bcd0b3ce42-c000.csv...\n",
            "Copying gs://arctic-crawler-403811-storage/movie_rec_171123_test_DF/_SUCCESS...\n",
            "Copying gs://arctic-crawler-403811-storage/movie_rec_171123/bestModel/itemFactors/_SUCCESS...\n",
            "Copying gs://arctic-crawler-403811-storage/movie_rec_171123/bestModel/itemFactors/part-00002-51b611d7-2bcb-4a9c-99fc-fc0744a74b2e-c000.snappy.parquet...\n",
            "Copying gs://arctic-crawler-403811-storage/movie_rec_171123/bestModel/itemFactors/part-00000-51b611d7-2bcb-4a9c-99fc-fc0744a74b2e-c000.snappy.parquet...\n",
            "Copying gs://arctic-crawler-403811-storage/movie_rec_171123/bestModel/itemFactors/part-00007-51b611d7-2bcb-4a9c-99fc-fc0744a74b2e-c000.snappy.parquet...\n",
            "Copying gs://arctic-crawler-403811-storage/movie_rec_171123/bestModel/itemFactors/part-00006-51b611d7-2bcb-4a9c-99fc-fc0744a74b2e-c000.snappy.parquet...\n",
            "Copying gs://arctic-crawler-403811-storage/movie_rec_171123/bestModel/itemFactors/part-00003-51b611d7-2bcb-4a9c-99fc-fc0744a74b2e-c000.snappy.parquet...\n",
            "Copying gs://arctic-crawler-403811-storage/movie_rec_171123/bestModel/itemFactors/part-00004-51b611d7-2bcb-4a9c-99fc-fc0744a74b2e-c000.snappy.parquet...\n",
            "Copying gs://arctic-crawler-403811-storage/movie_rec_171123/bestModel/itemFactors/part-00005-51b611d7-2bcb-4a9c-99fc-fc0744a74b2e-c000.snappy.parquet...\n",
            "Copying gs://arctic-crawler-403811-storage/movie_rec_171123/bestModel/itemFactors/part-00001-51b611d7-2bcb-4a9c-99fc-fc0744a74b2e-c000.snappy.parquet...\n",
            "Copying gs://arctic-crawler-403811-storage/movie_rec_171123/bestModel/itemFactors/part-00008-51b611d7-2bcb-4a9c-99fc-fc0744a74b2e-c000.snappy.parquet...\n",
            "Copying gs://arctic-crawler-403811-storage/movie_rec_171123/bestModel/itemFactors/part-00009-51b611d7-2bcb-4a9c-99fc-fc0744a74b2e-c000.snappy.parquet...\n",
            "Copying gs://arctic-crawler-403811-storage/movie_rec_171123/bestModel/metadata/_SUCCESS...\n",
            "Copying gs://arctic-crawler-403811-storage/movie_rec_171123/bestModel/metadata/part-00000...\n",
            "Copying gs://arctic-crawler-403811-storage/movie_rec_171123/bestModel/userFactors/_SUCCESS...\n",
            "Copying gs://arctic-crawler-403811-storage/movie_rec_171123/bestModel/userFactors/part-00000-1a8e7524-404c-4dce-b209-f816a0e32198-c000.snappy.parquet...\n",
            "Copying gs://arctic-crawler-403811-storage/movie_rec_171123/bestModel/userFactors/part-00001-1a8e7524-404c-4dce-b209-f816a0e32198-c000.snappy.parquet...\n",
            "Copying gs://arctic-crawler-403811-storage/movie_rec_171123/bestModel/userFactors/part-00002-1a8e7524-404c-4dce-b209-f816a0e32198-c000.snappy.parquet...\n",
            "Copying gs://arctic-crawler-403811-storage/movie_rec_171123/bestModel/userFactors/part-00003-1a8e7524-404c-4dce-b209-f816a0e32198-c000.snappy.parquet...\n",
            "Copying gs://arctic-crawler-403811-storage/movie_rec_171123/bestModel/userFactors/part-00004-1a8e7524-404c-4dce-b209-f816a0e32198-c000.snappy.parquet...\n",
            "Copying gs://arctic-crawler-403811-storage/movie_rec_171123/bestModel/userFactors/part-00005-1a8e7524-404c-4dce-b209-f816a0e32198-c000.snappy.parquet...\n",
            "Copying gs://arctic-crawler-403811-storage/movie_rec_171123/bestModel/userFactors/part-00006-1a8e7524-404c-4dce-b209-f816a0e32198-c000.snappy.parquet...\n",
            "Copying gs://arctic-crawler-403811-storage/movie_rec_171123/bestModel/userFactors/part-00007-1a8e7524-404c-4dce-b209-f816a0e32198-c000.snappy.parquet...\n",
            "Copying gs://arctic-crawler-403811-storage/movie_rec_171123/bestModel/userFactors/part-00008-1a8e7524-404c-4dce-b209-f816a0e32198-c000.snappy.parquet...\n",
            "Copying gs://arctic-crawler-403811-storage/movie_rec_171123/bestModel/userFactors/part-00009-1a8e7524-404c-4dce-b209-f816a0e32198-c000.snappy.parquet...\n",
            "Copying gs://arctic-crawler-403811-storage/movie_rec_171123/estimator/metadata/_SUCCESS...\n",
            "Copying gs://arctic-crawler-403811-storage/movie_rec_171123/estimator/metadata/part-00000...\n",
            "Copying gs://arctic-crawler-403811-storage/movie_rec_171123/evaluator/metadata/_SUCCESS...\n",
            "Copying gs://arctic-crawler-403811-storage/movie_rec_171123/evaluator/metadata/part-00000...\n",
            "Copying gs://arctic-crawler-403811-storage/movie_rec_171123/metadata/_SUCCESS...\n",
            "Copying gs://arctic-crawler-403811-storage/movie_rec_171123/metadata/part-00000...\n"
          ]
        }
      ]
    },
    {
      "cell_type": "markdown",
      "source": [
        "### Clean up\n",
        "* To avoid further costs, the cluster and storage buckets are deleted"
      ],
      "metadata": {
        "id": "ycCHSDHOON_v"
      }
    },
    {
      "cell_type": "code",
      "source": [
        "# Cluster\n",
        "!gcloud dataproc clusters delete $CLUSTER --region=$REGION\n",
        "\n",
        "# Storage bucket\n",
        "BUCKET = \"gs://arctic-crawler-403811-storage/\"\n",
        "!gsutil -m rm -r $BUCKET"
      ],
      "metadata": {
        "colab": {
          "base_uri": "https://localhost:8080/"
        },
        "id": "9P32xXntOPey",
        "outputId": "e8c55743-6c02-4493-bfaa-0dc5feb57f39"
      },
      "execution_count": 86,
      "outputs": [
        {
          "output_type": "stream",
          "name": "stdout",
          "text": [
            "The cluster 'arctic-crawler-403811-cluster' and all attached disks will be \n",
            "deleted.\n",
            "\n",
            "Do you want to continue (Y/n)?  Y\n",
            "\n",
            "\u001b[1;31mERROR:\u001b[0m (gcloud.dataproc.clusters.delete) NOT_FOUND: Not found: Cluster projects/arctic-crawler-403811/regions/us-central1/clusters/arctic-crawler-403811-cluster\n",
            "BucketNotFoundException: 404 gs://arctic-crawler-403811-storage bucket does not exist.\n",
            "CommandException: Encountered non-existent bucket during listing\n"
          ]
        }
      ]
    },
    {
      "cell_type": "markdown",
      "source": [
        "## Evaluation"
      ],
      "metadata": {
        "id": "DHNqqwx7Hhgv"
      }
    },
    {
      "cell_type": "code",
      "source": [
        "# Test data\n",
        "TEST_PATH = \"/content/drive/MyDrive/Data science jobs/3. Interview prep/Google Cloud/Dataproc/movie_rec_171123_test_DF/\"\n",
        "TEST_DATA = TEST_PATH + \"part-00000-9267f650-808f-4429-a560-98bcd0b3ce42-c000.csv\"\n",
        "!wc \"$TEST_DATA\"\n",
        "print(\"\\n\")\n",
        "!head -n 5 \"$TEST_DATA\""
      ],
      "metadata": {
        "colab": {
          "base_uri": "https://localhost:8080/"
        },
        "id": "pm4SDJsdcel5",
        "outputId": "36f87196-cc59-4414-b999-8f50c580c16a"
      },
      "execution_count": 89,
      "outputs": [
        {
          "output_type": "stream",
          "name": "stdout",
          "text": [
            " 20066  20066 474297 /content/drive/MyDrive/Data science jobs/3. Interview prep/Google Cloud/Dataproc/movie_rec_171123_test_DF/part-00000-9267f650-808f-4429-a560-98bcd0b3ce42-c000.csv\n",
            "\n",
            "\n",
            "1,2.0,939114353,412\n",
            "1,2.5,1391736605,528\n",
            "1,3.0,847221025,609\n",
            "1,3.0,853937855,214\n",
            "1,3.0,855583216,529\n"
          ]
        }
      ]
    },
    {
      "cell_type": "code",
      "source": [
        "# Read test data into spark DataFrame\n",
        "test_DF = spark.read.csv(TEST_DATA).withColumnRenamed(\"_c0\", \"userId\") \\\n",
        "                                    .withColumnRenamed(\"_c1\", \"rating\") \\\n",
        "                                    .withColumnRenamed(\"_c2\", \"timestamp\") \\\n",
        "                                    .withColumnRenamed(\"_c3\", \"movieID\")\n",
        "test_DF.show(5)\n",
        "test_DF.printSchema()"
      ],
      "metadata": {
        "colab": {
          "base_uri": "https://localhost:8080/"
        },
        "id": "tUptGgwWemY-",
        "outputId": "df6c14bc-42d6-4a64-c44e-7dd1be6d20e5"
      },
      "execution_count": 105,
      "outputs": [
        {
          "output_type": "stream",
          "name": "stdout",
          "text": [
            "+------+------+----------+-------+\n",
            "|userId|rating| timestamp|movieID|\n",
            "+------+------+----------+-------+\n",
            "|     1|   2.0| 939114353|    412|\n",
            "|     1|   2.5|1391736605|    528|\n",
            "|     1|   3.0| 847221025|    609|\n",
            "|     1|   3.0| 853937855|    214|\n",
            "|     1|   3.0| 855583216|    529|\n",
            "+------+------+----------+-------+\n",
            "only showing top 5 rows\n",
            "\n",
            "root\n",
            " |-- userId: string (nullable = true)\n",
            " |-- rating: string (nullable = true)\n",
            " |-- timestamp: string (nullable = true)\n",
            " |-- movieID: string (nullable = true)\n",
            "\n"
          ]
        }
      ]
    },
    {
      "cell_type": "code",
      "source": [
        "# Cast relevant dtypes\n",
        "from pyspark.sql.types import LongType, DoubleType\n",
        "test_DF = test_DF.withColumn(\"userId\", test_DF[\"userId\"].cast(LongType())) \\\n",
        "                  .withColumn(\"rating\", test_DF[\"rating\"].cast(DoubleType())) \\\n",
        "                  .withColumn(\"movieId\", test_DF[\"movieId\"].cast(LongType())) \\\n",
        "                  .withColumn(\"timestamp\", test_DF[\"timestamp\"].cast(LongType()))\n",
        "test_DF.printSchema()"
      ],
      "metadata": {
        "colab": {
          "base_uri": "https://localhost:8080/"
        },
        "id": "v2gjDXIYg6RR",
        "outputId": "b22456c2-bb4f-401e-c3fc-8b7efc7af523"
      },
      "execution_count": 114,
      "outputs": [
        {
          "output_type": "stream",
          "name": "stdout",
          "text": [
            "root\n",
            " |-- userId: long (nullable = true)\n",
            " |-- rating: double (nullable = true)\n",
            " |-- timestamp: long (nullable = true)\n",
            " |-- movieId: long (nullable = true)\n",
            "\n"
          ]
        }
      ]
    },
    {
      "cell_type": "code",
      "source": [
        "# Read pickled model\n",
        "from pyspark.ml.tuning import CrossValidatorModel\n",
        "MODEL_PATH = \"/content/drive/MyDrive/Data science jobs/3. Interview prep/Google Cloud/Dataproc/movie_rec_171123\"\n",
        "gcloud_model = CrossValidatorModel.load(MODEL_PATH)"
      ],
      "metadata": {
        "id": "u05vQaQ0RrAp"
      },
      "execution_count": 115,
      "outputs": []
    },
    {
      "cell_type": "code",
      "source": [
        "# Evaluate\n",
        "test_pred = gcloud_model.bestModel.transform(test_DF)\n",
        "reg_eval = RegressionEvaluator(metricName=\"rmse\", labelCol=\"rating\", predictionCol=\"prediction\")\n",
        "test_rmse = reg_eval.evaluate(test_pred)\n",
        "\n",
        "print(f\"RMSE: {test_rmse}\")\n",
        "print(\"_\"*50, \"\\n\"*2)\n",
        "test_pred.show()"
      ],
      "metadata": {
        "colab": {
          "base_uri": "https://localhost:8080/"
        },
        "id": "Ocj9tYtHjLQV",
        "outputId": "62d5d360-dde8-49c5-e77b-93c3ef9e3123"
      },
      "execution_count": 116,
      "outputs": [
        {
          "output_type": "stream",
          "name": "stdout",
          "text": [
            "RMSE: nan\n",
            "__________________________________________________ \n",
            "\n",
            "\n",
            "+------+------+----------+-------+-----------+\n",
            "|userId|rating| timestamp|movieId| prediction|\n",
            "+------+------+----------+-------+-----------+\n",
            "|     1|   2.0| 939114353|    412|   0.868865|\n",
            "|     1|   2.0| 939114353|    412|   2.398054|\n",
            "|     1|   2.0| 939114353|    412|  1.4572092|\n",
            "|     1|   2.0| 939114353|    412|  3.0852547|\n",
            "|     1|   2.5|1391736605|    528|  2.5351605|\n",
            "|     1|   2.5|1391736605|    528|  1.5402652|\n",
            "|     1|   2.5|1391736605|    528|  2.4358478|\n",
            "|     1|   2.5|1391736605|    528|  2.0843716|\n",
            "|     1|   3.0| 847221025|    609|  4.5355363|\n",
            "|     1|   3.0| 847221025|    609|  3.9269233|\n",
            "|     1|   3.0| 847221025|    609|  4.8908095|\n",
            "|     1|   3.0| 847221025|    609|   3.749262|\n",
            "|     1|   3.0| 853937855|    214|  0.5435827|\n",
            "|     1|   3.0| 853937855|    214|  1.9331222|\n",
            "|     1|   3.0| 853937855|    214|-0.21802905|\n",
            "|     1|   3.0| 853937855|    214|  1.1318959|\n",
            "|     1|   3.0| 855583216|    529|  4.7354417|\n",
            "|     1|   3.0| 855583216|    529|  4.3264856|\n",
            "|     1|   3.0| 855583216|    529|  4.3177905|\n",
            "|     1|   3.0| 855583216|    529|  4.3377767|\n",
            "+------+------+----------+-------+-----------+\n",
            "only showing top 20 rows\n",
            "\n"
          ]
        }
      ]
    },
    {
      "cell_type": "code",
      "source": [
        "test_pred = test_pred.toPandas()\n",
        "\n",
        "fig, axes = plt.subplots()\n",
        "axes.tick_params(bottom=False, left=False)\n",
        "axes.grid(False)\n",
        "axes.spines[['top', 'right']].set_visible(False)\n",
        "axes.spines[['left', 'bottom']].set_color('dimgray')\n",
        "\n",
        "axes.scatter(test_pred['rating'], test_pred['prediction'], color='dimgray')\n",
        "axes.set_xlabel('Actual rating', fontsize=10, color='dimgray')\n",
        "axes.set_ylabel('Prediction', fontsize=10, color='dimgray');"
      ],
      "metadata": {
        "colab": {
          "base_uri": "https://localhost:8080/",
          "height": 449
        },
        "id": "eyjN4zDgkM04",
        "outputId": "5706af17-e4d0-46a6-c26b-630128d32e04"
      },
      "execution_count": 117,
      "outputs": [
        {
          "output_type": "display_data",
          "data": {
            "text/plain": [
              "<Figure size 640x480 with 1 Axes>"
            ],
            "image/png": "[encoded data removed]"
          },
          "metadata": {}
        }
      ]
    },
    {
      "cell_type": "markdown",
      "source": [
        "## User recommendation"
      ],
      "metadata": {
        "id": "n7tv1yTgHoUL"
      }
    }
  ]
}