{
  "nbformat": 4,
  "nbformat_minor": 0,
  "metadata": {
    "colab": {
      "provenance": [],
      "toc_visible": true
    },
    "kernelspec": {
      "name": "python3",
      "display_name": "Python 3"
    }
  },
  "cells": [
    {
      "cell_type": "markdown",
      "metadata": {
        "id": "gw8sWRdFqtYo"
      },
      "source": [
        "# Movie recommendation using ALS in Spark\n",
        "\n",
        "The goal of this project is to use Alternating Least Squares (ALS) in Spark to recommend movies."
      ]
    },
    {
      "cell_type": "markdown",
      "source": [
        "# Set-up"
      ],
      "metadata": {
        "id": "rhxMysMPO10B"
      }
    },
    {
      "cell_type": "markdown",
      "source": [
        "## Google Drive"
      ],
      "metadata": {
        "id": "1A37VgUbq-dk"
      }
    },
    {
      "cell_type": "code",
      "metadata": {
        "id": "RrEXZtlCqztr",
        "colab": {
          "base_uri": "https://localhost:8080/"
        },
        "outputId": "40e0bd1b-6915-450c-cc38-eb4dafcbb2ce"
      },
      "source": [
        "from google.colab import drive\n",
        "drive.mount('/content/drive')"
      ],
      "execution_count": 1,
      "outputs": [
        {
          "output_type": "stream",
          "name": "stdout",
          "text": [
            "Mounted at /content/drive\n"
          ]
        }
      ]
    },
    {
      "cell_type": "markdown",
      "source": [
        "## Dependencies"
      ],
      "metadata": {
        "id": "QMarvfQ0O-Ns"
      }
    },
    {
      "cell_type": "code",
      "source": [
        "from math import sqrt\n",
        "import pandas as pd"
      ],
      "metadata": {
        "id": "F5FIWp_e2a6i"
      },
      "execution_count": 2,
      "outputs": []
    },
    {
      "cell_type": "code",
      "source": [
        "# Create a spark context and session\n",
        "%cd\n",
        "!apt-get update -qq\n",
        "!apt-get install openjdk-8-jdk-headless -qq > /dev/null\n",
        "!tar -xzf '/content/drive/MyDrive/Colab Notebooks/spark-3.0.1-bin-hadoop2.7.tgz'\n",
        "!pip install -q findspark\n",
        "import os\n",
        "os.environ[\"JAVA_HOME\"] = \"/usr/lib/jvm/java-8-openjdk-amd64\"\n",
        "os.environ[\"SPARK_HOME\"] = \"/root/spark-3.0.1-bin-hadoop2.7\"\n",
        "%cd /content\n",
        "\n",
        "import findspark\n",
        "findspark.init()\n",
        "import pyspark\n",
        "sc = pyspark.SparkContext.getOrCreate()\n",
        "spark = pyspark.sql.SparkSession.builder.getOrCreate()\n",
        "print(sc)\n",
        "print(spark)"
      ],
      "metadata": {
        "colab": {
          "base_uri": "https://localhost:8080/"
        },
        "id": "czQvAqfdiSC3",
        "outputId": "5ccfe920-b810-4179-c985-d1ec7e373fe6"
      },
      "execution_count": 3,
      "outputs": [
        {
          "output_type": "stream",
          "name": "stdout",
          "text": [
            "/root\n",
            "/content\n",
            "<SparkContext master=local[*] appName=pyspark-shell>\n",
            "<pyspark.sql.session.SparkSession object at 0x79ce8ebc2aa0>\n"
          ]
        }
      ]
    },
    {
      "cell_type": "markdown",
      "source": [
        "# Local model tuning\n",
        "**Key observation:**\n",
        "* The optimal hyperparameter configuration is found via a cross-validated grid search using a subset of the available data."
      ],
      "metadata": {
        "id": "mTrfBULTqYWL"
      }
    },
    {
      "cell_type": "markdown",
      "metadata": {
        "id": "6ysksD8nSYit"
      },
      "source": [
        "## Training/test data prep\n",
        "\n",
        "**Key observations:**\n",
        "* The dataset of movie ratings consists of four columns separated by `::`. The first column contains `userId`s, the second `movieId`s, the third the `rating` of the user for that movie and the last column is a `timestamp`.\n",
        "\n",
        "* This is read into a an RDD initially before creation of a DataFrame."
      ]
    },
    {
      "cell_type": "code",
      "source": [
        "!wc \"/content/drive/MyDrive/Colab Notebooks/sample_movielens_ratings.txt\""
      ],
      "metadata": {
        "colab": {
          "base_uri": "https://localhost:8080/"
        },
        "id": "ocI7igjp_xQY",
        "outputId": "67fa0b82-bc64-4935-c2af-7e8afcbc3917"
      },
      "execution_count": 4,
      "outputs": [
        {
          "output_type": "stream",
          "name": "stdout",
          "text": [
            " 1501  1501 32363 /content/drive/MyDrive/Colab Notebooks/sample_movielens_ratings.txt\n"
          ]
        }
      ]
    },
    {
      "cell_type": "code",
      "metadata": {
        "id": "iTFca7ZYLY9x",
        "colab": {
          "base_uri": "https://localhost:8080/"
        },
        "outputId": "ed3bdc2f-0af2-4044-c561-bf6cb7ba1e40"
      },
      "source": [
        "!head -n 5 \"/content/drive/MyDrive/Colab Notebooks/sample_movielens_ratings.txt\""
      ],
      "execution_count": 5,
      "outputs": [
        {
          "output_type": "stream",
          "name": "stdout",
          "text": [
            "0::2::3::1424380312\n",
            "0::3::1::1424380312\n",
            "0::5::2::1424380312\n",
            "0::9::4::1424380312\n",
            "0::11::1::1424380312\n"
          ]
        }
      ]
    },
    {
      "cell_type": "code",
      "source": [
        "# create RDD\n",
        "records = spark.read.text(\"/content/drive/MyDrive/Colab Notebooks/sample_movielens_ratings.txt\").rdd\n",
        "records.take(1)"
      ],
      "metadata": {
        "colab": {
          "base_uri": "https://localhost:8080/"
        },
        "id": "XI5BCVG3nI0Z",
        "outputId": "67e103d9-136a-4332-b77e-8c26f9071dfd"
      },
      "execution_count": 6,
      "outputs": [
        {
          "output_type": "execute_result",
          "data": {
            "text/plain": [
              "[Row(value='0::2::3::1424380312')]"
            ]
          },
          "metadata": {},
          "execution_count": 6
        }
      ]
    },
    {
      "cell_type": "code",
      "source": [
        "# split columns at '::'\n",
        "elements = records.map(lambda row: row.value.split('::'))\n",
        "elements.take(1)"
      ],
      "metadata": {
        "colab": {
          "base_uri": "https://localhost:8080/"
        },
        "id": "PquslNUCnpfg",
        "outputId": "c6904709-7cc2-4b23-c501-06649266bf98"
      },
      "execution_count": 7,
      "outputs": [
        {
          "output_type": "execute_result",
          "data": {
            "text/plain": [
              "[['0', '2', '3', '1424380312']]"
            ]
          },
          "metadata": {},
          "execution_count": 7
        }
      ]
    },
    {
      "cell_type": "code",
      "source": [
        "# create DataFrame via RDD of row objects\n",
        "from pyspark.sql import Row\n",
        "row_RDD = elements.map(lambda row: Row(userId=int(row[0]), movieId=int(row[1]), rating=float(row[2]), timestamp=int(row[3])))\n",
        "ratings_DF = spark.createDataFrame(row_RDD)\n",
        "ratings_DF.createOrReplaceTempView('ratings_DF') # register temporary view enabling SQL queries"
      ],
      "metadata": {
        "id": "qSFbGWWunDjy"
      },
      "execution_count": 8,
      "outputs": []
    },
    {
      "cell_type": "code",
      "source": [
        "# train/test split\n",
        "(training_DF, valid_DF) = ratings_DF.randomSplit([0.8, 0.2])\n",
        "print(\"Training data:\")\n",
        "print(training_DF.show(5))\n",
        "print(training_DF.count())\n",
        "print(\"\\nTest data:\")\n",
        "print(valid_DF.show(5))\n",
        "print(valid_DF.count())"
      ],
      "metadata": {
        "colab": {
          "base_uri": "https://localhost:8080/"
        },
        "id": "3i9Kk2Xzocvq",
        "outputId": "c107ed99-c837-4ebd-d4e5-5c66e58455f8"
      },
      "execution_count": 9,
      "outputs": [
        {
          "output_type": "stream",
          "name": "stdout",
          "text": [
            "Training data:\n",
            "+------+-------+------+----------+\n",
            "|userId|movieId|rating| timestamp|\n",
            "+------+-------+------+----------+\n",
            "|     0|      2|   3.0|1424380312|\n",
            "|     0|      3|   1.0|1424380312|\n",
            "|     0|      5|   2.0|1424380312|\n",
            "|     0|      9|   4.0|1424380312|\n",
            "|     0|     12|   2.0|1424380312|\n",
            "+------+-------+------+----------+\n",
            "only showing top 5 rows\n",
            "\n",
            "None\n",
            "1227\n",
            "\n",
            "Test data:\n",
            "+------+-------+------+----------+\n",
            "|userId|movieId|rating| timestamp|\n",
            "+------+-------+------+----------+\n",
            "|     0|     11|   1.0|1424380312|\n",
            "|     0|     15|   1.0|1424380312|\n",
            "|     0|     21|   1.0|1424380312|\n",
            "|     0|     26|   3.0|1424380312|\n",
            "|     0|     30|   1.0|1424380312|\n",
            "+------+-------+------+----------+\n",
            "only showing top 5 rows\n",
            "\n",
            "None\n",
            "274\n"
          ]
        }
      ]
    },
    {
      "cell_type": "markdown",
      "metadata": {
        "id": "E-amZql8qtY2"
      },
      "source": [
        "## Baseline\n",
        "\n",
        "**Key observation:**\n",
        "* The mean of all ratings is the naive baseline predictor.\n",
        "\n",
        "* Performance is estimated using RMSE."
      ]
    },
    {
      "cell_type": "code",
      "source": [
        "# Calculate mean rating across all rows in the training set\n",
        "SQL_query = 'SELECT AVG(rating) FROM ratings_DF'\n",
        "row_baseline = spark.sql(SQL_query).collect()[0] # query returns dataframe with only 1 row\n",
        "baseline = row_baseline['avg(rating)'] # access via dictionary\n",
        "print(baseline)"
      ],
      "metadata": {
        "colab": {
          "base_uri": "https://localhost:8080/"
        },
        "id": "s_Wgzxkwrf1f",
        "outputId": "56245d95-99b6-4e37-f63f-c6bdbeac0be5"
      },
      "execution_count": 10,
      "outputs": [
        {
          "output_type": "stream",
          "name": "stdout",
          "text": [
            "1.7741505662891406\n"
          ]
        }
      ]
    },
    {
      "cell_type": "code",
      "source": [
        "# Calculate squared error for each row in the validation set\n",
        "se_RDD = valid_DF.rdd.map(lambda row: Row(se=pow(row['rating']-baseline, 2)))\n",
        "se_DF = spark.createDataFrame(se_RDD)\n",
        "se_DF.createOrReplaceTempView('se_DF') # register temporary view enabling SQL queries\n",
        "se_DF.show(5)"
      ],
      "metadata": {
        "colab": {
          "base_uri": "https://localhost:8080/"
        },
        "id": "gTy4q-rtvB4-",
        "outputId": "d781a521-c524-40e0-a26d-b46edbd10b56"
      },
      "execution_count": 11,
      "outputs": [
        {
          "output_type": "stream",
          "name": "stdout",
          "text": [
            "+------------------+\n",
            "|                se|\n",
            "+------------------+\n",
            "| 0.599309099285797|\n",
            "| 0.599309099285797|\n",
            "| 0.599309099285797|\n",
            "|1.5027068341292347|\n",
            "| 0.599309099285797|\n",
            "+------------------+\n",
            "only showing top 5 rows\n",
            "\n"
          ]
        }
      ]
    },
    {
      "cell_type": "code",
      "source": [
        "# Calculate RMSE\n",
        "SQL_query = 'SELECT AVG(se) FROM se_DF'\n",
        "row_avg = spark.sql(SQL_query).collect()[0] # query returns dataframe with only 1 row\n",
        "MSE = row_avg['avg(se)'] # access via dictionary\n",
        "print(f\"Baseline RMSE: {sqrt(MSE)}\")"
      ],
      "metadata": {
        "colab": {
          "base_uri": "https://localhost:8080/"
        },
        "id": "4kmF2FBov1z2",
        "outputId": "3513ae25-03d2-4405-d30d-22a91e926621"
      },
      "execution_count": 12,
      "outputs": [
        {
          "output_type": "stream",
          "name": "stdout",
          "text": [
            "Baseline RMSE: 1.257853894594803\n"
          ]
        }
      ]
    },
    {
      "cell_type": "markdown",
      "metadata": {
        "id": "RPkw5oTDqtY9"
      },
      "source": [
        "## Hyperparameter tuning\n",
        "\n",
        "**Key observations:**\n",
        "\n",
        "* An [ALS estimator](https://spark.apache.org/docs/latest/api/python/reference/api/pyspark.ml.recommendation.ALS.html#pyspark.ml.recommendation.ALS) is created and cross-validation is used to assess different values for 'rank' and 'regParam'."
      ]
    },
    {
      "cell_type": "code",
      "source": [
        "from pyspark.ml.tuning import CrossValidator, ParamGridBuilder\n",
        "from pyspark.ml.evaluation import RegressionEvaluator\n",
        "from pyspark.ml.recommendation import ALS\n",
        "\n",
        "# ALS estimator\n",
        "als = ALS(maxIter=5, rank=5, regParam=0.1, userCol=\"userId\", itemCol=\"movieId\", ratingCol=\"rating\")\n",
        "\n",
        "# parameter grid\n",
        "# Source: https://spark.apache.org/docs/latest/api/python/reference/api/pyspark.ml.tuning.ParamGridBuilder.html#pyspark.ml.tuning.ParamGridBuilder\n",
        "param_grid = ParamGridBuilder().addGrid(als.rank, [1, 3, 10]).addGrid(als.regParam, [0.01, 0.03, 0.1, 0.3, 1]).build()\n",
        "\n",
        "# regression evaluator\n",
        "# Source: https://spark.apache.org/docs/latest/api/python/reference/api/pyspark.ml.evaluation.RegressionEvaluator.html#pyspark.ml.evaluation.RegressionEvaluator\n",
        "reg_eval = RegressionEvaluator(metricName=\"rmse\", labelCol=\"rating\", predictionCol=\"prediction\")\n",
        "\n",
        "# k-fold cross validation\n",
        "# Source: https://spark.apache.org/docs/latest/api/python/reference/api/pyspark.ml.tuning.CrossValidator.html\n",
        "k=3\n",
        "kfold_cv = CrossValidator(estimator=als, estimatorParamMaps=param_grid, evaluator=reg_eval, numFolds=k)\n",
        "cvModel = kfold_cv.fit(training_DF)"
      ],
      "metadata": {
        "id": "lPHGV5sQyILa"
      },
      "execution_count": 13,
      "outputs": []
    },
    {
      "cell_type": "code",
      "source": [
        "# DataFrame showing grid search results\n",
        "# Note: Parameter maps and metrics are local Python lists\n",
        "cv_output = list(zip(cvModel.getEstimatorParamMaps(), cvModel.avgMetrics))\n",
        "cv_output = pd.DataFrame(cv_output, columns=['parameter combination', 'rmse'])\n",
        "cv_output.head()"
      ],
      "metadata": {
        "colab": {
          "base_uri": "https://localhost:8080/",
          "height": 206
        },
        "id": "oKxqUKOl1o3O",
        "outputId": "a81c5d2d-73de-4048-96c9-f6b6fb490cba"
      },
      "execution_count": 14,
      "outputs": [
        {
          "output_type": "execute_result",
          "data": {
            "text/plain": [
              "                               parameter combination      rmse\n",
              "0  {ALS_f305fa9818c1__rank: 1, ALS_f305fa9818c1__...  1.279742\n",
              "1  {ALS_f305fa9818c1__rank: 1, ALS_f305fa9818c1__...  1.276164\n",
              "2  {ALS_f305fa9818c1__rank: 1, ALS_f305fa9818c1__...  1.267773\n",
              "3  {ALS_f305fa9818c1__rank: 1, ALS_f305fa9818c1__...  1.269761\n",
              "4  {ALS_f305fa9818c1__rank: 1, ALS_f305fa9818c1__...  1.522569"
            ],
            "text/html": [
              "\n",
              "  <div id=\"df-76ee58fc-6bc8-49e4-a722-c0fc10a155c1\" class=\"colab-df-container\">\n",
              "    <div>\n",
              "<style scoped>\n",
              "    .dataframe tbody tr th:only-of-type {\n",
              "        vertical-align: middle;\n",
              "    }\n",
              "\n",
              "    .dataframe tbody tr th {\n",
              "        vertical-align: top;\n",
              "    }\n",
              "\n",
              "    .dataframe thead th {\n",
              "        text-align: right;\n",
              "    }\n",
              "</style>\n",
              "<table border=\"1\" class=\"dataframe\">\n",
              "  <thead>\n",
              "    <tr style=\"text-align: right;\">\n",
              "      <th></th>\n",
              "      <th>parameter combination</th>\n",
              "      <th>rmse</th>\n",
              "    </tr>\n",
              "  </thead>\n",
              "  <tbody>\n",
              "    <tr>\n",
              "      <th>0</th>\n",
              "      <td>{ALS_f305fa9818c1__rank: 1, ALS_f305fa9818c1__...</td>\n",
              "      <td>1.279742</td>\n",
              "    </tr>\n",
              "    <tr>\n",
              "      <th>1</th>\n",
              "      <td>{ALS_f305fa9818c1__rank: 1, ALS_f305fa9818c1__...</td>\n",
              "      <td>1.276164</td>\n",
              "    </tr>\n",
              "    <tr>\n",
              "      <th>2</th>\n",
              "      <td>{ALS_f305fa9818c1__rank: 1, ALS_f305fa9818c1__...</td>\n",
              "      <td>1.267773</td>\n",
              "    </tr>\n",
              "    <tr>\n",
              "      <th>3</th>\n",
              "      <td>{ALS_f305fa9818c1__rank: 1, ALS_f305fa9818c1__...</td>\n",
              "      <td>1.269761</td>\n",
              "    </tr>\n",
              "    <tr>\n",
              "      <th>4</th>\n",
              "      <td>{ALS_f305fa9818c1__rank: 1, ALS_f305fa9818c1__...</td>\n",
              "      <td>1.522569</td>\n",
              "    </tr>\n",
              "  </tbody>\n",
              "</table>\n",
              "</div>\n",
              "    <div class=\"colab-df-buttons\">\n",
              "\n",
              "  <div class=\"colab-df-container\">\n",
              "    <button class=\"colab-df-convert\" onclick=\"convertToInteractive('df-76ee58fc-6bc8-49e4-a722-c0fc10a155c1')\"\n",
              "            title=\"Convert this dataframe to an interactive table.\"\n",
              "            style=\"display:none;\">\n",
              "\n",
              "  <svg xmlns=\"http://www.w3.org/2000/svg\" height=\"24px\" viewBox=\"0 -960 960 960\">\n",
              "    <path d=\"M120-120v-720h720v720H120Zm60-500h600v-160H180v160Zm220 220h160v-160H400v160Zm0 220h160v-160H400v160ZM180-400h160v-160H180v160Zm440 0h160v-160H620v160ZM180-180h160v-160H180v160Zm440 0h160v-160H620v160Z\"/>\n",
              "  </svg>\n",
              "    </button>\n",
              "\n",
              "  <style>\n",
              "    .colab-df-container {\n",
              "      display:flex;\n",
              "      gap: 12px;\n",
              "    }\n",
              "\n",
              "    .colab-df-convert {\n",
              "      background-color: #E8F0FE;\n",
              "      border: none;\n",
              "      border-radius: 50%;\n",
              "      cursor: pointer;\n",
              "      display: none;\n",
              "      fill: #1967D2;\n",
              "      height: 32px;\n",
              "      padding: 0 0 0 0;\n",
              "      width: 32px;\n",
              "    }\n",
              "\n",
              "    .colab-df-convert:hover {\n",
              "      background-color: #E2EBFA;\n",
              "      box-shadow: 0px 1px 2px rgba(60, 64, 67, 0.3), 0px 1px 3px 1px rgba(60, 64, 67, 0.15);\n",
              "      fill: #174EA6;\n",
              "    }\n",
              "\n",
              "    .colab-df-buttons div {\n",
              "      margin-bottom: 4px;\n",
              "    }\n",
              "\n",
              "    [theme=dark] .colab-df-convert {\n",
              "      background-color: #3B4455;\n",
              "      fill: #D2E3FC;\n",
              "    }\n",
              "\n",
              "    [theme=dark] .colab-df-convert:hover {\n",
              "      background-color: #434B5C;\n",
              "      box-shadow: 0px 1px 3px 1px rgba(0, 0, 0, 0.15);\n",
              "      filter: drop-shadow(0px 1px 2px rgba(0, 0, 0, 0.3));\n",
              "      fill: #FFFFFF;\n",
              "    }\n",
              "  </style>\n",
              "\n",
              "    <script>\n",
              "      const buttonEl =\n",
              "        document.querySelector('#df-76ee58fc-6bc8-49e4-a722-c0fc10a155c1 button.colab-df-convert');\n",
              "      buttonEl.style.display =\n",
              "        google.colab.kernel.accessAllowed ? 'block' : 'none';\n",
              "\n",
              "      async function convertToInteractive(key) {\n",
              "        const element = document.querySelector('#df-76ee58fc-6bc8-49e4-a722-c0fc10a155c1');\n",
              "        const dataTable =\n",
              "          await google.colab.kernel.invokeFunction('convertToInteractive',\n",
              "                                                    [key], {});\n",
              "        if (!dataTable) return;\n",
              "\n",
              "        const docLinkHtml = 'Like what you see? Visit the ' +\n",
              "          '<a target=\"_blank\" href=https://colab.research.google.com/notebooks/data_table.ipynb>data table notebook</a>'\n",
              "          + ' to learn more about interactive tables.';\n",
              "        element.innerHTML = '';\n",
              "        dataTable['output_type'] = 'display_data';\n",
              "        await google.colab.output.renderOutput(dataTable, element);\n",
              "        const docLink = document.createElement('div');\n",
              "        docLink.innerHTML = docLinkHtml;\n",
              "        element.appendChild(docLink);\n",
              "      }\n",
              "    </script>\n",
              "  </div>\n",
              "\n",
              "\n",
              "<div id=\"df-7216f98e-0366-47f3-8fba-d6a95dd3b6fe\">\n",
              "  <button class=\"colab-df-quickchart\" onclick=\"quickchart('df-7216f98e-0366-47f3-8fba-d6a95dd3b6fe')\"\n",
              "            title=\"Suggest charts\"\n",
              "            style=\"display:none;\">\n",
              "\n",
              "<svg xmlns=\"http://www.w3.org/2000/svg\" height=\"24px\"viewBox=\"0 0 24 24\"\n",
              "     width=\"24px\">\n",
              "    <g>\n",
              "        <path d=\"M19 3H5c-1.1 0-2 .9-2 2v14c0 1.1.9 2 2 2h14c1.1 0 2-.9 2-2V5c0-1.1-.9-2-2-2zM9 17H7v-7h2v7zm4 0h-2V7h2v10zm4 0h-2v-4h2v4z\"/>\n",
              "    </g>\n",
              "</svg>\n",
              "  </button>\n",
              "\n",
              "<style>\n",
              "  .colab-df-quickchart {\n",
              "      --bg-color: #E8F0FE;\n",
              "      --fill-color: #1967D2;\n",
              "      --hover-bg-color: #E2EBFA;\n",
              "      --hover-fill-color: #174EA6;\n",
              "      --disabled-fill-color: #AAA;\n",
              "      --disabled-bg-color: #DDD;\n",
              "  }\n",
              "\n",
              "  [theme=dark] .colab-df-quickchart {\n",
              "      --bg-color: #3B4455;\n",
              "      --fill-color: #D2E3FC;\n",
              "      --hover-bg-color: #434B5C;\n",
              "      --hover-fill-color: #FFFFFF;\n",
              "      --disabled-bg-color: #3B4455;\n",
              "      --disabled-fill-color: #666;\n",
              "  }\n",
              "\n",
              "  .colab-df-quickchart {\n",
              "    background-color: var(--bg-color);\n",
              "    border: none;\n",
              "    border-radius: 50%;\n",
              "    cursor: pointer;\n",
              "    display: none;\n",
              "    fill: var(--fill-color);\n",
              "    height: 32px;\n",
              "    padding: 0;\n",
              "    width: 32px;\n",
              "  }\n",
              "\n",
              "  .colab-df-quickchart:hover {\n",
              "    background-color: var(--hover-bg-color);\n",
              "    box-shadow: 0 1px 2px rgba(60, 64, 67, 0.3), 0 1px 3px 1px rgba(60, 64, 67, 0.15);\n",
              "    fill: var(--button-hover-fill-color);\n",
              "  }\n",
              "\n",
              "  .colab-df-quickchart-complete:disabled,\n",
              "  .colab-df-quickchart-complete:disabled:hover {\n",
              "    background-color: var(--disabled-bg-color);\n",
              "    fill: var(--disabled-fill-color);\n",
              "    box-shadow: none;\n",
              "  }\n",
              "\n",
              "  .colab-df-spinner {\n",
              "    border: 2px solid var(--fill-color);\n",
              "    border-color: transparent;\n",
              "    border-bottom-color: var(--fill-color);\n",
              "    animation:\n",
              "      spin 1s steps(1) infinite;\n",
              "  }\n",
              "\n",
              "  @keyframes spin {\n",
              "    0% {\n",
              "      border-color: transparent;\n",
              "      border-bottom-color: var(--fill-color);\n",
              "      border-left-color: var(--fill-color);\n",
              "    }\n",
              "    20% {\n",
              "      border-color: transparent;\n",
              "      border-left-color: var(--fill-color);\n",
              "      border-top-color: var(--fill-color);\n",
              "    }\n",
              "    30% {\n",
              "      border-color: transparent;\n",
              "      border-left-color: var(--fill-color);\n",
              "      border-top-color: var(--fill-color);\n",
              "      border-right-color: var(--fill-color);\n",
              "    }\n",
              "    40% {\n",
              "      border-color: transparent;\n",
              "      border-right-color: var(--fill-color);\n",
              "      border-top-color: var(--fill-color);\n",
              "    }\n",
              "    60% {\n",
              "      border-color: transparent;\n",
              "      border-right-color: var(--fill-color);\n",
              "    }\n",
              "    80% {\n",
              "      border-color: transparent;\n",
              "      border-right-color: var(--fill-color);\n",
              "      border-bottom-color: var(--fill-color);\n",
              "    }\n",
              "    90% {\n",
              "      border-color: transparent;\n",
              "      border-bottom-color: var(--fill-color);\n",
              "    }\n",
              "  }\n",
              "</style>\n",
              "\n",
              "  <script>\n",
              "    async function quickchart(key) {\n",
              "      const quickchartButtonEl =\n",
              "        document.querySelector('#' + key + ' button');\n",
              "      quickchartButtonEl.disabled = true;  // To prevent multiple clicks.\n",
              "      quickchartButtonEl.classList.add('colab-df-spinner');\n",
              "      try {\n",
              "        const charts = await google.colab.kernel.invokeFunction(\n",
              "            'suggestCharts', [key], {});\n",
              "      } catch (error) {\n",
              "        console.error('Error during call to suggestCharts:', error);\n",
              "      }\n",
              "      quickchartButtonEl.classList.remove('colab-df-spinner');\n",
              "      quickchartButtonEl.classList.add('colab-df-quickchart-complete');\n",
              "    }\n",
              "    (() => {\n",
              "      let quickchartButtonEl =\n",
              "        document.querySelector('#df-7216f98e-0366-47f3-8fba-d6a95dd3b6fe button');\n",
              "      quickchartButtonEl.style.display =\n",
              "        google.colab.kernel.accessAllowed ? 'block' : 'none';\n",
              "    })();\n",
              "  </script>\n",
              "</div>\n",
              "    </div>\n",
              "  </div>\n"
            ]
          },
          "metadata": {},
          "execution_count": 14
        }
      ]
    },
    {
      "cell_type": "code",
      "source": [
        "# Optimal configuration\n",
        "print(f\"Lowest RMSE: {cv_output.iloc[cv_output['rmse'].idxmin(), 1]}\")\n",
        "print('Congiguration: ')\n",
        "display(cv_output.iloc[cv_output['rmse'].idxmin(), 0])"
      ],
      "metadata": {
        "colab": {
          "base_uri": "https://localhost:8080/",
          "height": 86
        },
        "id": "6mWMrmJO2kgz",
        "outputId": "f8f2f5c2-6f62-433b-a7ef-d7ea2f6d40c1"
      },
      "execution_count": 15,
      "outputs": [
        {
          "output_type": "stream",
          "name": "stdout",
          "text": [
            "Lowest RMSE: 1.21292077429191\n",
            "Congiguration: \n"
          ]
        },
        {
          "output_type": "display_data",
          "data": {
            "text/plain": [
              "{Param(parent='ALS_f305fa9818c1', name='rank', doc='rank of the factorization'): 10,\n",
              " Param(parent='ALS_f305fa9818c1', name='regParam', doc='regularization parameter (>= 0).'): 0.3}"
            ]
          },
          "metadata": {}
        }
      ]
    },
    {
      "cell_type": "markdown",
      "metadata": {
        "id": "JxoaBsfuqtZA"
      },
      "source": [
        "## Evaluation\n",
        "\n",
        "**Key observations:**\n",
        "\n",
        "* Performance of the optimal model (rank: 10, regParam: 0.3) is assessed with the validation set.\n",
        "\n",
        "* It performs better than the baseline model (baseline RMSE: 1.17)"
      ]
    },
    {
      "cell_type": "code",
      "metadata": {
        "id": "AyGpyhVHV5Hn",
        "colab": {
          "base_uri": "https://localhost:8080/"
        },
        "outputId": "40248cc9-572e-428b-bdeb-e45a7849435e"
      },
      "source": [
        "valid_pred = cvModel.transform(valid_DF)\n",
        "rmse = reg_eval.evaluate(valid_pred)\n",
        "print(f\"RMSE: {rmse}\")"
      ],
      "execution_count": 16,
      "outputs": [
        {
          "output_type": "stream",
          "name": "stdout",
          "text": [
            "RMSE: 1.1850722905696298\n"
          ]
        }
      ]
    },
    {
      "cell_type": "markdown",
      "source": [
        "# Cloud training\n",
        "**Key observation:**\n",
        "* The final model will be trained using all available data. This will be achieved using the Google Cloud platform."
      ],
      "metadata": {
        "id": "NOZp9Y4x7kR_"
      }
    },
    {
      "cell_type": "markdown",
      "source": [
        "## Data\n",
        "**Key observation:**\n",
        "* The data is available in csv form. Consequently, the data prep process will need to be adjusted."
      ],
      "metadata": {
        "id": "GQ2emuL6GO6R"
      }
    },
    {
      "cell_type": "code",
      "source": [
        "!wc \"/content/drive/MyDrive/Colab Notebooks/ratings.csv\""
      ],
      "metadata": {
        "colab": {
          "base_uri": "https://localhost:8080/"
        },
        "id": "QRTqqBt9_r2H",
        "outputId": "22d470ab-867c-4737-bc42-6b1bdcbac160"
      },
      "execution_count": 106,
      "outputs": [
        {
          "output_type": "stream",
          "name": "stdout",
          "text": [
            " 100837  100837 2483723 /content/drive/MyDrive/Colab Notebooks/ratings.csv\n"
          ]
        }
      ]
    },
    {
      "cell_type": "code",
      "source": [
        "!head -n 5 \"/content/drive/MyDrive/Colab Notebooks/ratings.csv\""
      ],
      "metadata": {
        "colab": {
          "base_uri": "https://localhost:8080/"
        },
        "id": "-HG7_NAp8b_K",
        "outputId": "614dcb0c-e94a-4167-c91d-c7cb04d56a30"
      },
      "execution_count": 105,
      "outputs": [
        {
          "output_type": "stream",
          "name": "stdout",
          "text": [
            "userId,movieId,rating,timestamp\r\n",
            "1,1,4.0,964982703\r\n",
            "1,3,4.0,964981247\r\n",
            "1,6,4.0,964982224\r\n",
            "1,47,5.0,964983815\r\n"
          ]
        }
      ]
    },
    {
      "cell_type": "markdown",
      "source": [
        "## Training script"
      ],
      "metadata": {
        "id": "F_9KhBYV__7u"
      }
    },
    {
      "cell_type": "code",
      "source": [
        "%%writefile als_model.py\n",
        "import sys\n",
        "from math import sqrt\n",
        "from pyspark import SparkContext\n",
        "from pyspark.sql import SparkSession\n",
        "from pyspark.sql import Row\n",
        "from pyspark.ml.tuning import CrossValidator, ParamGridBuilder\n",
        "from pyspark.ml.evaluation import RegressionEvaluator\n",
        "from pyspark.ml.recommendation import ALS\n",
        "\n",
        "INPUT_PATH = sys.argv[1] # parse file path from command line\n",
        "\n",
        "if __name__ == '__main__':\n",
        "\n",
        "    # Create SparkContext and SparkSession\n",
        "    sc = SparkContext(appName=\"spark-submit demo\")\n",
        "    spark = SparkSession.builder.getOrCreate()\n",
        "\n",
        "    # 1. Training/test data prep\n",
        "    rows = spark.read.csv(INPUT_PATH, header=True).rdd\n",
        "    row_RDD = rows.map(lambda row: Row(userId=int(row[0]), movieId=int(row[1]), rating=float(row[2]), timestamp=int(row[3])))\n",
        "    ratings_DF = spark.createDataFrame(row_RDD)\n",
        "    ratings_DF.createOrReplaceTempView('ratings_DF') # register temporary view enabling SQL queries\n",
        "    (training_DF, test_DF) = ratings_DF.randomSplit([0.8, 0.2])\n",
        "\n",
        "    # 2. Baseline\n",
        "    # Calculate mean rating across all rows in the training set\n",
        "    SQL_query = 'SELECT AVG(rating) FROM ratings_DF'\n",
        "    row_baseline = spark.sql(SQL_query).first() # query returns dataframe with only 1 row\n",
        "    baseline = row_baseline['avg(rating)'] # access via dictionary\n",
        "\n",
        "    # Calculate squared error for each row in the validation set\n",
        "    se_RDD = valid_DF.rdd.map(lambda row: Row(se=pow(row['rating']-baseline, 2)))\n",
        "    se_DF = spark.createDataFrame(se_RDD)\n",
        "    se_DF.createOrReplaceTempView('se_DF') # register temporary view enabling SQL queries\n",
        "\n",
        "    # Calculate RMSE\n",
        "    SQL_query = 'SELECT AVG(se) FROM se_DF'\n",
        "    row_avg = spark.sql(SQL_query).first() # query returns dataframe with only 1 row\n",
        "    MSE = row_avg['avg(se)'] # access via dictionary\n",
        "    print(f\"Baseline RMSE: {sqrt(MSE)}\")\n",
        "\n",
        "    # 3. Hyperparameter tuning\n",
        "    # Source: https://spark.apache.org/docs/latest/api/python/reference/api/pyspark.ml.tuning.ParamGridBuilder.html#pyspark.ml.tuning.ParamGridBuilder\n",
        "    # Source: https://spark.apache.org/docs/latest/api/python/reference/api/pyspark.ml.evaluation.RegressionEvaluator.html#pyspark.ml.evaluation.RegressionEvaluator\n",
        "    # Source: https://spark.apache.org/docs/latest/api/python/reference/api/pyspark.ml.tuning.CrossValidator.html\n",
        "\n",
        "    als = ALS(maxIter=5, rank=5, regParam=0.1, userCol=\"userId\", itemCol=\"movieId\", ratingCol=\"rating\") # ALS estimator\n",
        "    param_grid = ParamGridBuilder().addGrid(als.rank, [1, 3, 10]).addGrid(als.regParam, [0.01, 0.03, 0.1, 0.3, 1]).build() # parameter grid\n",
        "    reg_eval = RegressionEvaluator(metricName=\"rmse\", labelCol=\"rating\", predictionCol=\"prediction\") # regression evaluator\n",
        "    k=3\n",
        "    kfold_cv = CrossValidator(estimator=als, estimatorParamMaps=param_grid, evaluator=reg_eval, numFolds=k) # k-fold cross validation\n",
        "    cvModel = kfold_cv.fit(training_DF)\n",
        "\n",
        "    # 4. Evaluation\n",
        "    param_map = zip(cvModel.getEstimatorParamMaps(), cvModel.avgMetrics)\n",
        "    param_min = min(paramMap, key=lambda x: x[1])\n",
        "    print(f\"Optimal configuration: {param_min}\")\n",
        "    test_pred = cvModel.transform(test_DF)\n",
        "    rmse = regEval.evaluate(test_pred)\n",
        "    print(f\"RMSE: {rmse}\")\n",
        "\n",
        "    # Shutdown Spark context\n",
        "    sc.stop()"
      ],
      "metadata": {
        "id": "4Tj00m8S__BK"
      },
      "execution_count": null,
      "outputs": []
    },
    {
      "cell_type": "markdown",
      "source": [
        "## Google Cloud"
      ],
      "metadata": {
        "id": "4Z6_CPk_GrqH"
      }
    },
    {
      "cell_type": "markdown",
      "source": [
        "### Authentication"
      ],
      "metadata": {
        "id": "Fo5YBHzxGESg"
      }
    },
    {
      "cell_type": "code",
      "source": [
        "import sys\n",
        "if 'google.colab' in sys.modules:\n",
        "    from google.colab import auth\n",
        "    auth.authenticate_user()"
      ],
      "metadata": {
        "id": "2ir8EgB6GDXG"
      },
      "execution_count": null,
      "outputs": []
    },
    {
      "cell_type": "markdown",
      "source": [
        "### Project configuration"
      ],
      "metadata": {
        "id": "G_aq5HRsFQ9z"
      }
    },
    {
      "cell_type": "code",
      "source": [
        "PROJECT = 'bd-lab-6-test' # Project ID\n",
        "!gcloud config set project $PROJECT\n",
        "REGION = 'us-central1'\n",
        "!gcloud config set compute/region $REGION\n",
        "!gcloud config set dataproc/region $REGION\n",
        "!echo \"gcloud config list\"\n",
        "!gcloud config list # show some information"
      ],
      "metadata": {
        "id": "kxM_VZudFQYP"
      },
      "execution_count": null,
      "outputs": []
    },
    {
      "cell_type": "markdown",
      "source": [
        "### Data upload"
      ],
      "metadata": {
        "id": "VmIbbUV0F2ZL"
      }
    },
    {
      "cell_type": "code",
      "source": [
        "# Create storage bucket\n",
        "BUCKET = 'gs://{}-storage'.format(PROJECT)\n",
        "!gsutil mb $BUCKET\n",
        "print(BUCKET)"
      ],
      "metadata": {
        "id": "BxPtrMguF7BO"
      },
      "execution_count": null,
      "outputs": []
    },
    {
      "cell_type": "code",
      "source": [
        "# Copy data to storage bucket\n",
        "FILEPATH = \"/content/drive/MyDrive/Colab Notebooks/ratings.csv\"\n",
        "!gsutil -m cp $FILEPATH $BUCKET\n",
        "BUCKET_PATH = BUCKET+'/ratings.csv'\n",
        "print(BUCKET_PATH)"
      ],
      "metadata": {
        "id": "XEUCs1BXG9co"
      },
      "execution_count": null,
      "outputs": []
    },
    {
      "cell_type": "markdown",
      "source": [
        "### Cluster creation\n",
        "Note:\n",
        "* Creating the cluster can take a while. You can stop the execution of this cell and the process will still continue in the cloud. Have a look at the Cloud console to see your cluster being provisioned."
      ],
      "metadata": {
        "id": "K1u9rO2oHY2r"
      }
    },
    {
      "cell_type": "code",
      "source": [
        "CLUSTER = '{}-cluster'.format(PROJECT)\n",
        "!gcloud dataproc clusters create $CLUSTER \\\n",
        "    --image-version 1.4-ubuntu18 --single-node \\\n",
        "    --master-machine-type n1-standard-2 \\\n",
        "    --master-boot-disk-type pd-ssd --master-boot-disk-size 100 \\\n",
        "    --max-idle 3600s"
      ],
      "metadata": {
        "id": "fAm2dHKnHac4"
      },
      "execution_count": null,
      "outputs": []
    },
    {
      "cell_type": "markdown",
      "source": [
        "### Job submission"
      ],
      "metadata": {
        "id": "NVnOiY3_HgJs"
      }
    },
    {
      "cell_type": "code",
      "metadata": {
        "id": "oekh5_iAtYYg"
      },
      "source": [
        "!gcloud dataproc jobs submit pyspark --cluster $CLUSTER ./als_model.py -- $BUCKET_PATH"
      ],
      "execution_count": null,
      "outputs": []
    }
  ]
}